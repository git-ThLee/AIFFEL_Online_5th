{
 "cells": [
  {
   "cell_type": "markdown",
   "id": "f98b268e",
   "metadata": {},
   "source": [
    "# STEP 1. NSMC 데이터 분석 및 Huggingface dataset 구성"
   ]
  },
  {
   "cell_type": "code",
   "execution_count": 160,
   "id": "843ead1f",
   "metadata": {},
   "outputs": [
    {
     "name": "stderr",
     "output_type": "stream",
     "text": [
      "Using custom data configuration default\n",
      "Reusing dataset nsmc (/aiffel/.cache/huggingface/datasets/nsmc/default/1.1.0/bfd4729bf1a67114e5267e6916b9e4807010aeb238e4a3c2b95fbfa3a014b5f3)\n"
     ]
    },
    {
     "data": {
      "application/vnd.jupyter.widget-view+json": {
       "model_id": "a9df31644e1a47cabf4dd037e063b508",
       "version_major": 2,
       "version_minor": 0
      },
      "text/plain": [
       "  0%|          | 0/2 [00:00<?, ?it/s]"
      ]
     },
     "metadata": {},
     "output_type": "display_data"
    },
    {
     "name": "stdout",
     "output_type": "stream",
     "text": [
      "DatasetDict({\n",
      "    train: Dataset({\n",
      "        features: ['id', 'document', 'label'],\n",
      "        num_rows: 150000\n",
      "    })\n",
      "    test: Dataset({\n",
      "        features: ['id', 'document', 'label'],\n",
      "        num_rows: 50000\n",
      "    })\n",
      "})\n"
     ]
    }
   ],
   "source": [
    "import datasets\n",
    "from datasets import load_dataset\n",
    "\n",
    "dataset = load_dataset(\"nsmc\")\n",
    "print(dataset)"
   ]
  },
  {
   "cell_type": "code",
   "execution_count": 161,
   "id": "86e69064",
   "metadata": {},
   "outputs": [
    {
     "data": {
      "text/plain": [
       "'아 더빙.. 진짜 짜증나네요 목소리'"
      ]
     },
     "execution_count": 161,
     "metadata": {},
     "output_type": "execute_result"
    }
   ],
   "source": [
    "dataset['train']['document'][0]"
   ]
  },
  {
   "cell_type": "code",
   "execution_count": 162,
   "id": "c6381d83",
   "metadata": {},
   "outputs": [
    {
     "name": "stderr",
     "output_type": "stream",
     "text": [
      "/opt/conda/lib/python3.9/site-packages/matplotlib/backends/backend_agg.py:240: RuntimeWarning: Glyph 54620 missing from current font.\n",
      "  font.set_text(s, 0.0, flags=flags)\n",
      "/opt/conda/lib/python3.9/site-packages/matplotlib/backends/backend_agg.py:240: RuntimeWarning: Glyph 44544 missing from current font.\n",
      "  font.set_text(s, 0.0, flags=flags)\n",
      "/opt/conda/lib/python3.9/site-packages/matplotlib/backends/backend_agg.py:240: RuntimeWarning: Glyph 53581 missing from current font.\n",
      "  font.set_text(s, 0.0, flags=flags)\n",
      "/opt/conda/lib/python3.9/site-packages/matplotlib/backends/backend_agg.py:240: RuntimeWarning: Glyph 49828 missing from current font.\n",
      "  font.set_text(s, 0.0, flags=flags)\n",
      "/opt/conda/lib/python3.9/site-packages/matplotlib/backends/backend_agg.py:240: RuntimeWarning: Glyph 53944 missing from current font.\n",
      "  font.set_text(s, 0.0, flags=flags)\n",
      "/opt/conda/lib/python3.9/site-packages/matplotlib/backends/backend_agg.py:240: RuntimeWarning: Glyph 44600 missing from current font.\n",
      "  font.set_text(s, 0.0, flags=flags)\n",
      "/opt/conda/lib/python3.9/site-packages/matplotlib/backends/backend_agg.py:240: RuntimeWarning: Glyph 51060 missing from current font.\n",
      "  font.set_text(s, 0.0, flags=flags)\n",
      "/opt/conda/lib/python3.9/site-packages/matplotlib/backends/backend_agg.py:240: RuntimeWarning: Glyph 48516 missing from current font.\n",
      "  font.set_text(s, 0.0, flags=flags)\n",
      "/opt/conda/lib/python3.9/site-packages/matplotlib/backends/backend_agg.py:240: RuntimeWarning: Glyph 54252 missing from current font.\n",
      "  font.set_text(s, 0.0, flags=flags)\n",
      "/opt/conda/lib/python3.9/site-packages/matplotlib/backends/backend_agg.py:203: RuntimeWarning: Glyph 54620 missing from current font.\n",
      "  font.set_text(s, 0, flags=flags)\n",
      "/opt/conda/lib/python3.9/site-packages/matplotlib/backends/backend_agg.py:203: RuntimeWarning: Glyph 44544 missing from current font.\n",
      "  font.set_text(s, 0, flags=flags)\n",
      "/opt/conda/lib/python3.9/site-packages/matplotlib/backends/backend_agg.py:203: RuntimeWarning: Glyph 53581 missing from current font.\n",
      "  font.set_text(s, 0, flags=flags)\n",
      "/opt/conda/lib/python3.9/site-packages/matplotlib/backends/backend_agg.py:203: RuntimeWarning: Glyph 49828 missing from current font.\n",
      "  font.set_text(s, 0, flags=flags)\n",
      "/opt/conda/lib/python3.9/site-packages/matplotlib/backends/backend_agg.py:203: RuntimeWarning: Glyph 53944 missing from current font.\n",
      "  font.set_text(s, 0, flags=flags)\n",
      "/opt/conda/lib/python3.9/site-packages/matplotlib/backends/backend_agg.py:203: RuntimeWarning: Glyph 44600 missing from current font.\n",
      "  font.set_text(s, 0, flags=flags)\n",
      "/opt/conda/lib/python3.9/site-packages/matplotlib/backends/backend_agg.py:203: RuntimeWarning: Glyph 51060 missing from current font.\n",
      "  font.set_text(s, 0, flags=flags)\n",
      "/opt/conda/lib/python3.9/site-packages/matplotlib/backends/backend_agg.py:203: RuntimeWarning: Glyph 48516 missing from current font.\n",
      "  font.set_text(s, 0, flags=flags)\n",
      "/opt/conda/lib/python3.9/site-packages/matplotlib/backends/backend_agg.py:203: RuntimeWarning: Glyph 54252 missing from current font.\n",
      "  font.set_text(s, 0, flags=flags)\n"
     ]
    },
    {
     "data": {
      "image/png": "[encoded data removed]",
      "text/plain": [
       "<Figure size 720x432 with 1 Axes>"
      ]
     },
     "metadata": {
      "needs_background": "light"
     },
     "output_type": "display_data"
    }
   ],
   "source": [
    "# train 데이터셋에서 'document' 열 추출\n",
    "documents = dataset[\"train\"][\"document\"]\n",
    "\n",
    "# 한글 텍스트의 길이 측정\n",
    "text_lengths = [len(text) for text in documents]\n",
    "\n",
    "# 길이 분포 시각화\n",
    "plt.figure(figsize=(10, 6))\n",
    "plt.hist(text_lengths, bins=50, color='blue', alpha=0.7)\n",
    "plt.title('한글 텍스트 길이 분포')\n",
    "plt.xlabel('length')\n",
    "plt.ylabel('count')\n",
    "plt.show()"
   ]
  },
  {
   "cell_type": "code",
   "execution_count": 163,
   "id": "33f1d575",
   "metadata": {},
   "outputs": [
    {
     "name": "stdout",
     "output_type": "stream",
     "text": [
      "75173\n",
      "74827\n"
     ]
    }
   ],
   "source": [
    "print(dataset[\"train\"][\"label\"].count(0))\n",
    "print(dataset[\"train\"][\"label\"].count(1))"
   ]
  },
  {
   "cell_type": "markdown",
   "id": "813bd6a3",
   "metadata": {},
   "source": [
    "# STEP 2. klue/bert-base model 및 tokenizer 불러오기"
   ]
  },
  {
   "cell_type": "code",
   "execution_count": 164,
   "id": "a358018b",
   "metadata": {
    "scrolled": true
   },
   "outputs": [
    {
     "name": "stderr",
     "output_type": "stream",
     "text": [
      "loading configuration file https://huggingface.co/klue/bert-base/resolve/main/config.json from cache at /aiffel/.cache/huggingface/transformers/fbd0b2ef898c4653902683fea8cc0dd99bf43f0e082645b913cda3b92429d1bb.99b3298ed554f2ad731c27cdb11a6215f39b90bc845ff5ce709bb4e74ba45621\n",
      "Model config BertConfig {\n",
      "  \"architectures\": [\n",
      "    \"BertForMaskedLM\"\n",
      "  ],\n",
      "  \"attention_probs_dropout_prob\": 0.1,\n",
      "  \"classifier_dropout\": null,\n",
      "  \"hidden_act\": \"gelu\",\n",
      "  \"hidden_dropout_prob\": 0.1,\n",
      "  \"hidden_size\": 768,\n",
      "  \"initializer_range\": 0.02,\n",
      "  \"intermediate_size\": 3072,\n",
      "  \"layer_norm_eps\": 1e-12,\n",
      "  \"max_position_embeddings\": 512,\n",
      "  \"model_type\": \"bert\",\n",
      "  \"num_attention_heads\": 12,\n",
      "  \"num_hidden_layers\": 12,\n",
      "  \"pad_token_id\": 0,\n",
      "  \"position_embedding_type\": \"absolute\",\n",
      "  \"transformers_version\": \"4.11.3\",\n",
      "  \"type_vocab_size\": 2,\n",
      "  \"use_cache\": true,\n",
      "  \"vocab_size\": 32000\n",
      "}\n",
      "\n",
      "loading file https://huggingface.co/klue/bert-base/resolve/main/vocab.txt from cache at /aiffel/.cache/huggingface/transformers/1a36e69d48a008e522b75e43693002ffc8b6e6df72de7c53412c23466ec165eb.085110015ec67fc02ad067f712a7c83aafefaf31586a3361dd800bcac635b456\n",
      "loading file https://huggingface.co/klue/bert-base/resolve/main/tokenizer.json from cache at /aiffel/.cache/huggingface/transformers/310a974e892b181d75eed58b545cc0592d066ae4ef35cc760ea92e9b0bf65b3b.74f7933572f937b11a02b2cfb4e88a024059be36c84f53241b85b1fec49e21f7\n",
      "loading file https://huggingface.co/klue/bert-base/resolve/main/added_tokens.json from cache at None\n",
      "loading file https://huggingface.co/klue/bert-base/resolve/main/special_tokens_map.json from cache at /aiffel/.cache/huggingface/transformers/aeaaa3afd086a040be912f92ffe7b5f85008b744624f4517c4216bcc32b51cf0.054ece8d16bd524c8a00f0e8a976c00d5de22a755ffb79e353ee2954d9289e26\n",
      "loading file https://huggingface.co/klue/bert-base/resolve/main/tokenizer_config.json from cache at /aiffel/.cache/huggingface/transformers/f8f71eb411bb03f57b455cfb1b4e04ae124201312e67a3ad66e0a92d0c228325.78871951edcb66032caa0a9628d77b3557c23616c653dacdb7a1a8f33011a843\n",
      "loading configuration file https://huggingface.co/klue/bert-base/resolve/main/config.json from cache at /aiffel/.cache/huggingface/transformers/fbd0b2ef898c4653902683fea8cc0dd99bf43f0e082645b913cda3b92429d1bb.99b3298ed554f2ad731c27cdb11a6215f39b90bc845ff5ce709bb4e74ba45621\n",
      "Model config BertConfig {\n",
      "  \"architectures\": [\n",
      "    \"BertForMaskedLM\"\n",
      "  ],\n",
      "  \"attention_probs_dropout_prob\": 0.1,\n",
      "  \"classifier_dropout\": null,\n",
      "  \"hidden_act\": \"gelu\",\n",
      "  \"hidden_dropout_prob\": 0.1,\n",
      "  \"hidden_size\": 768,\n",
      "  \"initializer_range\": 0.02,\n",
      "  \"intermediate_size\": 3072,\n",
      "  \"layer_norm_eps\": 1e-12,\n",
      "  \"max_position_embeddings\": 512,\n",
      "  \"model_type\": \"bert\",\n",
      "  \"num_attention_heads\": 12,\n",
      "  \"num_hidden_layers\": 12,\n",
      "  \"pad_token_id\": 0,\n",
      "  \"position_embedding_type\": \"absolute\",\n",
      "  \"transformers_version\": \"4.11.3\",\n",
      "  \"type_vocab_size\": 2,\n",
      "  \"use_cache\": true,\n",
      "  \"vocab_size\": 32000\n",
      "}\n",
      "\n",
      "loading configuration file https://huggingface.co/klue/bert-base/resolve/main/config.json from cache at /aiffel/.cache/huggingface/transformers/fbd0b2ef898c4653902683fea8cc0dd99bf43f0e082645b913cda3b92429d1bb.99b3298ed554f2ad731c27cdb11a6215f39b90bc845ff5ce709bb4e74ba45621\n",
      "Model config BertConfig {\n",
      "  \"architectures\": [\n",
      "    \"BertForMaskedLM\"\n",
      "  ],\n",
      "  \"attention_probs_dropout_prob\": 0.1,\n",
      "  \"classifier_dropout\": null,\n",
      "  \"hidden_act\": \"gelu\",\n",
      "  \"hidden_dropout_prob\": 0.1,\n",
      "  \"hidden_size\": 768,\n",
      "  \"initializer_range\": 0.02,\n",
      "  \"intermediate_size\": 3072,\n",
      "  \"layer_norm_eps\": 1e-12,\n",
      "  \"max_position_embeddings\": 512,\n",
      "  \"model_type\": \"bert\",\n",
      "  \"num_attention_heads\": 12,\n",
      "  \"num_hidden_layers\": 12,\n",
      "  \"pad_token_id\": 0,\n",
      "  \"position_embedding_type\": \"absolute\",\n",
      "  \"transformers_version\": \"4.11.3\",\n",
      "  \"type_vocab_size\": 2,\n",
      "  \"use_cache\": true,\n",
      "  \"vocab_size\": 32000\n",
      "}\n",
      "\n",
      "loading weights file https://huggingface.co/klue/bert-base/resolve/main/pytorch_model.bin from cache at /aiffel/.cache/huggingface/transformers/05b36ee62545d769939a7746eca739b844a40a7a7553700f110b58b28ed6a949.7cb231256a5dbe886e12b902d05cb1241f330d8c19428508f91b2b28c1cfe0b6\n",
      "Some weights of the model checkpoint at klue/bert-base were not used when initializing BertForSequenceClassification: ['cls.predictions.bias', 'cls.seq_relationship.bias', 'cls.predictions.transform.LayerNorm.bias', 'cls.predictions.transform.LayerNorm.weight', 'cls.predictions.transform.dense.weight', 'cls.predictions.decoder.weight', 'cls.predictions.transform.dense.bias', 'cls.seq_relationship.weight', 'cls.predictions.decoder.bias']\n",
      "- This IS expected if you are initializing BertForSequenceClassification from the checkpoint of a model trained on another task or with another architecture (e.g. initializing a BertForSequenceClassification model from a BertForPreTraining model).\n",
      "- This IS NOT expected if you are initializing BertForSequenceClassification from the checkpoint of a model that you expect to be exactly identical (initializing a BertForSequenceClassification model from a BertForSequenceClassification model).\n",
      "Some weights of BertForSequenceClassification were not initialized from the model checkpoint at klue/bert-base and are newly initialized: ['classifier.weight', 'classifier.bias']\n",
      "You should probably TRAIN this model on a down-stream task to be able to use it for predictions and inference.\n"
     ]
    }
   ],
   "source": [
    "import transformers\n",
    "from transformers import AutoTokenizer, AutoModelForSequenceClassification\n",
    "\n",
    "model_name = 'klue/bert-base'\n",
    "\n",
    "tokenizer = AutoTokenizer.from_pretrained(model_name)\n",
    "model = AutoModelForSequenceClassification.from_pretrained(model_name, num_labels = 2)"
   ]
  },
  {
   "cell_type": "markdown",
   "id": "352d25fc",
   "metadata": {},
   "source": [
    "# STEP 3. 위에서 불러온 tokenizer으로 데이터셋을 전처리하고, model 학습 진행해 보기"
   ]
  },
  {
   "cell_type": "markdown",
   "id": "a7d10082",
   "metadata": {},
   "source": [
    "# STEP 4. Fine-tuning을 통하여 모델 성능(accuarcy) 향상시키기\n",
    "\n",
    "- 데이터 전처리, TrainingArguments 등을 조정하여 모델의 정확도를 90% 이상으로 끌어올려봅시다."
   ]
  },
  {
   "cell_type": "code",
   "execution_count": 165,
   "id": "7c3f338c",
   "metadata": {},
   "outputs": [
    {
     "name": "stderr",
     "output_type": "stream",
     "text": [
      "Loading cached processed dataset at /aiffel/.cache/huggingface/datasets/nsmc/default/1.1.0/bfd4729bf1a67114e5267e6916b9e4807010aeb238e4a3c2b95fbfa3a014b5f3/cache-12f6fa2c5c3ecf71.arrow\n",
      "Loading cached processed dataset at /aiffel/.cache/huggingface/datasets/nsmc/default/1.1.0/bfd4729bf1a67114e5267e6916b9e4807010aeb238e4a3c2b95fbfa3a014b5f3/cache-d97d4642b1141e81.arrow\n"
     ]
    },
    {
     "data": {
      "text/plain": [
       "DatasetDict({\n",
       "    train: Dataset({\n",
       "        features: ['attention_mask', 'document', 'id', 'input_ids', 'label'],\n",
       "        num_rows: 150000\n",
       "    })\n",
       "    test: Dataset({\n",
       "        features: ['attention_mask', 'document', 'id', 'input_ids', 'label'],\n",
       "        num_rows: 50000\n",
       "    })\n",
       "})"
      ]
     },
     "execution_count": 165,
     "metadata": {},
     "output_type": "execute_result"
    }
   ],
   "source": [
    "def transform(data):\n",
    "    return tokenizer(\n",
    "        data['document'],\n",
    "        truncation = True,\n",
    "        padding = 'max_length',\n",
    "        max_length = 40, # 140\n",
    "        return_token_type_ids = False,\n",
    "        )\n",
    "dataset = dataset.map(transform, batched=True)\n",
    "dataset"
   ]
  },
  {
   "cell_type": "code",
   "execution_count": 166,
   "id": "6afd0329",
   "metadata": {},
   "outputs": [],
   "source": [
    "# # 데이터 100개만 사용 \n",
    "# data_cnt = 6000\n",
    "# dateset_100 = dataset['train'].select(range(data_cnt))\n",
    "# dataset['train'] = dateset_100\n",
    "# dataset"
   ]
  },
  {
   "cell_type": "code",
   "execution_count": 167,
   "id": "60ee3edf",
   "metadata": {},
   "outputs": [
    {
     "data": {
      "text/plain": [
       "140"
      ]
     },
     "execution_count": 167,
     "metadata": {},
     "output_type": "execute_result"
    }
   ],
   "source": [
    "# 토큰 길이 : paading 포함\n",
    "len(dateset_100['input_ids'][0])"
   ]
  },
  {
   "cell_type": "code",
   "execution_count": 168,
   "id": "0ab2f38b",
   "metadata": {},
   "outputs": [
    {
     "name": "stderr",
     "output_type": "stream",
     "text": [
      "Loading cached shuffled indices for dataset at /aiffel/.cache/huggingface/datasets/nsmc/default/1.1.0/bfd4729bf1a67114e5267e6916b9e4807010aeb238e4a3c2b95fbfa3a014b5f3/cache-1ee25a1d2486862c.arrow\n",
      "Loading cached shuffled indices for dataset at /aiffel/.cache/huggingface/datasets/nsmc/default/1.1.0/bfd4729bf1a67114e5267e6916b9e4807010aeb238e4a3c2b95fbfa3a014b5f3/cache-1ee25a1d2486862c.arrow\n"
     ]
    },
    {
     "name": "stdout",
     "output_type": "stream",
     "text": [
      "120000\n",
      "30000\n",
      "50000\n"
     ]
    }
   ],
   "source": [
    "# train val 나누기\n",
    "train_dataset = dataset['train'].shuffle(seed=42).select(range(int(len(dataset['train'])*0.8)))\n",
    "valid_dataset = dataset['train'].shuffle(seed=42).select(range(int(len(dataset['train'])*0.8),len(dataset['train'])))\n",
    "\n",
    "# test\n",
    "test_dataset = dataset['test']\n",
    "\n",
    "print(len(train_dataset))\n",
    "print(len(valid_dataset))\n",
    "print(len(test_dataset))"
   ]
  },
  {
   "cell_type": "code",
   "execution_count": 169,
   "id": "764bf4f4",
   "metadata": {},
   "outputs": [
    {
     "name": "stderr",
     "output_type": "stream",
     "text": [
      "PyTorch: setting up devices\n",
      "The default value for the training argument `--report_to` will change in v5 (from all installed integrations to none). In v5, you will need to use `--report_to all` to get the same behavior as now. You should start updating your code and make this info disappear :-).\n"
     ]
    }
   ],
   "source": [
    "import os\n",
    "import numpy as np\n",
    "from transformers import Trainer, TrainingArguments\n",
    "\n",
    "output_dir = os.getenv('HOME')+'/aiffel/huggingface/checkpoint_alldata_maxlen40'\n",
    "\n",
    "training_arguments = TrainingArguments(\n",
    "    output_dir,                                         # output이 저장될 경로\n",
    "    evaluation_strategy=\"epoch\",           #evaluation하는 빈도\n",
    "    learning_rate = 2e-5,                         #learning_rate\n",
    "    per_device_train_batch_size = 4,   # 각 device 당 batch size\n",
    "    per_device_eval_batch_size = 4,    # evaluation 시에 batch size\n",
    "    num_train_epochs = 1,                     # train 시킬 총 epochs\n",
    "    weight_decay = 0.01,                        # weight decay\n",
    "    save_steps = 1000,  # 원하는 체크포인트 저장 간격 설정 (예: 100, 200 등)\n",
    "    save_total_limit=5,\n",
    "\n",
    ")"
   ]
  },
  {
   "cell_type": "code",
   "execution_count": 170,
   "id": "be81529f",
   "metadata": {},
   "outputs": [],
   "source": [
    "from datasets import load_metric\n",
    "metric = load_metric('glue', 'mrpc')\n",
    "\n",
    "def compute_metrics(eval_pred):    \n",
    "    predictions,labels = eval_pred\n",
    "    predictions = np.argmax(predictions, axis=1)\n",
    "    return metric.compute(predictions=predictions, references = labels)"
   ]
  },
  {
   "cell_type": "code",
   "execution_count": 171,
   "id": "8ad5ab14",
   "metadata": {},
   "outputs": [
    {
     "data": {
      "text/plain": [
       "6006"
      ]
     },
     "execution_count": 171,
     "metadata": {},
     "output_type": "execute_result"
    }
   ],
   "source": [
    "import torch\n",
    "torch.cuda.empty_cache()\n",
    "\n",
    "import gc\n",
    "gc.collect()"
   ]
  },
  {
   "cell_type": "code",
   "execution_count": 158,
   "id": "89a9e005",
   "metadata": {
    "scrolled": true
   },
   "outputs": [
    {
     "name": "stderr",
     "output_type": "stream",
     "text": [
      "The following columns in the training set  don't have a corresponding argument in `BertForSequenceClassification.forward` and have been ignored: id, document.\n",
      "***** Running training *****\n",
      "  Num examples = 120000\n",
      "  Num Epochs = 1\n",
      "  Instantaneous batch size per device = 4\n",
      "  Total train batch size (w. parallel, distributed & accumulation) = 4\n",
      "  Gradient Accumulation steps = 1\n",
      "  Total optimization steps = 30000\n"
     ]
    },
    {
     "data": {
      "text/html": [
       "\n",
       "    <div>\n",
       "      \n",
       "      <progress value='30000' max='30000' style='width:300px; height:20px; vertical-align: middle;'></progress>\n",
       "      [30000/30000 45:20, Epoch 1/1]\n",
       "    </div>\n",
       "    <table border=\"1\" class=\"dataframe\">\n",
       "  <thead>\n",
       "    <tr style=\"text-align: left;\">\n",
       "      <th>Epoch</th>\n",
       "      <th>Training Loss</th>\n",
       "      <th>Validation Loss</th>\n",
       "      <th>Accuracy</th>\n",
       "      <th>F1</th>\n",
       "    </tr>\n",
       "  </thead>\n",
       "  <tbody>\n",
       "    <tr>\n",
       "      <td>1</td>\n",
       "      <td>0.394100</td>\n",
       "      <td>0.397361</td>\n",
       "      <td>0.897433</td>\n",
       "      <td>0.897238</td>\n",
       "    </tr>\n",
       "  </tbody>\n",
       "</table><p>"
      ],
      "text/plain": [
       "<IPython.core.display.HTML object>"
      ]
     },
     "metadata": {},
     "output_type": "display_data"
    },
    {
     "name": "stderr",
     "output_type": "stream",
     "text": [
      "Saving model checkpoint to /aiffel/aiffel/huggingface/checkpoint_alldata_maxlen40/checkpoint-1000\n",
      "Configuration saved in /aiffel/aiffel/huggingface/checkpoint_alldata_maxlen40/checkpoint-1000/config.json\n",
      "Model weights saved in /aiffel/aiffel/huggingface/checkpoint_alldata_maxlen40/checkpoint-1000/pytorch_model.bin\n",
      "Saving model checkpoint to /aiffel/aiffel/huggingface/checkpoint_alldata_maxlen40/checkpoint-2000\n",
      "Configuration saved in /aiffel/aiffel/huggingface/checkpoint_alldata_maxlen40/checkpoint-2000/config.json\n",
      "Model weights saved in /aiffel/aiffel/huggingface/checkpoint_alldata_maxlen40/checkpoint-2000/pytorch_model.bin\n",
      "Saving model checkpoint to /aiffel/aiffel/huggingface/checkpoint_alldata_maxlen40/checkpoint-3000\n",
      "Configuration saved in /aiffel/aiffel/huggingface/checkpoint_alldata_maxlen40/checkpoint-3000/config.json\n",
      "Model weights saved in /aiffel/aiffel/huggingface/checkpoint_alldata_maxlen40/checkpoint-3000/pytorch_model.bin\n",
      "Saving model checkpoint to /aiffel/aiffel/huggingface/checkpoint_alldata_maxlen40/checkpoint-4000\n",
      "Configuration saved in /aiffel/aiffel/huggingface/checkpoint_alldata_maxlen40/checkpoint-4000/config.json\n",
      "Model weights saved in /aiffel/aiffel/huggingface/checkpoint_alldata_maxlen40/checkpoint-4000/pytorch_model.bin\n",
      "Saving model checkpoint to /aiffel/aiffel/huggingface/checkpoint_alldata_maxlen40/checkpoint-5000\n",
      "Configuration saved in /aiffel/aiffel/huggingface/checkpoint_alldata_maxlen40/checkpoint-5000/config.json\n",
      "Model weights saved in /aiffel/aiffel/huggingface/checkpoint_alldata_maxlen40/checkpoint-5000/pytorch_model.bin\n",
      "Saving model checkpoint to /aiffel/aiffel/huggingface/checkpoint_alldata_maxlen40/checkpoint-6000\n",
      "Configuration saved in /aiffel/aiffel/huggingface/checkpoint_alldata_maxlen40/checkpoint-6000/config.json\n",
      "Model weights saved in /aiffel/aiffel/huggingface/checkpoint_alldata_maxlen40/checkpoint-6000/pytorch_model.bin\n",
      "Deleting older checkpoint [/aiffel/aiffel/huggingface/checkpoint_alldata_maxlen40/checkpoint-1000] due to args.save_total_limit\n",
      "Saving model checkpoint to /aiffel/aiffel/huggingface/checkpoint_alldata_maxlen40/checkpoint-7000\n",
      "Configuration saved in /aiffel/aiffel/huggingface/checkpoint_alldata_maxlen40/checkpoint-7000/config.json\n",
      "Model weights saved in /aiffel/aiffel/huggingface/checkpoint_alldata_maxlen40/checkpoint-7000/pytorch_model.bin\n",
      "Deleting older checkpoint [/aiffel/aiffel/huggingface/checkpoint_alldata_maxlen40/checkpoint-2000] due to args.save_total_limit\n",
      "Saving model checkpoint to /aiffel/aiffel/huggingface/checkpoint_alldata_maxlen40/checkpoint-8000\n",
      "Configuration saved in /aiffel/aiffel/huggingface/checkpoint_alldata_maxlen40/checkpoint-8000/config.json\n",
      "Model weights saved in /aiffel/aiffel/huggingface/checkpoint_alldata_maxlen40/checkpoint-8000/pytorch_model.bin\n",
      "Deleting older checkpoint [/aiffel/aiffel/huggingface/checkpoint_alldata_maxlen40/checkpoint-3000] due to args.save_total_limit\n",
      "Saving model checkpoint to /aiffel/aiffel/huggingface/checkpoint_alldata_maxlen40/checkpoint-9000\n",
      "Configuration saved in /aiffel/aiffel/huggingface/checkpoint_alldata_maxlen40/checkpoint-9000/config.json\n",
      "Model weights saved in /aiffel/aiffel/huggingface/checkpoint_alldata_maxlen40/checkpoint-9000/pytorch_model.bin\n",
      "Deleting older checkpoint [/aiffel/aiffel/huggingface/checkpoint_alldata_maxlen40/checkpoint-4000] due to args.save_total_limit\n",
      "Saving model checkpoint to /aiffel/aiffel/huggingface/checkpoint_alldata_maxlen40/checkpoint-10000\n",
      "Configuration saved in /aiffel/aiffel/huggingface/checkpoint_alldata_maxlen40/checkpoint-10000/config.json\n",
      "Model weights saved in /aiffel/aiffel/huggingface/checkpoint_alldata_maxlen40/checkpoint-10000/pytorch_model.bin\n",
      "Deleting older checkpoint [/aiffel/aiffel/huggingface/checkpoint_alldata_maxlen40/checkpoint-5000] due to args.save_total_limit\n",
      "Saving model checkpoint to /aiffel/aiffel/huggingface/checkpoint_alldata_maxlen40/checkpoint-11000\n",
      "Configuration saved in /aiffel/aiffel/huggingface/checkpoint_alldata_maxlen40/checkpoint-11000/config.json\n",
      "Model weights saved in /aiffel/aiffel/huggingface/checkpoint_alldata_maxlen40/checkpoint-11000/pytorch_model.bin\n",
      "Deleting older checkpoint [/aiffel/aiffel/huggingface/checkpoint_alldata_maxlen40/checkpoint-6000] due to args.save_total_limit\n",
      "Saving model checkpoint to /aiffel/aiffel/huggingface/checkpoint_alldata_maxlen40/checkpoint-12000\n",
      "Configuration saved in /aiffel/aiffel/huggingface/checkpoint_alldata_maxlen40/checkpoint-12000/config.json\n",
      "Model weights saved in /aiffel/aiffel/huggingface/checkpoint_alldata_maxlen40/checkpoint-12000/pytorch_model.bin\n",
      "Deleting older checkpoint [/aiffel/aiffel/huggingface/checkpoint_alldata_maxlen40/checkpoint-7000] due to args.save_total_limit\n",
      "Saving model checkpoint to /aiffel/aiffel/huggingface/checkpoint_alldata_maxlen40/checkpoint-13000\n",
      "Configuration saved in /aiffel/aiffel/huggingface/checkpoint_alldata_maxlen40/checkpoint-13000/config.json\n",
      "Model weights saved in /aiffel/aiffel/huggingface/checkpoint_alldata_maxlen40/checkpoint-13000/pytorch_model.bin\n",
      "Deleting older checkpoint [/aiffel/aiffel/huggingface/checkpoint_alldata_maxlen40/checkpoint-8000] due to args.save_total_limit\n",
      "Saving model checkpoint to /aiffel/aiffel/huggingface/checkpoint_alldata_maxlen40/checkpoint-14000\n",
      "Configuration saved in /aiffel/aiffel/huggingface/checkpoint_alldata_maxlen40/checkpoint-14000/config.json\n",
      "Model weights saved in /aiffel/aiffel/huggingface/checkpoint_alldata_maxlen40/checkpoint-14000/pytorch_model.bin\n",
      "Deleting older checkpoint [/aiffel/aiffel/huggingface/checkpoint_alldata_maxlen40/checkpoint-9000] due to args.save_total_limit\n",
      "Saving model checkpoint to /aiffel/aiffel/huggingface/checkpoint_alldata_maxlen40/checkpoint-15000\n",
      "Configuration saved in /aiffel/aiffel/huggingface/checkpoint_alldata_maxlen40/checkpoint-15000/config.json\n",
      "Model weights saved in /aiffel/aiffel/huggingface/checkpoint_alldata_maxlen40/checkpoint-15000/pytorch_model.bin\n",
      "Deleting older checkpoint [/aiffel/aiffel/huggingface/checkpoint_alldata_maxlen40/checkpoint-10000] due to args.save_total_limit\n",
      "Saving model checkpoint to /aiffel/aiffel/huggingface/checkpoint_alldata_maxlen40/checkpoint-16000\n",
      "Configuration saved in /aiffel/aiffel/huggingface/checkpoint_alldata_maxlen40/checkpoint-16000/config.json\n",
      "Model weights saved in /aiffel/aiffel/huggingface/checkpoint_alldata_maxlen40/checkpoint-16000/pytorch_model.bin\n",
      "Deleting older checkpoint [/aiffel/aiffel/huggingface/checkpoint_alldata_maxlen40/checkpoint-11000] due to args.save_total_limit\n",
      "Saving model checkpoint to /aiffel/aiffel/huggingface/checkpoint_alldata_maxlen40/checkpoint-17000\n",
      "Configuration saved in /aiffel/aiffel/huggingface/checkpoint_alldata_maxlen40/checkpoint-17000/config.json\n",
      "Model weights saved in /aiffel/aiffel/huggingface/checkpoint_alldata_maxlen40/checkpoint-17000/pytorch_model.bin\n",
      "Deleting older checkpoint [/aiffel/aiffel/huggingface/checkpoint_alldata_maxlen40/checkpoint-12000] due to args.save_total_limit\n",
      "Saving model checkpoint to /aiffel/aiffel/huggingface/checkpoint_alldata_maxlen40/checkpoint-18000\n",
      "Configuration saved in /aiffel/aiffel/huggingface/checkpoint_alldata_maxlen40/checkpoint-18000/config.json\n",
      "Model weights saved in /aiffel/aiffel/huggingface/checkpoint_alldata_maxlen40/checkpoint-18000/pytorch_model.bin\n",
      "Deleting older checkpoint [/aiffel/aiffel/huggingface/checkpoint_alldata_maxlen40/checkpoint-13000] due to args.save_total_limit\n",
      "Saving model checkpoint to /aiffel/aiffel/huggingface/checkpoint_alldata_maxlen40/checkpoint-19000\n",
      "Configuration saved in /aiffel/aiffel/huggingface/checkpoint_alldata_maxlen40/checkpoint-19000/config.json\n",
      "Model weights saved in /aiffel/aiffel/huggingface/checkpoint_alldata_maxlen40/checkpoint-19000/pytorch_model.bin\n",
      "Deleting older checkpoint [/aiffel/aiffel/huggingface/checkpoint_alldata_maxlen40/checkpoint-14000] due to args.save_total_limit\n",
      "Saving model checkpoint to /aiffel/aiffel/huggingface/checkpoint_alldata_maxlen40/checkpoint-20000\n",
      "Configuration saved in /aiffel/aiffel/huggingface/checkpoint_alldata_maxlen40/checkpoint-20000/config.json\n",
      "Model weights saved in /aiffel/aiffel/huggingface/checkpoint_alldata_maxlen40/checkpoint-20000/pytorch_model.bin\n",
      "Deleting older checkpoint [/aiffel/aiffel/huggingface/checkpoint_alldata_maxlen40/checkpoint-15000] due to args.save_total_limit\n",
      "Saving model checkpoint to /aiffel/aiffel/huggingface/checkpoint_alldata_maxlen40/checkpoint-21000\n",
      "Configuration saved in /aiffel/aiffel/huggingface/checkpoint_alldata_maxlen40/checkpoint-21000/config.json\n",
      "Model weights saved in /aiffel/aiffel/huggingface/checkpoint_alldata_maxlen40/checkpoint-21000/pytorch_model.bin\n",
      "Deleting older checkpoint [/aiffel/aiffel/huggingface/checkpoint_alldata_maxlen40/checkpoint-16000] due to args.save_total_limit\n",
      "Saving model checkpoint to /aiffel/aiffel/huggingface/checkpoint_alldata_maxlen40/checkpoint-22000\n",
      "Configuration saved in /aiffel/aiffel/huggingface/checkpoint_alldata_maxlen40/checkpoint-22000/config.json\n",
      "Model weights saved in /aiffel/aiffel/huggingface/checkpoint_alldata_maxlen40/checkpoint-22000/pytorch_model.bin\n",
      "Deleting older checkpoint [/aiffel/aiffel/huggingface/checkpoint_alldata_maxlen40/checkpoint-17000] due to args.save_total_limit\n",
      "Saving model checkpoint to /aiffel/aiffel/huggingface/checkpoint_alldata_maxlen40/checkpoint-23000\n",
      "Configuration saved in /aiffel/aiffel/huggingface/checkpoint_alldata_maxlen40/checkpoint-23000/config.json\n",
      "Model weights saved in /aiffel/aiffel/huggingface/checkpoint_alldata_maxlen40/checkpoint-23000/pytorch_model.bin\n",
      "Deleting older checkpoint [/aiffel/aiffel/huggingface/checkpoint_alldata_maxlen40/checkpoint-18000] due to args.save_total_limit\n",
      "Saving model checkpoint to /aiffel/aiffel/huggingface/checkpoint_alldata_maxlen40/checkpoint-24000\n",
      "Configuration saved in /aiffel/aiffel/huggingface/checkpoint_alldata_maxlen40/checkpoint-24000/config.json\n",
      "Model weights saved in /aiffel/aiffel/huggingface/checkpoint_alldata_maxlen40/checkpoint-24000/pytorch_model.bin\n",
      "Deleting older checkpoint [/aiffel/aiffel/huggingface/checkpoint_alldata_maxlen40/checkpoint-19000] due to args.save_total_limit\n",
      "Saving model checkpoint to /aiffel/aiffel/huggingface/checkpoint_alldata_maxlen40/checkpoint-25000\n",
      "Configuration saved in /aiffel/aiffel/huggingface/checkpoint_alldata_maxlen40/checkpoint-25000/config.json\n",
      "Model weights saved in /aiffel/aiffel/huggingface/checkpoint_alldata_maxlen40/checkpoint-25000/pytorch_model.bin\n",
      "Deleting older checkpoint [/aiffel/aiffel/huggingface/checkpoint_alldata_maxlen40/checkpoint-20000] due to args.save_total_limit\n",
      "Saving model checkpoint to /aiffel/aiffel/huggingface/checkpoint_alldata_maxlen40/checkpoint-26000\n",
      "Configuration saved in /aiffel/aiffel/huggingface/checkpoint_alldata_maxlen40/checkpoint-26000/config.json\n",
      "Model weights saved in /aiffel/aiffel/huggingface/checkpoint_alldata_maxlen40/checkpoint-26000/pytorch_model.bin\n",
      "Deleting older checkpoint [/aiffel/aiffel/huggingface/checkpoint_alldata_maxlen40/checkpoint-21000] due to args.save_total_limit\n",
      "Saving model checkpoint to /aiffel/aiffel/huggingface/checkpoint_alldata_maxlen40/checkpoint-27000\n",
      "Configuration saved in /aiffel/aiffel/huggingface/checkpoint_alldata_maxlen40/checkpoint-27000/config.json\n",
      "Model weights saved in /aiffel/aiffel/huggingface/checkpoint_alldata_maxlen40/checkpoint-27000/pytorch_model.bin\n",
      "Deleting older checkpoint [/aiffel/aiffel/huggingface/checkpoint_alldata_maxlen40/checkpoint-22000] due to args.save_total_limit\n",
      "Saving model checkpoint to /aiffel/aiffel/huggingface/checkpoint_alldata_maxlen40/checkpoint-28000\n",
      "Configuration saved in /aiffel/aiffel/huggingface/checkpoint_alldata_maxlen40/checkpoint-28000/config.json\n",
      "Model weights saved in /aiffel/aiffel/huggingface/checkpoint_alldata_maxlen40/checkpoint-28000/pytorch_model.bin\n",
      "Deleting older checkpoint [/aiffel/aiffel/huggingface/checkpoint_alldata_maxlen40/checkpoint-23000] due to args.save_total_limit\n",
      "Saving model checkpoint to /aiffel/aiffel/huggingface/checkpoint_alldata_maxlen40/checkpoint-29000\n",
      "Configuration saved in /aiffel/aiffel/huggingface/checkpoint_alldata_maxlen40/checkpoint-29000/config.json\n",
      "Model weights saved in /aiffel/aiffel/huggingface/checkpoint_alldata_maxlen40/checkpoint-29000/pytorch_model.bin\n",
      "Deleting older checkpoint [/aiffel/aiffel/huggingface/checkpoint_alldata_maxlen40/checkpoint-24000] due to args.save_total_limit\n",
      "Saving model checkpoint to /aiffel/aiffel/huggingface/checkpoint_alldata_maxlen40/checkpoint-30000\n",
      "Configuration saved in /aiffel/aiffel/huggingface/checkpoint_alldata_maxlen40/checkpoint-30000/config.json\n",
      "Model weights saved in /aiffel/aiffel/huggingface/checkpoint_alldata_maxlen40/checkpoint-30000/pytorch_model.bin\n",
      "Deleting older checkpoint [/aiffel/aiffel/huggingface/checkpoint_alldata_maxlen40/checkpoint-25000] due to args.save_total_limit\n",
      "The following columns in the evaluation set  don't have a corresponding argument in `BertForSequenceClassification.forward` and have been ignored: id, document.\n",
      "***** Running Evaluation *****\n",
      "  Num examples = 30000\n",
      "  Batch size = 4\n",
      "\n",
      "\n",
      "Training completed. Do not forget to share your model on huggingface.co/models =)\n",
      "\n",
      "\n"
     ]
    },
    {
     "data": {
      "text/plain": [
       "TrainOutput(global_step=30000, training_loss=0.43557698415120444, metrics={'train_runtime': 2720.7858, 'train_samples_per_second': 44.105, 'train_steps_per_second': 11.026, 'total_flos': 2466666144000000.0, 'train_loss': 0.43557698415120444, 'epoch': 1.0})"
      ]
     },
     "execution_count": 158,
     "metadata": {},
     "output_type": "execute_result"
    }
   ],
   "source": [
    "trainer = Trainer(\n",
    "    model=model,           # 학습시킬 model\n",
    "    args=training_arguments,           # TrainingArguments을 통해 설정한 arguments\n",
    "    train_dataset = train_dataset,    # training dataset\n",
    "    eval_dataset = valid_dataset,       # evaluation dataset\n",
    "    \n",
    "    compute_metrics=compute_metrics,\n",
    ")\n",
    "trainer.train()"
   ]
  },
  {
   "cell_type": "code",
   "execution_count": 159,
   "id": "6d9b83a2",
   "metadata": {},
   "outputs": [
    {
     "name": "stderr",
     "output_type": "stream",
     "text": [
      "The following columns in the evaluation set  don't have a corresponding argument in `BertForSequenceClassification.forward` and have been ignored: id, document.\n",
      "***** Running Evaluation *****\n",
      "  Num examples = 50000\n",
      "  Batch size = 4\n"
     ]
    },
    {
     "data": {
      "text/html": [
       "\n",
       "    <div>\n",
       "      \n",
       "      <progress value='12500' max='12500' style='width:300px; height:20px; vertical-align: middle;'></progress>\n",
       "      [12500/12500 02:48]\n",
       "    </div>\n",
       "    "
      ],
      "text/plain": [
       "<IPython.core.display.HTML object>"
      ]
     },
     "metadata": {},
     "output_type": "display_data"
    },
    {
     "data": {
      "text/plain": [
       "{'eval_loss': 0.3988664746284485,\n",
       " 'eval_accuracy': 0.89784,\n",
       " 'eval_f1': 0.8984331504016543,\n",
       " 'eval_runtime': 168.4364,\n",
       " 'eval_samples_per_second': 296.848,\n",
       " 'eval_steps_per_second': 74.212,\n",
       " 'epoch': 1.0}"
      ]
     },
     "execution_count": 159,
     "metadata": {},
     "output_type": "execute_result"
    }
   ],
   "source": [
    "trainer.evaluate(test_dataset)"
   ]
  },
  {
   "cell_type": "markdown",
   "id": "78d076e9",
   "metadata": {},
   "source": [
    "- train : 30000, max_len : 140, 학습시간 : 110분\n",
    "    - 근데 왜 학습할 땐, 30000 이라고 뜨지? : per_device_train_batch_size 영향인듯 \n",
    "\n",
    "|Epoch|\tTraining Loss|\tValidation Loss\t|Accuracy|\tF1|\n",
    "|:---:|:---:|:---:|:---:|:---:|\n",
    "|1|\t0.399100|\t0.387210|\t🧷`0.901000`🧷|\t0.900974|\n",
    "\n",
    "{'eval_loss': 0.39205992221832275,    \n",
    " 'eval_accuracy': `0.89954`,  \n",
    " \n",
    " 'eval_f1': 0.9002363502750799,    \n",
    " 'eval_runtime': 456.5871,  \n",
    " 'eval_samples_per_second': 109.508,  \n",
    " 'eval_steps_per_second': 27.377,  \n",
    " 'epoch': 1.0}  \n",
    " \n",
    "---\n",
    "\n",
    "- train : 30000, max_len : 40, 학습시간 : 43분\n",
    "\n",
    "|Epoch|\tTraining Loss|\tValidation Loss\t|Accuracy|\tF1|\n",
    "|:---:|:---:|:---:|:---:|:---:|\n",
    "|1|\t0.394100|\t0.397361|\t0.897433|\t0.897238|\n",
    "\n",
    "{'eval_loss': 0.3988664746284485,  \n",
    " 'eval_accuracy': `0.89784`,  \n",
    " \n",
    " 'eval_f1': 0.8984331504016543,  \n",
    " 'eval_runtime': 168.4364,  \n",
    " 'eval_samples_per_second': 296.848,  \n",
    " 'eval_steps_per_second': 74.212,  \n",
    " 'epoch': 1.0}  \n",
    "\n",
    "---\n",
    "\n",
    "- data : 6000개, Max_length : 512 , 학습시간 : 44분\n",
    "\n",
    "|Epoch|\tTraining Loss|\tValidation Loss\t|Accuracy|\tF1|\n",
    "|:---:|:---:|:---:|:---:|:---:|\n",
    "|1|\t0.404800|\t0.429618|\t0.881833|\t0.880860|\n",
    "\n",
    "{'eval_loss': 0.4197678864002228,  \n",
    " 'eval_accuracy': 0.87954,  \n",
    " 'eval_f1': 0.8789565706706325,  \n",
    " 'eval_runtime': 1700.6425,  \n",
    " 'eval_samples_per_second': 29.401,  \n",
    " 'eval_steps_per_second': 7.35,  \n",
    " 'epoch': 1.0}  \n"
   ]
  },
  {
   "cell_type": "markdown",
   "id": "3d61f876",
   "metadata": {},
   "source": [
    "## 결론\n",
    "\n",
    "### 1. document 데이터의 텍스트 길이가 140 이하임을 확인하고, 불필요한 max_len을 줄였더니 성능이 향상함\n",
    "\n",
    "### 2. 데이터 개수에 따른 성능이 차이남 (많을 수록 좋음), 단 학습 속도가 지나치게 느려져서 합의점 필요\n",
    "\n",
    "### 3. max_len 140 vs 40 비교 결과, 성능 면에서는 140이 좋지만 미세한 차이임. 즉, 학습 속도가 유리한 40을 위주로 STEP 5을 진행함"
   ]
  },
  {
   "cell_type": "markdown",
   "id": "bb49169f",
   "metadata": {},
   "source": [
    "# STEP 5. Bucketing을 적용하여 학습시키고, STEP 4의 결과와의 비교\n",
    "\n",
    "```\n",
    "아래 링크를 바탕으로 bucketing과 dynamic padding이 무엇인지 알아보고, 이들을 적용하여 model을 학습시킵니다.\n",
    "\n",
    "Data Collator\n",
    "\n",
    "Trainer.TrainingArguments 의 group_by_length\n",
    "\n",
    "STEP 4에 학습한 결과와 bucketing을 적용하여 학습시킨 결과를 비교해보고, 모델 성능 향상과 훈련 시간 두 가지 측면에서 각각 어떤 이점이 있는지 비교해봅시다.\n",
    "```"
   ]
  },
  {
   "cell_type": "code",
   "execution_count": null,
   "id": "6442c7c7",
   "metadata": {},
   "outputs": [],
   "source": []
  },
  {
   "cell_type": "code",
   "execution_count": 172,
   "id": "63bd8943",
   "metadata": {},
   "outputs": [
    {
     "name": "stderr",
     "output_type": "stream",
     "text": [
      "PyTorch: setting up devices\n",
      "The default value for the training argument `--report_to` will change in v5 (from all installed integrations to none). In v5, you will need to use `--report_to all` to get the same behavior as now. You should start updating your code and make this info disappear :-).\n"
     ]
    }
   ],
   "source": [
    "import os\n",
    "import numpy as np\n",
    "from transformers import Trainer, TrainingArguments\n",
    "from transformers import AutoTokenizer, AutoModelForSequenceClassification, TrainingArguments, Trainer, DataCollatorWithPadding\n",
    "from datasets import load_dataset\n",
    "\n",
    "\n",
    "output_dir = os.getenv('HOME')+'/aiffel/huggingface/checkpoints_bucketing'\n",
    "\n",
    "# 데이터 콜레이터\n",
    "data_collator = DataCollatorWithPadding(tokenizer=tokenizer)\n",
    "\n",
    "training_arguments = TrainingArguments(\n",
    "    output_dir,                                         # output이 저장될 경로\n",
    "    evaluation_strategy=\"epoch\",           #evaluation하는 빈도\n",
    "    learning_rate = 2e-5,                         #learning_rate\n",
    "    per_device_train_batch_size = 4,   # 각 device 당 batch size\n",
    "    per_device_eval_batch_size = 4,    # evaluation 시에 batch size\n",
    "    num_train_epochs = 1,                     # train 시킬 총 epochs\n",
    "    weight_decay = 0.01,                        # weight decay\n",
    "    save_steps = 1000,  # 원하는 체크포인트 저장 간격 설정 (예: 100, 200 등)\n",
    "    save_total_limit=5,\n",
    "    \n",
    "    group_by_length=True,  # Bucketing 활성화\n",
    ")"
   ]
  },
  {
   "cell_type": "code",
   "execution_count": 173,
   "id": "d8b58ecc",
   "metadata": {
    "scrolled": true
   },
   "outputs": [
    {
     "name": "stderr",
     "output_type": "stream",
     "text": [
      "The following columns in the training set  don't have a corresponding argument in `BertForSequenceClassification.forward` and have been ignored: id, document.\n",
      "***** Running training *****\n",
      "  Num examples = 120000\n",
      "  Num Epochs = 1\n",
      "  Instantaneous batch size per device = 4\n",
      "  Total train batch size (w. parallel, distributed & accumulation) = 4\n",
      "  Gradient Accumulation steps = 1\n",
      "  Total optimization steps = 30000\n"
     ]
    },
    {
     "data": {
      "text/html": [
       "\n",
       "    <div>\n",
       "      \n",
       "      <progress value='30000' max='30000' style='width:300px; height:20px; vertical-align: middle;'></progress>\n",
       "      [30000/30000 44:54, Epoch 1/1]\n",
       "    </div>\n",
       "    <table border=\"1\" class=\"dataframe\">\n",
       "  <thead>\n",
       "    <tr style=\"text-align: left;\">\n",
       "      <th>Epoch</th>\n",
       "      <th>Training Loss</th>\n",
       "      <th>Validation Loss</th>\n",
       "      <th>Accuracy</th>\n",
       "      <th>F1</th>\n",
       "    </tr>\n",
       "  </thead>\n",
       "  <tbody>\n",
       "    <tr>\n",
       "      <td>1</td>\n",
       "      <td>0.386600</td>\n",
       "      <td>0.397512</td>\n",
       "      <td>0.896667</td>\n",
       "      <td>0.896777</td>\n",
       "    </tr>\n",
       "  </tbody>\n",
       "</table><p>"
      ],
      "text/plain": [
       "<IPython.core.display.HTML object>"
      ]
     },
     "metadata": {},
     "output_type": "display_data"
    },
    {
     "name": "stderr",
     "output_type": "stream",
     "text": [
      "Saving model checkpoint to /aiffel/aiffel/huggingface/checkpoints_bucketing/checkpoint-1000\n",
      "Configuration saved in /aiffel/aiffel/huggingface/checkpoints_bucketing/checkpoint-1000/config.json\n",
      "Model weights saved in /aiffel/aiffel/huggingface/checkpoints_bucketing/checkpoint-1000/pytorch_model.bin\n",
      "Saving model checkpoint to /aiffel/aiffel/huggingface/checkpoints_bucketing/checkpoint-2000\n",
      "Configuration saved in /aiffel/aiffel/huggingface/checkpoints_bucketing/checkpoint-2000/config.json\n",
      "Model weights saved in /aiffel/aiffel/huggingface/checkpoints_bucketing/checkpoint-2000/pytorch_model.bin\n",
      "Saving model checkpoint to /aiffel/aiffel/huggingface/checkpoints_bucketing/checkpoint-3000\n",
      "Configuration saved in /aiffel/aiffel/huggingface/checkpoints_bucketing/checkpoint-3000/config.json\n",
      "Model weights saved in /aiffel/aiffel/huggingface/checkpoints_bucketing/checkpoint-3000/pytorch_model.bin\n",
      "Saving model checkpoint to /aiffel/aiffel/huggingface/checkpoints_bucketing/checkpoint-4000\n",
      "Configuration saved in /aiffel/aiffel/huggingface/checkpoints_bucketing/checkpoint-4000/config.json\n",
      "Model weights saved in /aiffel/aiffel/huggingface/checkpoints_bucketing/checkpoint-4000/pytorch_model.bin\n",
      "Saving model checkpoint to /aiffel/aiffel/huggingface/checkpoints_bucketing/checkpoint-5000\n",
      "Configuration saved in /aiffel/aiffel/huggingface/checkpoints_bucketing/checkpoint-5000/config.json\n",
      "Model weights saved in /aiffel/aiffel/huggingface/checkpoints_bucketing/checkpoint-5000/pytorch_model.bin\n",
      "Saving model checkpoint to /aiffel/aiffel/huggingface/checkpoints_bucketing/checkpoint-6000\n",
      "Configuration saved in /aiffel/aiffel/huggingface/checkpoints_bucketing/checkpoint-6000/config.json\n",
      "Model weights saved in /aiffel/aiffel/huggingface/checkpoints_bucketing/checkpoint-6000/pytorch_model.bin\n",
      "Deleting older checkpoint [/aiffel/aiffel/huggingface/checkpoints_bucketing/checkpoint-1000] due to args.save_total_limit\n",
      "Saving model checkpoint to /aiffel/aiffel/huggingface/checkpoints_bucketing/checkpoint-7000\n",
      "Configuration saved in /aiffel/aiffel/huggingface/checkpoints_bucketing/checkpoint-7000/config.json\n",
      "Model weights saved in /aiffel/aiffel/huggingface/checkpoints_bucketing/checkpoint-7000/pytorch_model.bin\n",
      "Deleting older checkpoint [/aiffel/aiffel/huggingface/checkpoints_bucketing/checkpoint-2000] due to args.save_total_limit\n",
      "Saving model checkpoint to /aiffel/aiffel/huggingface/checkpoints_bucketing/checkpoint-8000\n",
      "Configuration saved in /aiffel/aiffel/huggingface/checkpoints_bucketing/checkpoint-8000/config.json\n",
      "Model weights saved in /aiffel/aiffel/huggingface/checkpoints_bucketing/checkpoint-8000/pytorch_model.bin\n",
      "Deleting older checkpoint [/aiffel/aiffel/huggingface/checkpoints_bucketing/checkpoint-3000] due to args.save_total_limit\n",
      "Saving model checkpoint to /aiffel/aiffel/huggingface/checkpoints_bucketing/checkpoint-9000\n",
      "Configuration saved in /aiffel/aiffel/huggingface/checkpoints_bucketing/checkpoint-9000/config.json\n",
      "Model weights saved in /aiffel/aiffel/huggingface/checkpoints_bucketing/checkpoint-9000/pytorch_model.bin\n",
      "Deleting older checkpoint [/aiffel/aiffel/huggingface/checkpoints_bucketing/checkpoint-4000] due to args.save_total_limit\n",
      "Saving model checkpoint to /aiffel/aiffel/huggingface/checkpoints_bucketing/checkpoint-10000\n",
      "Configuration saved in /aiffel/aiffel/huggingface/checkpoints_bucketing/checkpoint-10000/config.json\n",
      "Model weights saved in /aiffel/aiffel/huggingface/checkpoints_bucketing/checkpoint-10000/pytorch_model.bin\n",
      "Deleting older checkpoint [/aiffel/aiffel/huggingface/checkpoints_bucketing/checkpoint-5000] due to args.save_total_limit\n",
      "Saving model checkpoint to /aiffel/aiffel/huggingface/checkpoints_bucketing/checkpoint-11000\n",
      "Configuration saved in /aiffel/aiffel/huggingface/checkpoints_bucketing/checkpoint-11000/config.json\n",
      "Model weights saved in /aiffel/aiffel/huggingface/checkpoints_bucketing/checkpoint-11000/pytorch_model.bin\n",
      "Deleting older checkpoint [/aiffel/aiffel/huggingface/checkpoints_bucketing/checkpoint-6000] due to args.save_total_limit\n",
      "Saving model checkpoint to /aiffel/aiffel/huggingface/checkpoints_bucketing/checkpoint-12000\n",
      "Configuration saved in /aiffel/aiffel/huggingface/checkpoints_bucketing/checkpoint-12000/config.json\n",
      "Model weights saved in /aiffel/aiffel/huggingface/checkpoints_bucketing/checkpoint-12000/pytorch_model.bin\n",
      "Deleting older checkpoint [/aiffel/aiffel/huggingface/checkpoints_bucketing/checkpoint-7000] due to args.save_total_limit\n",
      "Saving model checkpoint to /aiffel/aiffel/huggingface/checkpoints_bucketing/checkpoint-13000\n",
      "Configuration saved in /aiffel/aiffel/huggingface/checkpoints_bucketing/checkpoint-13000/config.json\n",
      "Model weights saved in /aiffel/aiffel/huggingface/checkpoints_bucketing/checkpoint-13000/pytorch_model.bin\n",
      "Deleting older checkpoint [/aiffel/aiffel/huggingface/checkpoints_bucketing/checkpoint-8000] due to args.save_total_limit\n",
      "Saving model checkpoint to /aiffel/aiffel/huggingface/checkpoints_bucketing/checkpoint-14000\n",
      "Configuration saved in /aiffel/aiffel/huggingface/checkpoints_bucketing/checkpoint-14000/config.json\n",
      "Model weights saved in /aiffel/aiffel/huggingface/checkpoints_bucketing/checkpoint-14000/pytorch_model.bin\n",
      "Deleting older checkpoint [/aiffel/aiffel/huggingface/checkpoints_bucketing/checkpoint-9000] due to args.save_total_limit\n",
      "Saving model checkpoint to /aiffel/aiffel/huggingface/checkpoints_bucketing/checkpoint-15000\n",
      "Configuration saved in /aiffel/aiffel/huggingface/checkpoints_bucketing/checkpoint-15000/config.json\n",
      "Model weights saved in /aiffel/aiffel/huggingface/checkpoints_bucketing/checkpoint-15000/pytorch_model.bin\n",
      "Deleting older checkpoint [/aiffel/aiffel/huggingface/checkpoints_bucketing/checkpoint-10000] due to args.save_total_limit\n",
      "Saving model checkpoint to /aiffel/aiffel/huggingface/checkpoints_bucketing/checkpoint-16000\n",
      "Configuration saved in /aiffel/aiffel/huggingface/checkpoints_bucketing/checkpoint-16000/config.json\n",
      "Model weights saved in /aiffel/aiffel/huggingface/checkpoints_bucketing/checkpoint-16000/pytorch_model.bin\n",
      "Deleting older checkpoint [/aiffel/aiffel/huggingface/checkpoints_bucketing/checkpoint-11000] due to args.save_total_limit\n",
      "Saving model checkpoint to /aiffel/aiffel/huggingface/checkpoints_bucketing/checkpoint-17000\n",
      "Configuration saved in /aiffel/aiffel/huggingface/checkpoints_bucketing/checkpoint-17000/config.json\n",
      "Model weights saved in /aiffel/aiffel/huggingface/checkpoints_bucketing/checkpoint-17000/pytorch_model.bin\n",
      "Deleting older checkpoint [/aiffel/aiffel/huggingface/checkpoints_bucketing/checkpoint-12000] due to args.save_total_limit\n",
      "Saving model checkpoint to /aiffel/aiffel/huggingface/checkpoints_bucketing/checkpoint-18000\n",
      "Configuration saved in /aiffel/aiffel/huggingface/checkpoints_bucketing/checkpoint-18000/config.json\n",
      "Model weights saved in /aiffel/aiffel/huggingface/checkpoints_bucketing/checkpoint-18000/pytorch_model.bin\n",
      "Deleting older checkpoint [/aiffel/aiffel/huggingface/checkpoints_bucketing/checkpoint-13000] due to args.save_total_limit\n",
      "Saving model checkpoint to /aiffel/aiffel/huggingface/checkpoints_bucketing/checkpoint-19000\n",
      "Configuration saved in /aiffel/aiffel/huggingface/checkpoints_bucketing/checkpoint-19000/config.json\n",
      "Model weights saved in /aiffel/aiffel/huggingface/checkpoints_bucketing/checkpoint-19000/pytorch_model.bin\n",
      "Deleting older checkpoint [/aiffel/aiffel/huggingface/checkpoints_bucketing/checkpoint-14000] due to args.save_total_limit\n",
      "Saving model checkpoint to /aiffel/aiffel/huggingface/checkpoints_bucketing/checkpoint-20000\n",
      "Configuration saved in /aiffel/aiffel/huggingface/checkpoints_bucketing/checkpoint-20000/config.json\n",
      "Model weights saved in /aiffel/aiffel/huggingface/checkpoints_bucketing/checkpoint-20000/pytorch_model.bin\n",
      "Deleting older checkpoint [/aiffel/aiffel/huggingface/checkpoints_bucketing/checkpoint-15000] due to args.save_total_limit\n",
      "Saving model checkpoint to /aiffel/aiffel/huggingface/checkpoints_bucketing/checkpoint-21000\n",
      "Configuration saved in /aiffel/aiffel/huggingface/checkpoints_bucketing/checkpoint-21000/config.json\n",
      "Model weights saved in /aiffel/aiffel/huggingface/checkpoints_bucketing/checkpoint-21000/pytorch_model.bin\n",
      "Deleting older checkpoint [/aiffel/aiffel/huggingface/checkpoints_bucketing/checkpoint-16000] due to args.save_total_limit\n",
      "Saving model checkpoint to /aiffel/aiffel/huggingface/checkpoints_bucketing/checkpoint-22000\n",
      "Configuration saved in /aiffel/aiffel/huggingface/checkpoints_bucketing/checkpoint-22000/config.json\n",
      "Model weights saved in /aiffel/aiffel/huggingface/checkpoints_bucketing/checkpoint-22000/pytorch_model.bin\n",
      "Deleting older checkpoint [/aiffel/aiffel/huggingface/checkpoints_bucketing/checkpoint-17000] due to args.save_total_limit\n",
      "Saving model checkpoint to /aiffel/aiffel/huggingface/checkpoints_bucketing/checkpoint-23000\n",
      "Configuration saved in /aiffel/aiffel/huggingface/checkpoints_bucketing/checkpoint-23000/config.json\n",
      "Model weights saved in /aiffel/aiffel/huggingface/checkpoints_bucketing/checkpoint-23000/pytorch_model.bin\n",
      "Deleting older checkpoint [/aiffel/aiffel/huggingface/checkpoints_bucketing/checkpoint-18000] due to args.save_total_limit\n",
      "Saving model checkpoint to /aiffel/aiffel/huggingface/checkpoints_bucketing/checkpoint-24000\n",
      "Configuration saved in /aiffel/aiffel/huggingface/checkpoints_bucketing/checkpoint-24000/config.json\n",
      "Model weights saved in /aiffel/aiffel/huggingface/checkpoints_bucketing/checkpoint-24000/pytorch_model.bin\n",
      "Deleting older checkpoint [/aiffel/aiffel/huggingface/checkpoints_bucketing/checkpoint-19000] due to args.save_total_limit\n",
      "Saving model checkpoint to /aiffel/aiffel/huggingface/checkpoints_bucketing/checkpoint-25000\n",
      "Configuration saved in /aiffel/aiffel/huggingface/checkpoints_bucketing/checkpoint-25000/config.json\n",
      "Model weights saved in /aiffel/aiffel/huggingface/checkpoints_bucketing/checkpoint-25000/pytorch_model.bin\n",
      "Deleting older checkpoint [/aiffel/aiffel/huggingface/checkpoints_bucketing/checkpoint-20000] due to args.save_total_limit\n",
      "Saving model checkpoint to /aiffel/aiffel/huggingface/checkpoints_bucketing/checkpoint-26000\n",
      "Configuration saved in /aiffel/aiffel/huggingface/checkpoints_bucketing/checkpoint-26000/config.json\n",
      "Model weights saved in /aiffel/aiffel/huggingface/checkpoints_bucketing/checkpoint-26000/pytorch_model.bin\n",
      "Deleting older checkpoint [/aiffel/aiffel/huggingface/checkpoints_bucketing/checkpoint-21000] due to args.save_total_limit\n",
      "Saving model checkpoint to /aiffel/aiffel/huggingface/checkpoints_bucketing/checkpoint-27000\n",
      "Configuration saved in /aiffel/aiffel/huggingface/checkpoints_bucketing/checkpoint-27000/config.json\n",
      "Model weights saved in /aiffel/aiffel/huggingface/checkpoints_bucketing/checkpoint-27000/pytorch_model.bin\n",
      "Deleting older checkpoint [/aiffel/aiffel/huggingface/checkpoints_bucketing/checkpoint-22000] due to args.save_total_limit\n",
      "Saving model checkpoint to /aiffel/aiffel/huggingface/checkpoints_bucketing/checkpoint-28000\n",
      "Configuration saved in /aiffel/aiffel/huggingface/checkpoints_bucketing/checkpoint-28000/config.json\n",
      "Model weights saved in /aiffel/aiffel/huggingface/checkpoints_bucketing/checkpoint-28000/pytorch_model.bin\n",
      "Deleting older checkpoint [/aiffel/aiffel/huggingface/checkpoints_bucketing/checkpoint-23000] due to args.save_total_limit\n",
      "Saving model checkpoint to /aiffel/aiffel/huggingface/checkpoints_bucketing/checkpoint-29000\n",
      "Configuration saved in /aiffel/aiffel/huggingface/checkpoints_bucketing/checkpoint-29000/config.json\n",
      "Model weights saved in /aiffel/aiffel/huggingface/checkpoints_bucketing/checkpoint-29000/pytorch_model.bin\n",
      "Deleting older checkpoint [/aiffel/aiffel/huggingface/checkpoints_bucketing/checkpoint-24000] due to args.save_total_limit\n",
      "Saving model checkpoint to /aiffel/aiffel/huggingface/checkpoints_bucketing/checkpoint-30000\n",
      "Configuration saved in /aiffel/aiffel/huggingface/checkpoints_bucketing/checkpoint-30000/config.json\n",
      "Model weights saved in /aiffel/aiffel/huggingface/checkpoints_bucketing/checkpoint-30000/pytorch_model.bin\n",
      "Deleting older checkpoint [/aiffel/aiffel/huggingface/checkpoints_bucketing/checkpoint-25000] due to args.save_total_limit\n",
      "The following columns in the evaluation set  don't have a corresponding argument in `BertForSequenceClassification.forward` and have been ignored: id, document.\n",
      "***** Running Evaluation *****\n",
      "  Num examples = 30000\n",
      "  Batch size = 4\n",
      "\n",
      "\n",
      "Training completed. Do not forget to share your model on huggingface.co/models =)\n",
      "\n",
      "\n"
     ]
    },
    {
     "data": {
      "text/plain": [
       "TrainOutput(global_step=30000, training_loss=0.4382775217692057, metrics={'train_runtime': 2695.1836, 'train_samples_per_second': 44.524, 'train_steps_per_second': 11.131, 'total_flos': 2466666144000000.0, 'train_loss': 0.4382775217692057, 'epoch': 1.0})"
      ]
     },
     "execution_count": 173,
     "metadata": {},
     "output_type": "execute_result"
    }
   ],
   "source": [
    "trainer = Trainer(\n",
    "    model=model,           # 학습시킬 model\n",
    "    args=training_arguments,           # TrainingArguments을 통해 설정한 arguments\n",
    "    train_dataset = train_dataset,    # training dataset\n",
    "    eval_dataset = valid_dataset,       # evaluation dataset\n",
    "    \n",
    "    data_collator=data_collator,\n",
    "    \n",
    "    compute_metrics=compute_metrics,\n",
    ")\n",
    "trainer.train()"
   ]
  },
  {
   "cell_type": "code",
   "execution_count": 174,
   "id": "769039c8",
   "metadata": {},
   "outputs": [
    {
     "name": "stderr",
     "output_type": "stream",
     "text": [
      "The following columns in the evaluation set  don't have a corresponding argument in `BertForSequenceClassification.forward` and have been ignored: id, document.\n",
      "***** Running Evaluation *****\n",
      "  Num examples = 50000\n",
      "  Batch size = 4\n"
     ]
    },
    {
     "data": {
      "text/html": [
       "\n",
       "    <div>\n",
       "      \n",
       "      <progress value='12500' max='12500' style='width:300px; height:20px; vertical-align: middle;'></progress>\n",
       "      [12500/12500 02:47]\n",
       "    </div>\n",
       "    "
      ],
      "text/plain": [
       "<IPython.core.display.HTML object>"
      ]
     },
     "metadata": {},
     "output_type": "display_data"
    },
    {
     "data": {
      "text/plain": [
       "{'eval_loss': 0.3995944857597351,\n",
       " 'eval_accuracy': 0.89736,\n",
       " 'eval_f1': 0.8981584378472773,\n",
       " 'eval_runtime': 168.1401,\n",
       " 'eval_samples_per_second': 297.371,\n",
       " 'eval_steps_per_second': 74.343,\n",
       " 'epoch': 1.0}"
      ]
     },
     "execution_count": 174,
     "metadata": {},
     "output_type": "execute_result"
    }
   ],
   "source": [
    "trainer.evaluate(test_dataset)"
   ]
  },
  {
   "cell_type": "markdown",
   "id": "3d0c2b10",
   "metadata": {},
   "source": [
    "## STEP 5 결론\n",
    "\n",
    "\n",
    "- 공동 조건 : train : 30000, max_len : 40, \n",
    "    - 일반 학습\n",
    "        - 학습시간 : 43분, Valid Acc : 0.897433, Valid F1 : 0.897238, Eval Acc : 0.89784, Eval F1 : 0.898433\n",
    "    - bucketing\n",
    "        - 학습시간 : 43분, Valid Acc : 0.896667, Valid F1 : 0.896777, Eval Acc : 0.89736, Eval F1 : 0.898158\n",
    "        \n",
    "        \n",
    "        \n",
    "### 1. Bucketing + DataCollatorWithPadding을 사용하면 성능이 떨어지나, 큰 차이가 없다. \n",
    "### 이유 : 시퀀스 길이 분포와 max_length 설정이 잘 맞아 떨어져서 성능에 큰 차이가 없는 것으로 보인다. 아무래도 max_len이 40으로 매우 적은 시퀀스 길이 분포를 유지하며, 대부분의 데이터가 시퀀스 길이가 비슷함에 따라 성능에 큰 차이가 없어 보인다."
   ]
  },
  {
   "cell_type": "code",
   "execution_count": null,
   "id": "59943c19",
   "metadata": {},
   "outputs": [],
   "source": []
  }
 ],
 "metadata": {
  "kernelspec": {
   "display_name": "Python 3 (ipykernel)",
   "language": "python",
   "name": "python3"
  },
  "language_info": {
   "codemirror_mode": {
    "name": "ipython",
    "version": 3
   },
   "file_extension": ".py",
   "mimetype": "text/x-python",
   "name": "python",
   "nbconvert_exporter": "python",
   "pygments_lexer": "ipython3",
   "version": "3.9.7"
  }
 },
 "nbformat": 4,
 "nbformat_minor": 5
}
