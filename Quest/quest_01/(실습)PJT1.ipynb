{
  "cells": [
    {
      "cell_type": "markdown",
      "metadata": {
        "id": "rP5bzCEyNs5x"
      },
      "source": [
        "## 임포트"
      ]
    },
    {
      "cell_type": "markdown",
      "metadata": {
        "id": "ps1LNxzZTgk1"
      },
      "source": [
        "## (PJT 1)당뇨병 수치를 맞춰보자"
      ]
    },
    {
      "cell_type": "code",
      "execution_count": 101,
      "metadata": {
        "id": "kXDeNSOHNucV"
      },
      "outputs": [],
      "source": [
        "import pandas as pd\n",
        "import numpy as np\n",
        "from sklearn.datasets import load_diabetes\n",
        "from sklearn.model_selection import train_test_split\n",
        "import matplotlib.pyplot as plt\n",
        "import seaborn as sns\n",
        "\n",
        "from sklearn.linear_model import LinearRegression\n",
        "\n",
        "from sklearn.metrics import mean_squared_error"
      ]
    },
    {
      "cell_type": "markdown",
      "metadata": {
        "id": "cr1RB_cxHYLX"
      },
      "source": [
        "### (1) 데이터 가져오기"
      ]
    },
    {
      "cell_type": "markdown",
      "metadata": {
        "id": "TBemYzAZHhdv"
      },
      "source": [
        "- sklearn.datasets의 load_diabetes에서 데이터를 가져와주세요.\n",
        "- diabetes의 data를 df_X에, target을 df_y에 저장해주세요."
      ]
    },
    {
      "cell_type": "code",
      "execution_count": 49,
      "metadata": {
        "id": "wCr0wPPRN9Ul"
      },
      "outputs": [],
      "source": [
        "# sklearn.datasets의 load_diabetes에서 데이터를 가져와주세요.\n",
        "diabetes=load_diabetes()\n",
        "\n",
        "# diabetes의 data를 df_X에, target을 df_y에 저장해주세요.\n",
        "df_x=diabetes.data\n",
        "df_y=diabetes.target"
      ]
    },
    {
      "cell_type": "code",
      "execution_count": 50,
      "metadata": {
        "colab": {
          "base_uri": "https://localhost:8080/"
        },
        "id": "swOgdUQ0ON77",
        "outputId": "7cb5e6f0-9fc7-449e-caec-6af73846e9a9"
      },
      "outputs": [
        {
          "name": "stdout",
          "output_type": "stream",
          "text": [
            "(442, 10)\n",
            "(442,)\n"
          ]
        }
      ],
      "source": [
        "print(df_x.shape)\n",
        "print(df_y.shape)"
      ]
    },
    {
      "cell_type": "markdown",
      "metadata": {
        "id": "yQ4ySe8sHikk"
      },
      "source": [
        "### (2) 모델에 입력할 데이터 X 준비하기"
      ]
    },
    {
      "cell_type": "markdown",
      "metadata": {
        "id": "e16pB8ecHkt3"
      },
      "source": [
        "- df_X에 있는 값들을 numpy array로 변환해서 저장해주세요."
      ]
    },
    {
      "cell_type": "code",
      "execution_count": 51,
      "metadata": {
        "id": "j2bfWISoOnoG"
      },
      "outputs": [],
      "source": [
        "# df_X에 있는 값들을 numpy array로 변환해서 저장해주세요.\n",
        "df_x = np.array(df_x)"
      ]
    },
    {
      "cell_type": "markdown",
      "metadata": {
        "id": "ciRU36WmHlRF"
      },
      "source": [
        "### (3) 모델에 예측할 데이터 y 준비하기"
      ]
    },
    {
      "cell_type": "markdown",
      "metadata": {
        "id": "OV1FaMbaHmo1"
      },
      "source": [
        "- df_y에 있는 값들을 numpy array로 변환해서 저장해주세요."
      ]
    },
    {
      "cell_type": "code",
      "execution_count": 52,
      "metadata": {
        "id": "PvcrRiqkOuO0"
      },
      "outputs": [],
      "source": [
        "# df_y에 있는 값들을 numpy array로 변환해서 저장해주세요.\n",
        "df_y = np.array(df_y)"
      ]
    },
    {
      "cell_type": "markdown",
      "metadata": {
        "id": "2ZECIoN0Hn_l"
      },
      "source": [
        "### (4) train 데이터와 test 데이터로 분리하기"
      ]
    },
    {
      "cell_type": "markdown",
      "metadata": {
        "id": "gvCl0dtOHp7W"
      },
      "source": [
        "- X와 y 데이터를 각각 train 데이터와 test 데이터로 분리해주세요."
      ]
    },
    {
      "cell_type": "code",
      "execution_count": 53,
      "metadata": {
        "id": "eYJuUjeHPNT8"
      },
      "outputs": [],
      "source": [
        "# X와 y 데이터를 각각 train 데이터와 test 데이터로 분리해주세요\n",
        "\n",
        "x_train, x_test, y_train, y_test = train_test_split(df_x, df_y, test_size=0.2, random_state=42)\n"
      ]
    },
    {
      "cell_type": "markdown",
      "metadata": {
        "id": "vHlDkIkFHrZw"
      },
      "source": [
        "###  (5) 모델 준비하기"
      ]
    },
    {
      "cell_type": "markdown",
      "metadata": {
        "id": "W7W05GdkHs6I"
      },
      "source": [
        "- 입력 데이터 개수에 맞는 가중치 W와 b를 준비해주세요.\n",
        "- 모델 함수를 구현해주세요."
      ]
    },
    {
      "cell_type": "code",
      "execution_count": 54,
      "metadata": {
        "id": "6u2ix1pAPov9"
      },
      "outputs": [],
      "source": [
        "# 입력 데이터 개수에 맞는 가중치 W와 b를 준비해주세요.\n",
        "W = np.random.rand(10)\n",
        "b = np.random.rand()\n",
        "\n",
        "# 모델 함수를 구현해주세요.\n",
        "def model(X, W, b):\n",
        "    predictions = 0\n",
        "    for i in range(10):\n",
        "        predictions += X[:, i] * W[i]\n",
        "    predictions += b\n",
        "    return predictions"
      ]
    },
    {
      "cell_type": "markdown",
      "metadata": {
        "id": "24X7_fxzHunC"
      },
      "source": [
        "### (6) 손실함수 loss 정의하기"
      ]
    },
    {
      "cell_type": "markdown",
      "metadata": {
        "id": "BFNdEK2vHv4b"
      },
      "source": [
        "- 손실함수를 MSE 함수로 정의해주세요."
      ]
    },
    {
      "cell_type": "code",
      "execution_count": 55,
      "metadata": {
        "id": "U4rbuxBRQsMK"
      },
      "outputs": [],
      "source": [
        "# 손실함수를 MSE 함수로 정의해주세요.\n",
        "def MSE(a, b):\n",
        "    mse = ((a - b) ** 2).mean()  # 두 값의 차이의 제곱의 평균\n",
        "    return mse\n",
        "\n",
        "def loss(X, W, b, y):\n",
        "    predictions = model(X, W, b)\n",
        "    L = MSE(predictions, y)\n",
        "    return L"
      ]
    },
    {
      "cell_type": "markdown",
      "metadata": {
        "id": "_2wCsctUHyMP"
      },
      "source": [
        "### (7) 기울기를 구하는 gradient 함수 구현하기"
      ]
    },
    {
      "cell_type": "markdown",
      "metadata": {
        "id": "GAdWv4orHzY2"
      },
      "source": [
        "- 기울기를 계산하는 gradient 함수를 구현해주세요."
      ]
    },
    {
      "cell_type": "code",
      "execution_count": 56,
      "metadata": {
        "id": "WzxziysRQzpR"
      },
      "outputs": [],
      "source": [
        "# 기울기를 계산하는 gradient 함수를 구현해주세요.\n",
        "def gradient(X, W, b, y):\n",
        "    # N은 데이터 포인트의 개수\n",
        "    N = len(y)\n",
        "\n",
        "    # y_pred 준비\n",
        "    y_pred = model(X, W, b)\n",
        "\n",
        "    # 공식에 맞게 gradient 계산\n",
        "    dW = 1/N * 2 * X.T.dot(y_pred - y)\n",
        "\n",
        "    # b의 gradient 계산\n",
        "    db = 2 * (y_pred - y).mean()\n",
        "    return dW, db"
      ]
    },
    {
      "cell_type": "markdown",
      "metadata": {
        "id": "R_WInYWLH2Be"
      },
      "source": [
        "### (8) 하이퍼 파라미터인 학습률 설정하기"
      ]
    },
    {
      "cell_type": "markdown",
      "metadata": {
        "id": "OaqMLCdsH33F"
      },
      "source": [
        "- 학습률, learning rate 를 설정해주세요\n",
        "- 만약 학습이 잘 되지 않는다면 learning rate 값을 한번 여러 가지로 설정하며 실험해 보세요."
      ]
    },
    {
      "cell_type": "code",
      "execution_count": 65,
      "metadata": {
        "id": "0rncaBwXQ47d"
      },
      "outputs": [],
      "source": [
        "# 학습률, learning rate 를 설정해주세요\n",
        "LEARNING_RATE = 0.1"
      ]
    },
    {
      "cell_type": "markdown",
      "metadata": {
        "id": "911s-chAIOEB"
      },
      "source": [
        "### (9) 모델 학습하기"
      ]
    },
    {
      "cell_type": "markdown",
      "metadata": {
        "id": "ud8DcOkkIPj-"
      },
      "source": [
        "- 정의된 손실함수와 기울기 함수로 모델을 학습해주세요.\n",
        "- loss값이 충분히 떨어질 때까지 학습을 진행해주세요.\n",
        "- 입력하는 데이터인 X에 들어가는 특성 컬럼들을 몇 개 빼도 괜찮습니다. 다양한 데이터로 실험해 보세요."
      ]
    },
    {
      "cell_type": "code",
      "execution_count": null,
      "metadata": {
        "id": "_CqEPsKWQ9yQ"
      },
      "outputs": [],
      "source": [
        "losses = []\n",
        "for i in range(1, 10001):\n",
        "    dW, db = gradient(x_train, W, b, y_train)\n",
        "    W -= LEARNING_RATE * dW\n",
        "    b -= LEARNING_RATE * db\n",
        "    L = loss(x_train, W, b, y_train)\n",
        "    losses.append(L)\n",
        "    if i % 10 == 0:\n",
        "        print('Iteration %d : Loss %0.4f' % (i, L))"
      ]
    },
    {
      "cell_type": "markdown",
      "metadata": {
        "id": "sSjP-19fIRw0"
      },
      "source": [
        "### (10) test 데이터에 대한 성능 확인하기"
      ]
    },
    {
      "cell_type": "markdown",
      "metadata": {
        "id": "X3IzV81BIVEi"
      },
      "source": [
        "- test 데이터에 대한 성능을 확인해주세요."
      ]
    },
    {
      "cell_type": "code",
      "execution_count": 82,
      "metadata": {
        "colab": {
          "base_uri": "https://localhost:8080/"
        },
        "id": "_gS_Fn4rSknf",
        "outputId": "cf1a16e7-d7da-4ccc-c101-5387cd3155d1"
      },
      "outputs": [
        {
          "data": {
            "text/plain": [
              "2886.993064016794"
            ]
          },
          "execution_count": 82,
          "metadata": {},
          "output_type": "execute_result"
        }
      ],
      "source": [
        "# test 데이터에 대한 성능을 확인해주세요.\n",
        "prediction = model(x_test, W, b)\n",
        "mse = loss(x_test, W, b, y_test)\n",
        "mse"
      ]
    },
    {
      "cell_type": "markdown",
      "metadata": {
        "id": "L8G-mOMKTAy-"
      },
      "source": [
        "### (11) 정답 데이터와 예측한 데이터 시각화하기"
      ]
    },
    {
      "cell_type": "markdown",
      "metadata": {
        "id": "-SZWcGhuTEGC"
      },
      "source": [
        "- x축에는 X 데이터의 첫 번째 컬럼을, y축에는 정답인 target 데이터를 넣어서 모델이 예측한 데이터를 시각화해 주세요."
      ]
    },
    {
      "cell_type": "code",
      "execution_count": 85,
      "metadata": {
        "colab": {
          "base_uri": "https://localhost:8080/",
          "height": 430
        },
        "id": "9qol_ylpTH9A",
        "outputId": "c0ef70cc-0b34-4057-bbb8-b643c66d3694"
      },
      "outputs": [
        {
          "data": {
            "image/png": "[encoded data removed]",
            "text/plain": [
              "<Figure size 640x480 with 1 Axes>"
            ]
          },
          "metadata": {},
          "output_type": "display_data"
        }
      ],
      "source": [
        "# x축에는 X 데이터의 첫 번째 컬럼을, y축에는 정답인 target 데이터를 넣어서 모델이 예측한 데이터를 시각화해 주세요.\n",
        "plt.scatter(x_test[:, 0], y_test)\n",
        "plt.scatter(x_test[:, 0], prediction)\n",
        "plt.show()"
      ]
    }
  ],
  "metadata": {
    "colab": {
      "provenance": [],
      "toc_visible": true
    },
    "kernelspec": {
      "display_name": "Python 3",
      "name": "python3"
    },
    "language_info": {
      "name": "python"
    }
  },
  "nbformat": 4,
  "nbformat_minor": 0
}
