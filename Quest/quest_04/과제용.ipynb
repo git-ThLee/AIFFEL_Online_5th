{
  "cells": [
    {
      "cell_type": "markdown",
      "metadata": {
        "id": "8_xFVixAc0as"
      },
      "source": [
        "# (과제용)"
      ]
    },
    {
      "cell_type": "markdown",
      "metadata": {
        "id": "7TN81dYd-fmp"
      },
      "source": [
        "## 1) 데이터 준비와 확인"
      ]
    },
    {
      "cell_type": "code",
      "execution_count": null,
      "metadata": {
        "id": "N8dV71rG-yWr"
      },
      "outputs": [],
      "source": [
        "# 데이터 다운로드 - 깃허브\n",
        "#!git clone https://github.com/e9t/nsmc.git"
      ]
    },
    {
      "cell_type": "code",
      "execution_count": 1,
      "metadata": {
        "id": "GxgakYSGiaJz"
      },
      "outputs": [],
      "source": [
        "# konlpy 설치\n",
        "#!pip install -q konlpy"
      ]
    },
    {
      "cell_type": "code",
      "execution_count": null,
      "metadata": {
        "id": "oWDc-vuD8AJz"
      },
      "outputs": [],
      "source": [
        "# Mecab 설치 1\n",
        "#! git clone https://github.com/SOMJANG/Mecab-ko-for-Google-Colab.git"
      ]
    },
    {
      "cell_type": "code",
      "execution_count": 10,
      "metadata": {
        "colab": {
          "base_uri": "https://localhost:8080/"
        },
        "id": "dOK2dbrP9B8O",
        "outputId": "86645168-ae3a-4d08-e98f-8dd1f3576967"
      },
      "outputs": [
        {
          "name": "stdout",
          "output_type": "stream",
          "text": [
            "/content/Mecab-ko-for-Google-Colab\n"
          ]
        }
      ],
      "source": [
        "# Mecab 설치 2\n",
        "#%cd Mecab-ko-for-Google-Colab"
      ]
    },
    {
      "cell_type": "code",
      "execution_count": null,
      "metadata": {
        "id": "55jWd0Oq9BFL"
      },
      "outputs": [],
      "source": [
        "# Mecab 설치 3\n",
        "# !bash install_mecab-ko_on_colab_light_220429.sh"
      ]
    },
    {
      "cell_type": "code",
      "execution_count": 17,
      "metadata": {
        "id": "RjsOGQYzc6Cj"
      },
      "outputs": [],
      "source": [
        "import pandas\n",
        "import konlpy\n",
        "import gensim\n",
        "import pandas as pd\n",
        "import seaborn as sns"
      ]
    },
    {
      "cell_type": "code",
      "execution_count": 45,
      "metadata": {
        "colab": {
          "base_uri": "https://localhost:8080/",
          "height": 206
        },
        "id": "iBW09Jd1c7Fx",
        "outputId": "f441595c-1fec-49ba-ffa4-5ddefeac92e1"
      },
      "outputs": [
        {
          "data": {
            "text/html": [
              "\n",
              "\n",
              "  <div id=\"df-7a58a227-eee2-403a-bddd-462c1653937b\">\n",
              "    <div class=\"colab-df-container\">\n",
              "      <div>\n",
              "<style scoped>\n",
              "    .dataframe tbody tr th:only-of-type {\n",
              "        vertical-align: middle;\n",
              "    }\n",
              "\n",
              "    .dataframe tbody tr th {\n",
              "        vertical-align: top;\n",
              "    }\n",
              "\n",
              "    .dataframe thead th {\n",
              "        text-align: right;\n",
              "    }\n",
              "</style>\n",
              "<table border=\"1\" class=\"dataframe\">\n",
              "  <thead>\n",
              "    <tr style=\"text-align: right;\">\n",
              "      <th></th>\n",
              "      <th>id</th>\n",
              "      <th>document</th>\n",
              "      <th>label</th>\n",
              "    </tr>\n",
              "  </thead>\n",
              "  <tbody>\n",
              "    <tr>\n",
              "      <th>0</th>\n",
              "      <td>9976970</td>\n",
              "      <td>아 더빙.. 진짜 짜증나네요 목소리</td>\n",
              "      <td>0</td>\n",
              "    </tr>\n",
              "    <tr>\n",
              "      <th>1</th>\n",
              "      <td>3819312</td>\n",
              "      <td>흠...포스터보고 초딩영화줄....오버연기조차 가볍지 않구나</td>\n",
              "      <td>1</td>\n",
              "    </tr>\n",
              "    <tr>\n",
              "      <th>2</th>\n",
              "      <td>10265843</td>\n",
              "      <td>너무재밓었다그래서보는것을추천한다</td>\n",
              "      <td>0</td>\n",
              "    </tr>\n",
              "    <tr>\n",
              "      <th>3</th>\n",
              "      <td>9045019</td>\n",
              "      <td>교도소 이야기구먼 ..솔직히 재미는 없다..평점 조정</td>\n",
              "      <td>0</td>\n",
              "    </tr>\n",
              "    <tr>\n",
              "      <th>4</th>\n",
              "      <td>6483659</td>\n",
              "      <td>사이몬페그의 익살스런 연기가 돋보였던 영화!스파이더맨에서 늙어보이기만 했던 커스틴 ...</td>\n",
              "      <td>1</td>\n",
              "    </tr>\n",
              "  </tbody>\n",
              "</table>\n",
              "</div>\n",
              "      <button class=\"colab-df-convert\" onclick=\"convertToInteractive('df-7a58a227-eee2-403a-bddd-462c1653937b')\"\n",
              "              title=\"Convert this dataframe to an interactive table.\"\n",
              "              style=\"display:none;\">\n",
              "\n",
              "  <svg xmlns=\"http://www.w3.org/2000/svg\" height=\"24px\"viewBox=\"0 0 24 24\"\n",
              "       width=\"24px\">\n",
              "    <path d=\"M0 0h24v24H0V0z\" fill=\"none\"/>\n",
              "    <path d=\"M18.56 5.44l.94 2.06.94-2.06 2.06-.94-2.06-.94-.94-2.06-.94 2.06-2.06.94zm-11 1L8.5 8.5l.94-2.06 2.06-.94-2.06-.94L8.5 2.5l-.94 2.06-2.06.94zm10 10l.94 2.06.94-2.06 2.06-.94-2.06-.94-.94-2.06-.94 2.06-2.06.94z\"/><path d=\"M17.41 7.96l-1.37-1.37c-.4-.4-.92-.59-1.43-.59-.52 0-1.04.2-1.43.59L10.3 9.45l-7.72 7.72c-.78.78-.78 2.05 0 2.83L4 21.41c.39.39.9.59 1.41.59.51 0 1.02-.2 1.41-.59l7.78-7.78 2.81-2.81c.8-.78.8-2.07 0-2.86zM5.41 20L4 18.59l7.72-7.72 1.47 1.35L5.41 20z\"/>\n",
              "  </svg>\n",
              "      </button>\n",
              "\n",
              "\n",
              "\n",
              "    <div id=\"df-d1a0f107-dc38-47c1-95c7-faab93d91511\">\n",
              "      <button class=\"colab-df-quickchart\" onclick=\"quickchart('df-d1a0f107-dc38-47c1-95c7-faab93d91511')\"\n",
              "              title=\"Suggest charts.\"\n",
              "              style=\"display:none;\">\n",
              "\n",
              "<svg xmlns=\"http://www.w3.org/2000/svg\" height=\"24px\"viewBox=\"0 0 24 24\"\n",
              "     width=\"24px\">\n",
              "    <g>\n",
              "        <path d=\"M19 3H5c-1.1 0-2 .9-2 2v14c0 1.1.9 2 2 2h14c1.1 0 2-.9 2-2V5c0-1.1-.9-2-2-2zM9 17H7v-7h2v7zm4 0h-2V7h2v10zm4 0h-2v-4h2v4z\"/>\n",
              "    </g>\n",
              "</svg>\n",
              "      </button>\n",
              "    </div>\n",
              "\n",
              "<style>\n",
              "  .colab-df-quickchart {\n",
              "    background-color: #E8F0FE;\n",
              "    border: none;\n",
              "    border-radius: 50%;\n",
              "    cursor: pointer;\n",
              "    display: none;\n",
              "    fill: #1967D2;\n",
              "    height: 32px;\n",
              "    padding: 0 0 0 0;\n",
              "    width: 32px;\n",
              "  }\n",
              "\n",
              "  .colab-df-quickchart:hover {\n",
              "    background-color: #E2EBFA;\n",
              "    box-shadow: 0px 1px 2px rgba(60, 64, 67, 0.3), 0px 1px 3px 1px rgba(60, 64, 67, 0.15);\n",
              "    fill: #174EA6;\n",
              "  }\n",
              "\n",
              "  [theme=dark] .colab-df-quickchart {\n",
              "    background-color: #3B4455;\n",
              "    fill: #D2E3FC;\n",
              "  }\n",
              "\n",
              "  [theme=dark] .colab-df-quickchart:hover {\n",
              "    background-color: #434B5C;\n",
              "    box-shadow: 0px 1px 3px 1px rgba(0, 0, 0, 0.15);\n",
              "    filter: drop-shadow(0px 1px 2px rgba(0, 0, 0, 0.3));\n",
              "    fill: #FFFFFF;\n",
              "  }\n",
              "</style>\n",
              "\n",
              "    <script>\n",
              "      async function quickchart(key) {\n",
              "        const containerElement = document.querySelector('#' + key);\n",
              "        const charts = await google.colab.kernel.invokeFunction(\n",
              "            'suggestCharts', [key], {});\n",
              "      }\n",
              "    </script>\n",
              "\n",
              "      <script>\n",
              "\n",
              "function displayQuickchartButton(domScope) {\n",
              "  let quickchartButtonEl =\n",
              "    domScope.querySelector('#df-d1a0f107-dc38-47c1-95c7-faab93d91511 button.colab-df-quickchart');\n",
              "  quickchartButtonEl.style.display =\n",
              "    google.colab.kernel.accessAllowed ? 'block' : 'none';\n",
              "}\n",
              "\n",
              "        displayQuickchartButton(document);\n",
              "      </script>\n",
              "      <style>\n",
              "    .colab-df-container {\n",
              "      display:flex;\n",
              "      flex-wrap:wrap;\n",
              "      gap: 12px;\n",
              "    }\n",
              "\n",
              "    .colab-df-convert {\n",
              "      background-color: #E8F0FE;\n",
              "      border: none;\n",
              "      border-radius: 50%;\n",
              "      cursor: pointer;\n",
              "      display: none;\n",
              "      fill: #1967D2;\n",
              "      height: 32px;\n",
              "      padding: 0 0 0 0;\n",
              "      width: 32px;\n",
              "    }\n",
              "\n",
              "    .colab-df-convert:hover {\n",
              "      background-color: #E2EBFA;\n",
              "      box-shadow: 0px 1px 2px rgba(60, 64, 67, 0.3), 0px 1px 3px 1px rgba(60, 64, 67, 0.15);\n",
              "      fill: #174EA6;\n",
              "    }\n",
              "\n",
              "    [theme=dark] .colab-df-convert {\n",
              "      background-color: #3B4455;\n",
              "      fill: #D2E3FC;\n",
              "    }\n",
              "\n",
              "    [theme=dark] .colab-df-convert:hover {\n",
              "      background-color: #434B5C;\n",
              "      box-shadow: 0px 1px 3px 1px rgba(0, 0, 0, 0.15);\n",
              "      filter: drop-shadow(0px 1px 2px rgba(0, 0, 0, 0.3));\n",
              "      fill: #FFFFFF;\n",
              "    }\n",
              "  </style>\n",
              "\n",
              "      <script>\n",
              "        const buttonEl =\n",
              "          document.querySelector('#df-7a58a227-eee2-403a-bddd-462c1653937b button.colab-df-convert');\n",
              "        buttonEl.style.display =\n",
              "          google.colab.kernel.accessAllowed ? 'block' : 'none';\n",
              "\n",
              "        async function convertToInteractive(key) {\n",
              "          const element = document.querySelector('#df-7a58a227-eee2-403a-bddd-462c1653937b');\n",
              "          const dataTable =\n",
              "            await google.colab.kernel.invokeFunction('convertToInteractive',\n",
              "                                                     [key], {});\n",
              "          if (!dataTable) return;\n",
              "\n",
              "          const docLinkHtml = 'Like what you see? Visit the ' +\n",
              "            '<a target=\"_blank\" href=https://colab.research.google.com/notebooks/data_table.ipynb>data table notebook</a>'\n",
              "            + ' to learn more about interactive tables.';\n",
              "          element.innerHTML = '';\n",
              "          dataTable['output_type'] = 'display_data';\n",
              "          await google.colab.output.renderOutput(dataTable, element);\n",
              "          const docLink = document.createElement('div');\n",
              "          docLink.innerHTML = docLinkHtml;\n",
              "          element.appendChild(docLink);\n",
              "        }\n",
              "      </script>\n",
              "    </div>\n",
              "  </div>\n"
            ],
            "text/plain": [
              "         id                                           document  label\n",
              "0   9976970                                아 더빙.. 진짜 짜증나네요 목소리      0\n",
              "1   3819312                  흠...포스터보고 초딩영화줄....오버연기조차 가볍지 않구나      1\n",
              "2  10265843                                  너무재밓었다그래서보는것을추천한다      0\n",
              "3   9045019                      교도소 이야기구먼 ..솔직히 재미는 없다..평점 조정      0\n",
              "4   6483659  사이몬페그의 익살스런 연기가 돋보였던 영화!스파이더맨에서 늙어보이기만 했던 커스틴 ...      1"
            ]
          },
          "execution_count": 45,
          "metadata": {},
          "output_type": "execute_result"
        }
      ],
      "source": [
        "# 데이터를 읽어봅시다.\n",
        "train_data = pd.read_table('/content/nsmc/ratings_train.txt')\n",
        "test_data = pd.read_table('/content/nsmc/ratings_test.txt')\n",
        "\n",
        "train_data.head()"
      ]
    },
    {
      "cell_type": "markdown",
      "metadata": {
        "id": "m7Av8hpF-8kg"
      },
      "source": [
        "## 2) 데이터로더 구성"
      ]
    },
    {
      "cell_type": "markdown",
      "metadata": {
        "id": "lYNgMyAd-9Pq"
      },
      "source": [
        "- 데이터의 중복 제거\n",
        "- NaN 결측치 제거\n",
        "- 한국어 토크나이저로 토큰화\n",
        "- 불용어(Stopwords) 제거\n",
        "- 사전word_to_index 구성\n",
        "- 텍스트 스트링을 사전 인덱스 스트링으로 변환\n",
        "- X_train, y_train, X_test, y_test, word_to_index 리턴"
      ]
    },
    {
      "cell_type": "code",
      "execution_count": 91,
      "metadata": {
        "id": "loQlDTpjc8Hj"
      },
      "outputs": [],
      "source": [
        "from konlpy.tag import Mecab, Okt\n",
        "import numpy as np\n",
        "from collections import Counter\n",
        "\n",
        "tokenizer = Mecab()\n",
        "stopwords = ['의','가','이','은','들','는','좀','잘','걍','과','도','를','으로','자','에','와','한','하다']\n",
        "\n",
        "def load_data(train_data, test_data, num_words=10000):\n",
        "    # 중복 데이터 제거\n",
        "    train_data.drop_duplicates(subset=['document'], inplace=True)\n",
        "    train_data = train_data.dropna(how='any')\n",
        "    test_data.drop_duplicates(subset=['document'], inplace=True)\n",
        "    test_data = test_data.dropna(how='any')\n",
        "\n",
        "    X_train = []\n",
        "    for sentence in train_data['document']:\n",
        "        temp_X = tokenizer.morphs(sentence)  # 토큰화\n",
        "        temp_X = [word for word in temp_X if not word in stopwords]  # 불용어 제거\n",
        "        X_train.append(temp_X)\n",
        "\n",
        "    X_test = []\n",
        "    for sentence in test_data['document']:\n",
        "        temp_X = tokenizer.morphs(sentence)  # 토큰화\n",
        "        temp_X = [word for word in temp_X if not word in stopwords]  # 불용어 제거\n",
        "        X_test.append(temp_X)\n",
        "\n",
        "    words = np.concatenate(X_train).tolist()\n",
        "    counter = Counter(words)\n",
        "    counter = counter.most_common(num_words - 4)\n",
        "    #vocab = ['', '', '', ''] + [key for key, _ in counter]\n",
        "    vocab = ['<PAD>', '<BOS>', '<UNK>', '<UNUSED>'] + [key for key, _ in counter]\n",
        "\n",
        "    word_to_index = {word: index for index, word in enumerate(vocab)}\n",
        "\n",
        "    def wordlist_to_indexlist(wordlist):\n",
        "        # return [word_to_index[word] if word in word_to_index else word_to_index[''] for word in wordlist]\n",
        "        return [word_to_index[word] if word in word_to_index else word_to_index['<UNK>'] for word in wordlist]\n",
        "\n",
        "    X_train = list(map(wordlist_to_indexlist, X_train))\n",
        "    X_test = list(map(wordlist_to_indexlist, X_test))\n",
        "\n",
        "    return X_train, np.array(list(train_data['label'])), X_test, np.array(list(test_data['label'])), word_to_index\n",
        "\n",
        "X_train, y_train, X_test, y_test, word_to_index = load_data(train_data, test_data)\n"
      ]
    },
    {
      "cell_type": "code",
      "execution_count": 92,
      "metadata": {
        "id": "gTo_1OOac9Lj"
      },
      "outputs": [],
      "source": [
        "index_to_word = {index:word for word, index in word_to_index.items()}"
      ]
    },
    {
      "cell_type": "code",
      "execution_count": 96,
      "metadata": {
        "colab": {
          "base_uri": "https://localhost:8080/"
        },
        "id": "Efj-gs82HmmO",
        "outputId": "1f473612-f44d-49be-f88b-009a71d62e7e"
      },
      "outputs": [
        {
          "name": "stdout",
          "output_type": "stream",
          "text": [
            "<PAD>\n",
            "<BOS>\n",
            "<UNK>\n",
            "<UNUSED>\n",
            ".\n",
            "영화\n",
            "다\n",
            "고\n",
            "하\n",
            "을\n"
          ]
        }
      ],
      "source": [
        "for i in range(10):\n",
        "  print(index_to_word[i])"
      ]
    },
    {
      "cell_type": "code",
      "execution_count": 93,
      "metadata": {
        "id": "zi9zVPMHc-Dk"
      },
      "outputs": [],
      "source": [
        "# 문장 1개를 활용할 딕셔너리와 함께 주면, 단어 인덱스 리스트 벡터로 변환해 주는 함수입니다.\n",
        "# 단, 모든 문장은 <BOS>로 시작하는 것으로 합니다.\n",
        "def get_encoded_sentence(sentence, word_to_index):\n",
        "    return [word_to_index['<BOS>']]+[word_to_index[word] if word in word_to_index else word_to_index['<UNK>'] for word in sentence.split()]\n",
        "\n",
        "# 여러 개의 문장 리스트를 한꺼번에 단어 인덱스 리스트 벡터로 encode해 주는 함수입니다.\n",
        "def get_encoded_sentences(sentences, word_to_index):\n",
        "    return [get_encoded_sentence(sentence, word_to_index) for sentence in sentences]\n",
        "\n",
        "# 숫자 벡터로 encode된 문장을 원래대로 decode하는 함수입니다.\n",
        "def get_decoded_sentence(encoded_sentence, index_to_word):\n",
        "    return ' '.join(index_to_word[index] if index in index_to_word else '<UNK>' for index in encoded_sentence[1:])  #[1:]를 통해 <BOS>를 제외\n",
        "\n",
        "# 여러 개의 숫자 벡터로 encode된 문장을 한꺼번에 원래대로 decode하는 함수입니다.\n",
        "def get_decoded_sentences(encoded_sentences, index_to_word):\n",
        "    return [get_decoded_sentence(encoded_sentence, index_to_word) for encoded_sentence in encoded_sentences]"
      ]
    },
    {
      "cell_type": "code",
      "execution_count": 94,
      "metadata": {
        "colab": {
          "base_uri": "https://localhost:8080/",
          "height": 35
        },
        "id": "an3wlMpqG0o0",
        "outputId": "2aeb5d99-d592-4564-d757-6991ba226474"
      },
      "outputs": [
        {
          "data": {
            "application/vnd.google.colaboratory.intrinsic+json": {
              "type": "string"
            },
            "text/plain": [
              "'더 빙 . . 진짜 짜증 나 네요 목소리'"
            ]
          },
          "execution_count": 94,
          "metadata": {},
          "output_type": "execute_result"
        }
      ],
      "source": [
        "get_decoded_sentence(X_train[0], index_to_word)"
      ]
    },
    {
      "cell_type": "markdown",
      "metadata": {
        "id": "qel2PJgP_ISj"
      },
      "source": [
        "## 3) 모델 구성을 위한 데이터 분석 및 가공"
      ]
    },
    {
      "cell_type": "markdown",
      "metadata": {
        "id": "PvtQwsWt_KHN"
      },
      "source": [
        "- 데이터셋 내 문장 길이 분포\n",
        "- 적절한 최대 문장 길이 지정\n",
        "- keras.preprocessing.sequence.pad_sequences 을 활용한 패딩 추가"
      ]
    },
    {
      "cell_type": "markdown",
      "metadata": {
        "id": "U8VCMcj7A5du"
      },
      "source": [
        "### 데이터셋 내 문장 길이 분포"
      ]
    },
    {
      "cell_type": "code",
      "execution_count": 97,
      "metadata": {
        "colab": {
          "base_uri": "https://localhost:8080/",
          "height": 472
        },
        "id": "vpV3dPPTAhVo",
        "outputId": "52c47aec-c714-4778-f783-9d6ae57e8110"
      },
      "outputs": [
        {
          "data": {
            "image/png": "[encoded data removed]",
            "text/plain": [
              "<Figure size 640x480 with 1 Axes>"
            ]
          },
          "metadata": {},
          "output_type": "display_data"
        }
      ],
      "source": [
        "# 문장 길이에 따른 밀도 그래프\n",
        "total_data_text = list(X_train) + list(X_test)\n",
        "\n",
        "data_lengths = [len(data) for data in total_data_text]\n",
        "\n",
        "# 밀도 그래프 생성\n",
        "sns.kdeplot(data_lengths)\n",
        "plt.xlabel('Data Length')\n",
        "plt.ylabel('Density')\n",
        "plt.title('Data Length Density')\n",
        "plt.show()\n"
      ]
    },
    {
      "cell_type": "markdown",
      "metadata": {
        "id": "1Q4r-HWmBlTN"
      },
      "source": [
        "### 적절한 최대 문장 길이 지정"
      ]
    },
    {
      "cell_type": "markdown",
      "metadata": {
        "id": "llnq6LXPDs_R"
      },
      "source": [
        "> 아래 코드로 maxlen 지정\n",
        "\n",
        "```python\n",
        "max_tokens = np.mean(num_tokens) + 2 * np.std(num_tokens)\n",
        "maxlen = int(max_tokens)\n",
        "```"
      ]
    },
    {
      "cell_type": "code",
      "execution_count": 98,
      "metadata": {
        "colab": {
          "base_uri": "https://localhost:8080/"
        },
        "id": "dMvTrS4e_f86",
        "outputId": "eb8d0b4a-c56c-4940-9eff-54f7d859a8ce"
      },
      "outputs": [
        {
          "name": "stdout",
          "output_type": "stream",
          "text": [
            "문장길이 평균 :  15.971019612059036\n",
            "문장길이 최대 :  116\n",
            "문장길이 최소 :  0\n",
            "문장길이 표준편차 :  12.844062009473816\n",
            "pad_sequences maxlen :  41\n",
            "전체 문장의 0.9342629991962691%가 maxlen 설정값 이내에 포함됩니다. \n"
          ]
        }
      ],
      "source": [
        "total_data_text = list(X_train) + list(X_test)\n",
        "\n",
        "# 텍스트데이터 문장길이의 리스트를 생성한 후\n",
        "num_tokens = [len(tokens) for tokens in total_data_text]\n",
        "num_tokens = np.array(num_tokens)\n",
        "\n",
        "# 문장길이의 평균값, 최대값, 표준편차를 계산해 본다.\n",
        "print('문장길이 평균 : ', np.mean(num_tokens))\n",
        "print('문장길이 최대 : ', np.max(num_tokens))\n",
        "print('문장길이 최소 : ', np.min(num_tokens))\n",
        "print('문장길이 표준편차 : ', np.std(num_tokens))\n",
        "\n",
        "# 예를들어, 최대 길이를 (평균 + 2*표준편차)로 한다면,\n",
        "# 데이터의 분포를 파악하고, 데이터 포인트가 어느 정도 퍼져있는지를 판단하는 데 활용됩니다.\n",
        "max_tokens = np.mean(num_tokens) + 2 * np.std(num_tokens)\n",
        "maxlen = int(max_tokens)\n",
        "print('pad_sequences maxlen : ', maxlen)\n",
        "print(f'전체 문장의 {np.sum(num_tokens < max_tokens) / len(num_tokens)}%가 maxlen 설정값 이내에 포함됩니다. ')\n",
        "# 580 이상인 문장은 잘라냄"
      ]
    },
    {
      "cell_type": "markdown",
      "metadata": {
        "id": "-qqy3mvJBoKt"
      },
      "source": [
        "### keras.preprocessing.sequence.pad_sequences 을 활용한 패딩 추가"
      ]
    },
    {
      "cell_type": "code",
      "execution_count": 99,
      "metadata": {
        "id": "4muxJelkBvqS"
      },
      "outputs": [],
      "source": [
        "# padding\n",
        "# RNN 구조상 나중에 실제 데이터가 있는게 나음(성능 10% 차이났음)\n",
        "X_train = tf.keras.preprocessing.sequence.pad_sequences(X_train,\n",
        "                                                        value=0,\n",
        "                                                        padding='pre', # 혹은 'pre'\n",
        "                                                        maxlen=maxlen)\n",
        "\n",
        "X_test = tf.keras.preprocessing.sequence.pad_sequences(X_test,\n",
        "                                                       value=0,\n",
        "                                                       padding='pre', # 혹은 'pre'\n",
        "                                                       maxlen=maxlen)\n"
      ]
    },
    {
      "cell_type": "markdown",
      "metadata": {
        "id": "o7-L32Lk_LJR"
      },
      "source": [
        "## 4) 모델 구성 및 validation set 구성"
      ]
    },
    {
      "cell_type": "markdown",
      "metadata": {
        "id": "hpDNg6lX_NEa"
      },
      "source": [
        "- 모델은 3가지 이상 다양하게 구성하여 실험해 보세요."
      ]
    },
    {
      "cell_type": "markdown",
      "metadata": {
        "id": "QskI0BtFDe_2"
      },
      "source": [
        "### 모델 설계 & 훈련"
      ]
    },
    {
      "cell_type": "code",
      "execution_count": 136,
      "metadata": {
        "id": "0KLnRGxgDe_3"
      },
      "outputs": [],
      "source": [
        "vocab_size = len(index_to_word)    # 어휘 사전의 크기입니다(10,000개의 단어)\n",
        "word_vector_dim = 300  # 워드 벡터의 차원 수 (변경 가능한 하이퍼파라미터)"
      ]
    },
    {
      "cell_type": "markdown",
      "metadata": {
        "id": "f6Bzxnl2DihI"
      },
      "source": [
        "#### LSTM"
      ]
    },
    {
      "cell_type": "code",
      "execution_count": 119,
      "metadata": {
        "colab": {
          "base_uri": "https://localhost:8080/"
        },
        "id": "skEKiE5lDe_3",
        "outputId": "73afc80b-ce9a-40e4-d9a0-7c57df646012"
      },
      "outputs": [
        {
          "name": "stdout",
          "output_type": "stream",
          "text": [
            "Model: \"sequential_8\"\n",
            "_________________________________________________________________\n",
            " Layer (type)                Output Shape              Param #   \n",
            "=================================================================\n",
            " embedding_8 (Embedding)     (None, None, 300)         3000000   \n",
            "                                                                 \n",
            " lstm_6 (LSTM)               (None, 8)                 9888      \n",
            "                                                                 \n",
            " dense_16 (Dense)            (None, 8)                 72        \n",
            "                                                                 \n",
            " dense_17 (Dense)            (None, 1)                 9         \n",
            "                                                                 \n",
            "=================================================================\n",
            "Total params: 3,009,969\n",
            "Trainable params: 3,009,969\n",
            "Non-trainable params: 0\n",
            "_________________________________________________________________\n"
          ]
        }
      ],
      "source": [
        "# model 설계 - 딥러닝 모델 코드를 직접 작성해 주세요.\n",
        "model_LSTM = tf.keras.Sequential()\n",
        "# 1\n",
        "model_LSTM.add(tf.keras.layers.Embedding(vocab_size, word_vector_dim, input_shape=(None,)))\n",
        "model_LSTM.add(tf.keras.layers.LSTM(8))   # 가장 널리 쓰이는 RNN인 LSTM 레이어를 사용하였습니다. 이때 LSTM state 벡터의 차원수는 8로 하였습니다. (변경 가능)\n",
        "model_LSTM.add(tf.keras.layers.Dense(8, activation='relu'))\n",
        "model_LSTM.add(tf.keras.layers.Dense(1, activation='sigmoid'))  # 최종 출력은 긍정/부정을 나타내는 1dim 입니다.\n",
        "\n",
        "model_LSTM.summary()"
      ]
    },
    {
      "cell_type": "markdown",
      "metadata": {
        "id": "XhRIncSqDjto"
      },
      "source": [
        "#### CNN"
      ]
    },
    {
      "cell_type": "code",
      "execution_count": 137,
      "metadata": {
        "colab": {
          "base_uri": "https://localhost:8080/"
        },
        "id": "Zx0_vlscDe_4",
        "outputId": "faeea48e-c884-4a45-c8f7-04749f8f848c"
      },
      "outputs": [
        {
          "name": "stdout",
          "output_type": "stream",
          "text": [
            "Model: \"sequential_9\"\n",
            "_________________________________________________________________\n",
            " Layer (type)                Output Shape              Param #   \n",
            "=================================================================\n",
            " embedding_9 (Embedding)     (None, None, 300)         3000000   \n",
            "                                                                 \n",
            " conv1d_2 (Conv1D)           (None, None, 16)          33616     \n",
            "                                                                 \n",
            " max_pooling1d_1 (MaxPooling  (None, None, 16)         0         \n",
            " 1D)                                                             \n",
            "                                                                 \n",
            " conv1d_3 (Conv1D)           (None, None, 16)          1808      \n",
            "                                                                 \n",
            " global_max_pooling1d_2 (Glo  (None, 16)               0         \n",
            " balMaxPooling1D)                                                \n",
            "                                                                 \n",
            " dense_18 (Dense)            (None, 8)                 136       \n",
            "                                                                 \n",
            " dense_19 (Dense)            (None, 1)                 9         \n",
            "                                                                 \n",
            "=================================================================\n",
            "Total params: 3,035,569\n",
            "Trainable params: 3,035,569\n",
            "Non-trainable params: 0\n",
            "_________________________________________________________________\n"
          ]
        }
      ],
      "source": [
        "# model 설계 - 딥러닝 모델 코드를 직접 작성해 주세요.\n",
        "model_CNN = tf.keras.Sequential()\n",
        "# 2\n",
        "model_CNN.add(tf.keras.layers.Embedding(vocab_size, word_vector_dim, input_shape=(None,)))\n",
        "model_CNN.add(tf.keras.layers.Conv1D(16, 7, activation='relu'))\n",
        "model_CNN.add(tf.keras.layers.MaxPooling1D(5))\n",
        "model_CNN.add(tf.keras.layers.Conv1D(16, 7, activation='relu'))\n",
        "model_CNN.add(tf.keras.layers.GlobalMaxPooling1D())\n",
        "model_CNN.add(tf.keras.layers.Dense(8, activation='relu'))\n",
        "model_CNN.add(tf.keras.layers.Dense(1, activation='sigmoid'))  # 최종 출력은 긍정/부정을 나타내는 1dim 입니다.\n",
        "\n",
        "model_CNN.summary()"
      ]
    },
    {
      "cell_type": "markdown",
      "metadata": {
        "id": "Kn8kv4GdDlCz"
      },
      "source": [
        "#### GlobalMaxPooling1D"
      ]
    },
    {
      "cell_type": "code",
      "execution_count": null,
      "metadata": {
        "colab": {
          "base_uri": "https://localhost:8080/"
        },
        "id": "K2MWtAGkDe_4",
        "outputId": "8d6c1e00-b840-46b0-b29c-1c30ab464705"
      },
      "outputs": [
        {
          "name": "stdout",
          "output_type": "stream",
          "text": [
            "Model: \"sequential_2\"\n",
            "_________________________________________________________________\n",
            " Layer (type)                Output Shape              Param #   \n",
            "=================================================================\n",
            " embedding_2 (Embedding)     (None, None, 16)          160000    \n",
            "                                                                 \n",
            " global_max_pooling1d_1 (Glo  (None, 16)               0         \n",
            " balMaxPooling1D)                                                \n",
            "                                                                 \n",
            " dense_4 (Dense)             (None, 8)                 136       \n",
            "                                                                 \n",
            " dense_5 (Dense)             (None, 1)                 9         \n",
            "                                                                 \n",
            "=================================================================\n",
            "Total params: 160,145\n",
            "Trainable params: 160,145\n",
            "Non-trainable params: 0\n",
            "_________________________________________________________________\n"
          ]
        }
      ],
      "source": [
        "# model 설계 - 딥러닝 모델 코드를 직접 작성해 주세요.\n",
        "model_GMP = tf.keras.Sequential()\n",
        "# 3\n",
        "model_GMP.add(tf.keras.layers.Embedding(vocab_size, word_vector_dim, input_shape=(None,)))\n",
        "model_GMP.add(tf.keras.layers.GlobalMaxPooling1D())\n",
        "model_GMP.add(tf.keras.layers.Dense(8, activation='relu'))\n",
        "model_GMP.add(tf.keras.layers.Dense(1, activation='sigmoid'))  # 최종 출력은 긍정/부정을 나타내는 1dim 입니다.\n",
        "\n",
        "model_GMP.summary()"
      ]
    },
    {
      "cell_type": "markdown",
      "metadata": {
        "id": "BXZYFX5h_Nwz"
      },
      "source": [
        "## 5) 모델 훈련 개시"
      ]
    },
    {
      "cell_type": "code",
      "execution_count": 138,
      "metadata": {
        "colab": {
          "base_uri": "https://localhost:8080/"
        },
        "id": "7Ns0HEYHESzY",
        "outputId": "754767bb-06f7-4475-9cf0-fb9c97e24591"
      },
      "outputs": [
        {
          "data": {
            "text/plain": [
              "146182"
            ]
          },
          "execution_count": 138,
          "metadata": {},
          "output_type": "execute_result"
        }
      ],
      "source": [
        "len(X_train)"
      ]
    },
    {
      "cell_type": "code",
      "execution_count": 139,
      "metadata": {
        "colab": {
          "base_uri": "https://localhost:8080/"
        },
        "id": "J5Wsoc1-De_5",
        "outputId": "68565138-a2be-4fee-ab5f-225a66c98103"
      },
      "outputs": [
        {
          "name": "stdout",
          "output_type": "stream",
          "text": [
            "(100000, 41)\n",
            "(100000,)\n"
          ]
        }
      ],
      "source": [
        "# validation set 146182건 분리\n",
        "# train : valid = 100000 : 46182\n",
        "x_val = X_train[:46182]\n",
        "y_val = y_train[:46182]\n",
        "\n",
        "# validation set을 제외한 나머지 15000건\n",
        "partial_x_train = X_train[46182:]\n",
        "partial_y_train = y_train[46182:]\n",
        "\n",
        "print(partial_x_train.shape)\n",
        "print(partial_y_train.shape)"
      ]
    },
    {
      "cell_type": "markdown",
      "metadata": {
        "id": "EvGnsM3NT_yv"
      },
      "source": [
        "### LSTM"
      ]
    },
    {
      "cell_type": "code",
      "execution_count": 122,
      "metadata": {
        "colab": {
          "base_uri": "https://localhost:8080/"
        },
        "id": "I3P_VlgNDe_5",
        "outputId": "73259c99-7a62-4a7d-dd7d-324a65c9dd15"
      },
      "outputs": [
        {
          "name": "stdout",
          "output_type": "stream",
          "text": [
            "Epoch 1/10\n",
            "98/98 [==============================] - 40s 380ms/step - loss: 0.5796 - accuracy: 0.7222 - val_loss: 0.5025 - val_accuracy: 0.8360\n",
            "Epoch 2/10\n",
            "98/98 [==============================] - 36s 367ms/step - loss: 0.4803 - accuracy: 0.8502 - val_loss: 0.4816 - val_accuracy: 0.8418\n",
            "Epoch 3/10\n",
            "98/98 [==============================] - 37s 374ms/step - loss: 0.4441 - accuracy: 0.8655 - val_loss: 0.4703 - val_accuracy: 0.8420\n",
            "Epoch 4/10\n",
            "98/98 [==============================] - 36s 371ms/step - loss: 0.4166 - accuracy: 0.8760 - val_loss: 0.4629 - val_accuracy: 0.8410\n",
            "Epoch 5/10\n",
            "98/98 [==============================] - 37s 379ms/step - loss: 0.3928 - accuracy: 0.8849 - val_loss: 0.4583 - val_accuracy: 0.8421\n",
            "Epoch 6/10\n",
            "98/98 [==============================] - 35s 363ms/step - loss: 0.3719 - accuracy: 0.8921 - val_loss: 0.4654 - val_accuracy: 0.8419\n",
            "Epoch 7/10\n",
            "98/98 [==============================] - 41s 417ms/step - loss: 0.3542 - accuracy: 0.8971 - val_loss: 0.4587 - val_accuracy: 0.8393\n",
            "Epoch 8/10\n",
            "98/98 [==============================] - 41s 418ms/step - loss: 0.3378 - accuracy: 0.9029 - val_loss: 0.4648 - val_accuracy: 0.8401\n",
            "Epoch 9/10\n",
            "98/98 [==============================] - 38s 388ms/step - loss: 0.3232 - accuracy: 0.9073 - val_loss: 0.4601 - val_accuracy: 0.8387\n",
            "Epoch 10/10\n",
            "98/98 [==============================] - 40s 407ms/step - loss: 0.3110 - accuracy: 0.9106 - val_loss: 0.4597 - val_accuracy: 0.8380\n"
          ]
        }
      ],
      "source": [
        "model_LSTM.compile(optimizer='adam',\n",
        "              loss='binary_crossentropy',\n",
        "              metrics=['accuracy'])\n",
        "\n",
        "epochs=10  # 몇 epoch를 훈련하면 좋을지 결과를 보면서 바꾸어 봅시다.\n",
        "\n",
        "history = model_LSTM.fit(partial_x_train,\n",
        "                    partial_y_train,\n",
        "                    epochs=epochs,\n",
        "                    batch_size=1024,\n",
        "                    validation_data=(x_val, y_val),\n",
        "                    verbose=1)"
      ]
    },
    {
      "cell_type": "code",
      "execution_count": 123,
      "metadata": {
        "colab": {
          "base_uri": "https://localhost:8080/"
        },
        "id": "xu_5kVfODe_5",
        "outputId": "8edcfed1-44fd-4949-aa90-a2562a14b598"
      },
      "outputs": [
        {
          "name": "stdout",
          "output_type": "stream",
          "text": [
            "1537/1537 - 11s - loss: 0.4687 - accuracy: 0.8322 - 11s/epoch - 7ms/step\n",
            "[0.4687405824661255, 0.8322314023971558]\n"
          ]
        }
      ],
      "source": [
        "results = model_LSTM.evaluate(X_test,  y_test, verbose=2)\n",
        "\n",
        "print(results)"
      ]
    },
    {
      "cell_type": "markdown",
      "metadata": {
        "id": "dlHfT7zZUNR6"
      },
      "source": [
        "### CNN"
      ]
    },
    {
      "cell_type": "code",
      "execution_count": 142,
      "metadata": {
        "colab": {
          "base_uri": "https://localhost:8080/"
        },
        "id": "cVu-AI5-UNSG",
        "outputId": "5bdc988a-f4ef-4fc3-e786-eccb3379e1fe"
      },
      "outputs": [
        {
          "name": "stdout",
          "output_type": "stream",
          "text": [
            "Epoch 1/5\n",
            "98/98 [==============================] - 82s 805ms/step - loss: 0.4070 - accuracy: 0.8253 - val_loss: 0.3492 - val_accuracy: 0.8476\n",
            "Epoch 2/5\n",
            "98/98 [==============================] - 85s 870ms/step - loss: 0.3092 - accuracy: 0.8702 - val_loss: 0.3376 - val_accuracy: 0.8517\n",
            "Epoch 3/5\n",
            "98/98 [==============================] - 68s 692ms/step - loss: 0.2646 - accuracy: 0.8937 - val_loss: 0.3405 - val_accuracy: 0.8530\n",
            "Epoch 4/5\n",
            "98/98 [==============================] - 72s 733ms/step - loss: 0.2170 - accuracy: 0.9173 - val_loss: 0.3563 - val_accuracy: 0.8517\n",
            "Epoch 5/5\n",
            "98/98 [==============================] - 64s 645ms/step - loss: 0.1651 - accuracy: 0.9425 - val_loss: 0.3916 - val_accuracy: 0.8469\n"
          ]
        }
      ],
      "source": [
        "model_CNN.compile(optimizer='adam',\n",
        "              loss='binary_crossentropy',\n",
        "              metrics=['accuracy'])\n",
        "\n",
        "epochs=5 # 몇 epoch를 훈련하면 좋을지 결과를 보면서 바꾸어 봅시다.\n",
        "\n",
        "history_CNN = model_CNN.fit(partial_x_train,\n",
        "                    partial_y_train,\n",
        "                    epochs=epochs,\n",
        "                    batch_size=1024,\n",
        "                    validation_data=(x_val, y_val),\n",
        "                    verbose=1)"
      ]
    },
    {
      "cell_type": "code",
      "execution_count": 146,
      "metadata": {
        "colab": {
          "base_uri": "https://localhost:8080/"
        },
        "id": "1xDAaNkNUNSH",
        "outputId": "961746e8-a09e-4a69-d637-266acd85448f"
      },
      "outputs": [
        {
          "name": "stdout",
          "output_type": "stream",
          "text": [
            "1537/1537 - 6s - loss: 0.4060 - accuracy: 0.8435 - 6s/epoch - 4ms/step\n",
            "[0.4059842824935913, 0.8434810638427734]\n"
          ]
        }
      ],
      "source": [
        "results_CNN = model_CNN.evaluate(X_test,  y_test, verbose=2)\n",
        "\n",
        "print(results_CNN)"
      ]
    },
    {
      "cell_type": "markdown",
      "metadata": {
        "id": "nXSiiT-9Ut9N"
      },
      "source": [
        "### GlobalMaxPooling1D"
      ]
    },
    {
      "cell_type": "code",
      "execution_count": 147,
      "metadata": {
        "colab": {
          "base_uri": "https://localhost:8080/"
        },
        "id": "GuPVvIFTUt9N",
        "outputId": "fe795f1a-8c12-4619-f537-ad7733fc9e5d"
      },
      "outputs": [
        {
          "name": "stdout",
          "output_type": "stream",
          "text": [
            "Epoch 1/5\n",
            "98/98 [==============================] - 2s 16ms/step - loss: 0.6638 - accuracy: 0.7199 - val_loss: 0.6070 - val_accuracy: 0.7849\n",
            "Epoch 2/5\n",
            "98/98 [==============================] - 1s 14ms/step - loss: 0.5236 - accuracy: 0.8068 - val_loss: 0.4481 - val_accuracy: 0.8178\n",
            "Epoch 3/5\n",
            "98/98 [==============================] - 1s 13ms/step - loss: 0.3983 - accuracy: 0.8371 - val_loss: 0.3823 - val_accuracy: 0.8344\n",
            "Epoch 4/5\n",
            "98/98 [==============================] - 2s 15ms/step - loss: 0.3460 - accuracy: 0.8569 - val_loss: 0.3624 - val_accuracy: 0.8404\n",
            "Epoch 5/5\n",
            "98/98 [==============================] - 2s 21ms/step - loss: 0.3176 - accuracy: 0.8694 - val_loss: 0.3553 - val_accuracy: 0.8428\n"
          ]
        }
      ],
      "source": [
        "model_GMP.compile(optimizer='adam',\n",
        "              loss='binary_crossentropy',\n",
        "              metrics=['accuracy'])\n",
        "\n",
        "epochs=5 # 몇 epoch를 훈련하면 좋을지 결과를 보면서 바꾸어 봅시다.\n",
        "\n",
        "history_GMP = model_GMP.fit(partial_x_train,\n",
        "                    partial_y_train,\n",
        "                    epochs=epochs,\n",
        "                    batch_size=1024,\n",
        "                    validation_data=(x_val, y_val),\n",
        "                    verbose=1)"
      ]
    },
    {
      "cell_type": "code",
      "execution_count": 148,
      "metadata": {
        "colab": {
          "base_uri": "https://localhost:8080/"
        },
        "id": "pYqwYDzdUt9O",
        "outputId": "072846f2-fb70-45d6-8da2-02308c91d4fe"
      },
      "outputs": [
        {
          "name": "stdout",
          "output_type": "stream",
          "text": [
            "1537/1537 - 2s - loss: 0.3652 - accuracy: 0.8392 - 2s/epoch - 1ms/step\n",
            "[0.36515551805496216, 0.83916836977005]\n"
          ]
        }
      ],
      "source": [
        "results_GMP = model_GMP.evaluate(X_test,  y_test, verbose=2)\n",
        "\n",
        "print(results_GMP)"
      ]
    },
    {
      "cell_type": "markdown",
      "metadata": {
        "id": "H4qlSGnq_Ppk"
      },
      "source": [
        "## 6) Loss, Accuracy 그래프 시각화"
      ]
    },
    {
      "cell_type": "markdown",
      "metadata": {
        "id": "59WtWNVKUkqK"
      },
      "source": [
        "### LSTM"
      ]
    },
    {
      "cell_type": "code",
      "execution_count": null,
      "metadata": {
        "colab": {
          "base_uri": "https://localhost:8080/"
        },
        "id": "5MpUxpdjUkqU",
        "outputId": "8d32040f-504c-49ab-da1d-1f88e5f04fd3"
      },
      "outputs": [
        {
          "name": "stdout",
          "output_type": "stream",
          "text": [
            "dict_keys(['loss', 'accuracy', 'val_loss', 'val_accuracy'])\n"
          ]
        }
      ],
      "source": [
        "history_GMP_dict = history_GMP.history\n",
        "print(history_GMP_dict.keys()) # epoch에 따른 그래프를 그려볼 수 있는 항목들"
      ]
    },
    {
      "cell_type": "code",
      "execution_count": null,
      "metadata": {
        "colab": {
          "base_uri": "https://localhost:8080/",
          "height": 472
        },
        "id": "H86ABV1rUkqU",
        "outputId": "42f2e219-143f-498c-e1d6-6ab8486d750f"
      },
      "outputs": [
        {
          "data": {
            "image/png": "[encoded data removed]",
            "text/plain": [
              "<Figure size 640x480 with 1 Axes>"
            ]
          },
          "metadata": {},
          "output_type": "display_data"
        }
      ],
      "source": [
        "import matplotlib.pyplot as plt\n",
        "\n",
        "acc = history_GMP_dict['accuracy']\n",
        "val_acc = history_GMP_dict['val_accuracy']\n",
        "loss = history_GMP_dict['loss']\n",
        "val_loss = history_GMP_dict['val_loss']\n",
        "\n",
        "epochs = range(1, len(acc) + 1)\n",
        "\n",
        "# \"bo\"는 \"파란색 점\"입니다\n",
        "plt.plot(epochs, loss, 'r', label='Training loss')\n",
        "# b는 \"파란 실선\"입니다\n",
        "plt.plot(epochs, val_loss, 'b', label='Validation loss')\n",
        "plt.title('Training and validation loss')\n",
        "plt.xlabel('Epochs')\n",
        "plt.ylabel('Loss')\n",
        "plt.legend()\n",
        "\n",
        "plt.show()"
      ]
    },
    {
      "cell_type": "code",
      "execution_count": null,
      "metadata": {
        "colab": {
          "base_uri": "https://localhost:8080/",
          "height": 472
        },
        "id": "Mv6MrZunUkqV",
        "outputId": "a61924d2-eda2-41e6-d4b5-a0d6d84f83cb"
      },
      "outputs": [
        {
          "data": {
            "image/png": "[encoded data removed]",
            "text/plain": [
              "<Figure size 640x480 with 1 Axes>"
            ]
          },
          "metadata": {},
          "output_type": "display_data"
        }
      ],
      "source": [
        "plt.clf()   # 그림을 초기화합니다\n",
        "\n",
        "plt.plot(epochs, acc, 'r', label='Training acc')\n",
        "plt.plot(epochs, val_acc, 'b', label='Validation acc')\n",
        "plt.title('Training and validation accuracy')\n",
        "plt.xlabel('Epochs')\n",
        "plt.ylabel('Accuracy')\n",
        "plt.legend()\n",
        "\n",
        "plt.show()"
      ]
    },
    {
      "cell_type": "markdown",
      "metadata": {
        "id": "S0oZU5XkUE36"
      },
      "source": [
        "### CNN"
      ]
    },
    {
      "cell_type": "code",
      "execution_count": 143,
      "metadata": {
        "colab": {
          "base_uri": "https://localhost:8080/"
        },
        "id": "PISGYOQNDe_6",
        "outputId": "a9185226-2416-47f5-8e33-50335cc3302a"
      },
      "outputs": [
        {
          "name": "stdout",
          "output_type": "stream",
          "text": [
            "dict_keys(['loss', 'accuracy', 'val_loss', 'val_accuracy'])\n"
          ]
        }
      ],
      "source": [
        "history_CNN_dict = history_CNN.history\n",
        "print(history_CNN_dict.keys()) # epoch에 따른 그래프를 그려볼 수 있는 항목들"
      ]
    },
    {
      "cell_type": "code",
      "execution_count": 144,
      "metadata": {
        "colab": {
          "base_uri": "https://localhost:8080/",
          "height": 472
        },
        "id": "lkkHPtEYDe_6",
        "outputId": "5295d0d9-d4b1-4e88-d544-125a354c0d5d"
      },
      "outputs": [
        {
          "data": {
            "image/png": "[encoded data removed]",
            "text/plain": [
              "<Figure size 640x480 with 1 Axes>"
            ]
          },
          "metadata": {},
          "output_type": "display_data"
        }
      ],
      "source": [
        "import matplotlib.pyplot as plt\n",
        "\n",
        "acc = history_CNN_dict['accuracy']\n",
        "val_acc = history_CNN_dict['val_accuracy']\n",
        "loss = history_CNN_dict['loss']\n",
        "val_loss = history_CNN_dict['val_loss']\n",
        "\n",
        "epochs = range(1, len(acc) + 1)\n",
        "\n",
        "# \"bo\"는 \"파란색 점\"입니다\n",
        "plt.plot(epochs, loss, 'r', label='Training loss')\n",
        "# b는 \"파란 실선\"입니다\n",
        "plt.plot(epochs, val_loss, 'b', label='Validation loss')\n",
        "plt.title('Training and validation loss')\n",
        "plt.xlabel('Epochs')\n",
        "plt.ylabel('Loss')\n",
        "plt.legend()\n",
        "\n",
        "plt.show()"
      ]
    },
    {
      "cell_type": "code",
      "execution_count": 145,
      "metadata": {
        "colab": {
          "base_uri": "https://localhost:8080/",
          "height": 472
        },
        "id": "g2jxbW6ODe_6",
        "outputId": "bbccb872-0bfe-4b8e-d4b5-d093907d0fa9"
      },
      "outputs": [
        {
          "data": {
            "image/png": "[encoded data removed]",
            "text/plain": [
              "<Figure size 640x480 with 1 Axes>"
            ]
          },
          "metadata": {},
          "output_type": "display_data"
        }
      ],
      "source": [
        "plt.clf()   # 그림을 초기화합니다\n",
        "\n",
        "plt.plot(epochs, acc, 'r', label='Training acc')\n",
        "plt.plot(epochs, val_acc, 'b', label='Validation acc')\n",
        "plt.title('Training and validation accuracy')\n",
        "plt.xlabel('Epochs')\n",
        "plt.ylabel('Accuracy')\n",
        "plt.legend()\n",
        "\n",
        "plt.show()"
      ]
    },
    {
      "cell_type": "markdown",
      "metadata": {
        "id": "PdpWBGNzUxrd"
      },
      "source": [
        "### GlobalMaxPooling1D"
      ]
    },
    {
      "cell_type": "code",
      "execution_count": 149,
      "metadata": {
        "colab": {
          "base_uri": "https://localhost:8080/"
        },
        "id": "aUbweOL_Uxrm",
        "outputId": "4ba7c457-3540-45f9-c871-8b2b1540f080"
      },
      "outputs": [
        {
          "name": "stdout",
          "output_type": "stream",
          "text": [
            "dict_keys(['loss', 'accuracy', 'val_loss', 'val_accuracy'])\n"
          ]
        }
      ],
      "source": [
        "history_GMP_dict = history_GMP.history\n",
        "print(history_GMP_dict.keys()) # epoch에 따른 그래프를 그려볼 수 있는 항목들"
      ]
    },
    {
      "cell_type": "code",
      "execution_count": 150,
      "metadata": {
        "colab": {
          "base_uri": "https://localhost:8080/",
          "height": 472
        },
        "id": "iz26fN_pUxrm",
        "outputId": "2ecc11b9-16dd-42a7-fc51-a1a143335c61"
      },
      "outputs": [
        {
          "data": {
            "image/png": "[encoded data removed]",
            "text/plain": [
              "<Figure size 640x480 with 1 Axes>"
            ]
          },
          "metadata": {},
          "output_type": "display_data"
        }
      ],
      "source": [
        "import matplotlib.pyplot as plt\n",
        "\n",
        "acc = history_GMP_dict['accuracy']\n",
        "val_acc = history_GMP_dict['val_accuracy']\n",
        "loss = history_GMP_dict['loss']\n",
        "val_loss = history_GMP_dict['val_loss']\n",
        "\n",
        "epochs = range(1, len(acc) + 1)\n",
        "\n",
        "# \"bo\"는 \"파란색 점\"입니다\n",
        "plt.plot(epochs, loss, 'r', label='Training loss')\n",
        "# b는 \"파란 실선\"입니다\n",
        "plt.plot(epochs, val_loss, 'b', label='Validation loss')\n",
        "plt.title('Training and validation loss')\n",
        "plt.xlabel('Epochs')\n",
        "plt.ylabel('Loss')\n",
        "plt.legend()\n",
        "\n",
        "plt.show()"
      ]
    },
    {
      "cell_type": "code",
      "execution_count": 151,
      "metadata": {
        "colab": {
          "base_uri": "https://localhost:8080/",
          "height": 472
        },
        "id": "lbabmRbYUxrn",
        "outputId": "cbcc246a-5bf0-43c7-b6c2-00ff3d8cefb0"
      },
      "outputs": [
        {
          "data": {
            "image/png": "[encoded data removed]",
            "text/plain": [
              "<Figure size 640x480 with 1 Axes>"
            ]
          },
          "metadata": {},
          "output_type": "display_data"
        }
      ],
      "source": [
        "plt.clf()   # 그림을 초기화합니다\n",
        "\n",
        "plt.plot(epochs, acc, 'r', label='Training acc')\n",
        "plt.plot(epochs, val_acc, 'b', label='Validation acc')\n",
        "plt.title('Training and validation accuracy')\n",
        "plt.xlabel('Epochs')\n",
        "plt.ylabel('Accuracy')\n",
        "plt.legend()\n",
        "\n",
        "plt.show()"
      ]
    },
    {
      "cell_type": "markdown",
      "metadata": {
        "id": "CFHyBFG7_RrT"
      },
      "source": [
        "## 7) 학습된 Embedding 레이어 분석"
      ]
    },
    {
      "cell_type": "markdown",
      "metadata": {
        "id": "GQ0UtjnxVXtz"
      },
      "source": [
        "### LSTM"
      ]
    },
    {
      "cell_type": "markdown",
      "metadata": {
        "id": "jgwV8J48OWcs"
      },
      "source": [
        "- train loss는 확실히 감소하지만, valid loss는 감소가 거의 없음\n",
        "  - word_vector_dim = 300  # 워드 벡터의 차원 수 깊나?"
      ]
    },
    {
      "cell_type": "markdown",
      "metadata": {
        "id": "rasE5sewVZYR"
      },
      "source": [
        "### CNN"
      ]
    },
    {
      "cell_type": "markdown",
      "metadata": {
        "id": "zgvkYlf3Vadv"
      },
      "source": [
        "### GlobalMaxPooling1D"
      ]
    },
    {
      "cell_type": "markdown",
      "metadata": {
        "id": "7QapkiXJ_SuW"
      },
      "source": [
        "## 8) 한국어 Word2Vec 임베딩 활용하여 성능 개선"
      ]
    },
    {
      "cell_type": "markdown",
      "metadata": {
        "id": "B3NSquFc_WWJ"
      },
      "source": [
        "- 한국어 Word2Vec은 /data 폴더 안에 있는 word2vec_ko.model을 활용하세요.\n",
        "- 한국어 Word2Vec을 활용할 때는 load_word2vec_format() 형태가 아닌 load() 형태로 모델을 불러와주세요. 또한 모델을 활용할 때에는 아래 예시와 같이 .wv를 붙여서 활용합니다. 좀더 자세한 활용법에 대해선 다음 링크들을 참조해주세요. 참고 링크1, 참고 링크2"
      ]
    },
    {
      "cell_type": "markdown",
      "metadata": {
        "id": "RKibeKTjO1UY"
      },
      "source": [
        "### FastText"
      ]
    },
    {
      "cell_type": "markdown",
      "metadata": {
        "id": "2CH_GisRRro9"
      },
      "source": [
        "##### 다운로드"
      ]
    },
    {
      "cell_type": "code",
      "execution_count": 134,
      "metadata": {
        "colab": {
          "base_uri": "https://localhost:8080/"
        },
        "id": "HMqI7yniRGKq",
        "outputId": "857ddaf7-e741-4a66-fc16-458f0b7830ed"
      },
      "outputs": [
        {
          "name": "stdout",
          "output_type": "stream",
          "text": [
            "\u001b[?25l     \u001b[90m━━━━━━━━━━━━━━━━━━━━━━━━━━━━━━━━━━━━━━━━\u001b[0m \u001b[32m0.0/68.8 kB\u001b[0m \u001b[31m?\u001b[0m eta \u001b[36m-:--:--\u001b[0m\r\u001b[2K     \u001b[90m━━━━━━━━━━━━━━━━━━━━━━━━━━━━━━━━━━━━━━━━\u001b[0m \u001b[32m68.8/68.8 kB\u001b[0m \u001b[31m4.2 MB/s\u001b[0m eta \u001b[36m0:00:00\u001b[0m\n",
            "\u001b[?25h  Preparing metadata (setup.py) ... \u001b[?25l\u001b[?25hdone\n",
            "  Building wheel for fasttext (setup.py) ... \u001b[?25l\u001b[?25hdone\n"
          ]
        }
      ],
      "source": [
        "!pip install -q fasttext"
      ]
    },
    {
      "cell_type": "code",
      "execution_count": null,
      "metadata": {
        "colab": {
          "base_uri": "https://localhost:8080/"
        },
        "id": "CusPIYjuRBPq",
        "outputId": "6381d623-e359-4802-ccd4-f0aaa633430d"
      },
      "outputs": [
        {
          "name": "stdout",
          "output_type": "stream",
          "text": [
            "Downloading https://dl.fbaipublicfiles.com/fasttext/vectors-crawl/cc.ko.300.bin.gz\n"
          ]
        }
      ],
      "source": [
        "import fasttext.util\n",
        "fasttext.util.download_model('ko', if_exists='ignore')  # English\n",
        "ft = fasttext.load_model('cc.en.300.bin')"
      ]
    },
    {
      "cell_type": "code",
      "execution_count": null,
      "metadata": {
        "id": "7pg8TwPQTZUh"
      },
      "outputs": [],
      "source": [
        "ft"
      ]
    },
    {
      "cell_type": "markdown",
      "metadata": {
        "id": "YPFiOrDFRuku"
      },
      "source": [
        "##### 실험"
      ]
    },
    {
      "cell_type": "code",
      "execution_count": null,
      "metadata": {
        "id": "gTSNEYbSSm4Y"
      },
      "outputs": [],
      "source": [
        "vocab_size = 10000    # 어휘 사전의 크기입니다(10,000개의 단어)\n",
        "word_vector_dim = 300  # 워드 벡터의 차원수\n",
        "embedding_matrix = np.random.rand(vocab_size, word_vector_dim)\n",
        "print(embedding_matrix)\n",
        "# embedding_matrix에 Word2Vec 워드 벡터를 단어 하나씩마다 차례차례 카피한다.\n",
        "for i in range(4,vocab_size):\n",
        "    if index_to_word[i] in word2vec:\n",
        "        embedding_matrix[i] = word2vec[index_to_word[i]]\n",
        "print('-'*50)\n",
        "print(embedding_matrix)"
      ]
    },
    {
      "cell_type": "code",
      "execution_count": null,
      "metadata": {
        "id": "kjACrfsCS3-H"
      },
      "outputs": [],
      "source": [
        "from tensorflow.keras.initializers import Constant\n",
        "\n",
        "vocab_size = 10000    # 어휘 사전의 크기입니다(10,000개의 단어)\n",
        "word_vector_dim = 300  # 워드 벡터의 차원 수\n",
        "\n",
        "# 모델 구성\n",
        "model = tf.keras.Sequential()\n",
        "model.add(tf.keras.layers.Embedding(vocab_size,\n",
        "                                 word_vector_dim,\n",
        "                                 embeddings_initializer=Constant(embedding_matrix),  # 카피한 임베딩을 여기서 활용\n",
        "                                 input_length=maxlen,\n",
        "                                 trainable=True))   # trainable을 True로 주면 Fine-tuning\n",
        "model.add(tf.keras.layers.LSTM(8))   # 가장 널리 쓰이는 RNN인 LSTM 레이어를 사용하였습니다. 이때 LSTM state 벡터의 차원수는 8로 하였습니다. (변경 가능)\n",
        "model.add(tf.keras.layers.Dense(8, activation='relu'))\n",
        "model.add(tf.keras.layers.Dense(1, activation='sigmoid'))  # 최종 출력은 긍정/부정을 나타내는 1dim 입니다.\n",
        "\n",
        "model.summary()"
      ]
    }
  ],
  "metadata": {
    "colab": {
      "provenance": [],
      "toc_visible": true
    },
    "kernelspec": {
      "display_name": "Python 3",
      "name": "python3"
    },
    "language_info": {
      "name": "python"
    }
  },
  "nbformat": 4,
  "nbformat_minor": 0
}
