{
 "cells": [
  {
   "cell_type": "markdown",
   "id": "9fa790f7",
   "metadata": {},
   "source": [
    "# Reuters 딥러닝 모델"
   ]
  },
  {
   "cell_type": "markdown",
   "id": "5e5ebff3",
   "metadata": {},
   "source": [
    "## 데이터 로드 및 전처리\n",
    "reuters 데이터셋을 로드하고, 훈련 데이터셋에서 25%를 검증 데이터셋으로 분리합니다. 데이터셋은 keras.datasets에서 불러올 수 있는 reuters 데이터 셋을 활용하고, 이때 파라메터 조정을 통해 단어의 개수는 10000개로 제한합니다(num_words=10000).\n",
    "데이터셋 분리 작업에서는 sklearn 라이브러리의 train_test_split 함수를 활용합니다.\n",
    "훈련, 검증, 테스트 데이터와 레이블 종류가 몇개인지 출력합니다."
   ]
  },
  {
   "cell_type": "code",
   "execution_count": 8,
   "id": "b0b6890b",
   "metadata": {},
   "outputs": [],
   "source": [
    "import numpy as np\n",
    "import matplotlib.pyplot as plt\n",
    "from sklearn.model_selection import train_test_split\n",
    "\n",
    "from tensorflow.keras import models, layers\n",
    "from tensorflow.keras import callbacks\n",
    "from tensorflow.keras import utils\n",
    "from keras.datasets import reuters"
   ]
  },
  {
   "cell_type": "code",
   "execution_count": 9,
   "id": "e9908d94",
   "metadata": {},
   "outputs": [
    {
     "name": "stdout",
     "output_type": "stream",
     "text": [
      "train : 6736\n",
      "val : 2246\n",
      "test : 2246\n",
      "label : 46\n"
     ]
    }
   ],
   "source": [
    "# 문제 2-1: reuters 데이터셋을 로드하고, 훈련 데이터셋에서 25%를 검증 데이터셋으로 분리합니다.\n",
    "(train_data, train_labels), (test_data, test_labels) = reuters.load_data(num_words=10000)\n",
    "train_data, val_data, train_labels, val_labels = train_test_split(train_data, train_labels, test_size=0.25, random_state=42)\n",
    "\n",
    "# 훈련, 검증, 테스트 데이터와 레이블 종류가 몇 개인지 출력합니다.\n",
    "print('train :',len(train_data))\n",
    "print('val :',len(val_data))\n",
    "print('test :',len(test_data))\n",
    "print('label :',len(set(train_labels)))"
   ]
  },
  {
   "cell_type": "code",
   "execution_count": 10,
   "id": "09454cba",
   "metadata": {},
   "outputs": [],
   "source": [
    "# 문제 2-2: 텍스트 데이터의 전처리를 위해서 각 데이터셋마다 원-핫 인코딩을 수행합니다.\n",
    "def one_hot_encoding(data, dim=10000):\n",
    "  results = np.zeros((len(data), dim))\n",
    "  for i, d in enumerate(data):\n",
    "    results[i, d] = 1.\n",
    "  return results\n",
    "\n",
    "x_train = one_hot_encoding(train_data)\n",
    "x_val = one_hot_encoding(val_data)\n",
    "x_test = one_hot_encoding(test_data)\n",
    "\n",
    "# 레이블 데이터들은 범주형 형태로 to_categorical() 함수를 사용해 변환합니다.\n",
    "from tensorflow.keras import utils\n",
    "\n",
    "y_train = utils.to_categorical(train_labels)\n",
    "y_val = utils.to_categorical(val_labels)\n",
    "y_test = utils.to_categorical(test_labels)"
   ]
  },
  {
   "cell_type": "markdown",
   "id": "8a9aea3d",
   "metadata": {},
   "source": [
    "## 모델 구성 및 컴파일\n",
    "BatchNormalization과 Dropout을 적용하여 빠르게 학습하면서 과대적합을 방지하고, 46개의 뉴스 주제를 분류하는 딥러닝 모델을 구성합니다."
   ]
  },
  {
   "cell_type": "code",
   "execution_count": 11,
   "id": "d6faa09f",
   "metadata": {},
   "outputs": [
    {
     "name": "stdout",
     "output_type": "stream",
     "text": [
      "Model: \"sequential_1\"\n",
      "_________________________________________________________________\n",
      "Layer (type)                 Output Shape              Param #   \n",
      "=================================================================\n",
      "dense_3 (Dense)              (None, 128)               1280128   \n",
      "_________________________________________________________________\n",
      "batch_normalization (BatchNo (None, 128)               512       \n",
      "_________________________________________________________________\n",
      "dropout (Dropout)            (None, 128)               0         \n",
      "_________________________________________________________________\n",
      "dense_4 (Dense)              (None, 64)                8256      \n",
      "_________________________________________________________________\n",
      "batch_normalization_1 (Batch (None, 64)                256       \n",
      "_________________________________________________________________\n",
      "dropout_1 (Dropout)          (None, 64)                0         \n",
      "_________________________________________________________________\n",
      "dense_5 (Dense)              (None, 46)                2990      \n",
      "=================================================================\n",
      "Total params: 1,292,142\n",
      "Trainable params: 1,291,758\n",
      "Non-trainable params: 384\n",
      "_________________________________________________________________\n"
     ]
    }
   ],
   "source": [
    "# 문제 2-3: 빠른 학습과 과대적합을 방지하기 위해 BatchNormalization과 Dropout을 적용한 딥러닝 모델을 구성합니다.\n",
    "import numpy as np\n",
    "from tensorflow.keras.datasets import reuters\n",
    "from tensorflow.keras.models import Sequential\n",
    "from tensorflow.keras.layers import Dense, Dropout, BatchNormalization\n",
    "\n",
    "input_shape = (x_train.shape[1], )\n",
    "\n",
    "# 딥러닝 모델 구성\n",
    "model = Sequential()\n",
    "model.add(Dense(128, activation='relu', input_shape=input_shape))\n",
    "model.add(BatchNormalization())  # BatchNormalization 추가\n",
    "model.add(Dropout(0.5))  # Dropout 추가\n",
    "model.add(Dense(64, activation='relu'))\n",
    "model.add(BatchNormalization())  # BatchNormalization 추가\n",
    "model.add(Dropout(0.5))  # Dropout 추가\n",
    "model.add(Dense(46, activation='softmax'))  # 출력 뉴런 개수를 클래스 개수(46)로 설정하고 Softmax 활성화 함수 사용\n",
    "\n",
    "# 모델 컴파일\n",
    "model.compile(loss='categorical_crossentropy',  # 다중 클래스 분류 문제이므로 categorical_crossentropy를 사용\n",
    "              optimizer='adam',\n",
    "              metrics=['accuracy'])  # 평가 지표로 정확도를 사용\n",
    "\n",
    "# 모델 구조 출력\n",
    "model.summary()"
   ]
  },
  {
   "cell_type": "markdown",
   "id": "7bcd7c60",
   "metadata": {},
   "source": [
    "## 모델 학습\n",
    "ModelCheckpoint와 EarlyStopping 콜백 함수를 적용하여 모델 학습을 진행합니다."
   ]
  },
  {
   "cell_type": "code",
   "execution_count": 12,
   "id": "a729ad56",
   "metadata": {},
   "outputs": [
    {
     "name": "stdout",
     "output_type": "stream",
     "text": [
      "Epoch 1/100\n",
      "211/211 [==============================] - 2s 7ms/step - loss: 2.2295 - accuracy: 0.5349 - val_loss: 1.6260 - val_accuracy: 0.7102\n",
      "\n",
      "Epoch 00001: val_loss improved from inf to 1.62598, saving model to best_model.h5\n",
      "Epoch 2/100\n",
      "211/211 [==============================] - 1s 5ms/step - loss: 1.2981 - accuracy: 0.7187 - val_loss: 1.1162 - val_accuracy: 0.7636\n",
      "\n",
      "Epoch 00002: val_loss improved from 1.62598 to 1.11620, saving model to best_model.h5\n",
      "Epoch 3/100\n",
      "211/211 [==============================] - 1s 5ms/step - loss: 1.0310 - accuracy: 0.7645 - val_loss: 1.0224 - val_accuracy: 0.7863\n",
      "\n",
      "Epoch 00003: val_loss improved from 1.11620 to 1.02236, saving model to best_model.h5\n",
      "Epoch 4/100\n",
      "211/211 [==============================] - 1s 5ms/step - loss: 0.8279 - accuracy: 0.8072 - val_loss: 0.9883 - val_accuracy: 0.7988\n",
      "\n",
      "Epoch 00004: val_loss improved from 1.02236 to 0.98827, saving model to best_model.h5\n",
      "Epoch 5/100\n",
      "211/211 [==============================] - 1s 5ms/step - loss: 0.7037 - accuracy: 0.8330 - val_loss: 0.9596 - val_accuracy: 0.8094\n",
      "\n",
      "Epoch 00005: val_loss improved from 0.98827 to 0.95959, saving model to best_model.h5\n",
      "Epoch 6/100\n",
      "211/211 [==============================] - 1s 5ms/step - loss: 0.6254 - accuracy: 0.8475 - val_loss: 0.9809 - val_accuracy: 0.8041\n",
      "\n",
      "Epoch 00006: val_loss did not improve from 0.95959\n",
      "Epoch 7/100\n",
      "211/211 [==============================] - 1s 5ms/step - loss: 0.5453 - accuracy: 0.8711 - val_loss: 0.9291 - val_accuracy: 0.8117\n",
      "\n",
      "Epoch 00007: val_loss improved from 0.95959 to 0.92907, saving model to best_model.h5\n",
      "Epoch 8/100\n",
      "211/211 [==============================] - 1s 5ms/step - loss: 0.4763 - accuracy: 0.8802 - val_loss: 0.9654 - val_accuracy: 0.8063\n",
      "\n",
      "Epoch 00008: val_loss did not improve from 0.92907\n",
      "Epoch 9/100\n",
      "211/211 [==============================] - 1s 5ms/step - loss: 0.4402 - accuracy: 0.8915 - val_loss: 0.9832 - val_accuracy: 0.8077\n",
      "\n",
      "Epoch 00009: val_loss did not improve from 0.92907\n",
      "Epoch 10/100\n",
      "211/211 [==============================] - 1s 5ms/step - loss: 0.4107 - accuracy: 0.8985 - val_loss: 0.9969 - val_accuracy: 0.8170\n",
      "\n",
      "Epoch 00010: val_loss did not improve from 0.92907\n",
      "Epoch 11/100\n",
      "211/211 [==============================] - 1s 5ms/step - loss: 0.3844 - accuracy: 0.9053 - val_loss: 1.0062 - val_accuracy: 0.8134\n",
      "\n",
      "Epoch 00011: val_loss did not improve from 0.92907\n",
      "Epoch 12/100\n",
      "211/211 [==============================] - 1s 5ms/step - loss: 0.3480 - accuracy: 0.9126 - val_loss: 0.9946 - val_accuracy: 0.8166\n",
      "\n",
      "Epoch 00012: val_loss did not improve from 0.92907\n"
     ]
    }
   ],
   "source": [
    "from tensorflow.keras.callbacks import ModelCheckpoint, EarlyStopping\n",
    "\n",
    "# 문제 2-4: ModelCheckpoint와 EarlyStopping 콜백 함수를 적용하여 모델 학습을 진행합니다.\n",
    "checkpoint_callback = ModelCheckpoint(\"best_model.h5\", monitor='val_loss', save_best_only=True, verbose=1)\n",
    "early_stopping_callback = EarlyStopping(patience=5, restore_best_weights=True)\n",
    "\n",
    "# 모델 학습\n",
    "history = model.fit(x_train, y_train,\n",
    "                    epochs=100,\n",
    "                    batch_size=32,\n",
    "                    validation_data=(x_val, y_val),\n",
    "                    callbacks=[checkpoint_callback, early_stopping_callback])\n"
   ]
  },
  {
   "cell_type": "code",
   "execution_count": 13,
   "id": "4bc990b6",
   "metadata": {},
   "outputs": [
    {
     "data": {
      "image/png": "[encoded data removed]",
      "text/plain": [
       "<Figure size 864x360 with 2 Axes>"
      ]
     },
     "metadata": {},
     "output_type": "display_data"
    }
   ],
   "source": [
    "# 학습 히스토리의 `loss`, `val_loss`, `accuracy`, `val_accuracy`를 차트로 시각화합니다.\n",
    "plt.style.use('seaborn-white')\n",
    "\n",
    "history_dict = history.history\n",
    "\n",
    "loss = history_dict['loss']\n",
    "val_loss = history_dict['val_loss']\n",
    "\n",
    "epochs = range(1, len(loss) + 1)\n",
    "fig = plt.figure(figsize=(12, 5))\n",
    "\n",
    "ax1 = fig.add_subplot(1, 2, 1)\n",
    "ax1.plot(epochs, loss, 'b-', label='train_loss')\n",
    "ax1.plot(epochs, val_loss, 'r-', label='val_loss')\n",
    "ax1.set_title('Train and Validation Loss')\n",
    "ax1.set_xlabel('Epochs')\n",
    "ax1.set_ylabel('Loss')\n",
    "ax1.grid()\n",
    "ax1.legend()\n",
    "\n",
    "accuracy = history_dict['accuracy']\n",
    "val_accuracy = history_dict['val_accuracy']\n",
    "\n",
    "ax2 = fig.add_subplot(1, 2, 2)\n",
    "ax2.plot(epochs, accuracy, 'b-', label='train_accuracy')\n",
    "ax2.plot(epochs, val_accuracy, 'r-', label='val_accuracy')\n",
    "ax2.set_title('Train and Validation Accuracy')\n",
    "ax2.set_xlabel('Epochs')\n",
    "ax2.set_ylabel('Accuracy')\n",
    "ax2.grid()\n",
    "ax2.legend()\n",
    "\n",
    "plt.show()"
   ]
  },
  {
   "cell_type": "markdown",
   "id": "8b7081fc",
   "metadata": {},
   "source": [
    "## 모델 평가 및 예측\n",
    "테스트 데이터셋을 이용해 모델을 평가합니다."
   ]
  },
  {
   "cell_type": "code",
   "execution_count": 14,
   "id": "f7994a24",
   "metadata": {},
   "outputs": [
    {
     "name": "stdout",
     "output_type": "stream",
     "text": [
      "71/71 [==============================] - 0s 3ms/step - loss: 1.0425 - accuracy: 0.7912\n",
      "테스트 데이터 정확도: 0.7911843061447144\n"
     ]
    }
   ],
   "source": [
    "# 문제 2-5: 테스트 데이터셋을 이용해 모델을 평가합니다.\n",
    "loss, accuracy = model.evaluate(x_test, y_test)\n",
    "print(f\"테스트 데이터 정확도: {accuracy}\")"
   ]
  },
  {
   "cell_type": "code",
   "execution_count": null,
   "id": "fa50618d",
   "metadata": {},
   "outputs": [],
   "source": []
  },
  {
   "cell_type": "code",
   "execution_count": null,
   "id": "12db987c",
   "metadata": {},
   "outputs": [],
   "source": []
  }
 ],
 "metadata": {
  "kernelspec": {
   "display_name": "Python 3 (ipykernel)",
   "language": "python",
   "name": "python3"
  },
  "language_info": {
   "codemirror_mode": {
    "name": "ipython",
    "version": 3
   },
   "file_extension": ".py",
   "mimetype": "text/x-python",
   "name": "python",
   "nbconvert_exporter": "python",
   "pygments_lexer": "ipython3",
   "version": "3.9.7"
  }
 },
 "nbformat": 4,
 "nbformat_minor": 5
}
