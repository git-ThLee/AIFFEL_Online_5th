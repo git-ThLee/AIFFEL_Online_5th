{
 "cells": [
  {
   "cell_type": "code",
   "execution_count": 1,
   "id": "a1e65318",
   "metadata": {},
   "outputs": [],
   "source": [
    "import konlpy\n",
    "import gensim\n",
    "import sklearn\n",
    "import seaborn\n",
    "\n",
    "import matplotlib.pyplot as plt\n",
    "\n",
    "from numpy import dot\n",
    "from numpy.linalg import norm\n",
    "\n",
    "import re\n",
    "from konlpy.tag import Okt, Kkma, Komoran, Hannanum, Mecab\n",
    "from collections import Counter\n",
    "import os\n",
    "import json\n",
    "\n",
    "from sklearn.feature_extraction.text import TfidfVectorizer\n",
    "import numpy as np\n",
    "from collections import defaultdict  \n",
    "from collections import OrderedDict"
   ]
  },
  {
   "cell_type": "markdown",
   "id": "6f17f12d",
   "metadata": {},
   "source": [
    "# STEP 0. 데이터를 로드하시오!!!"
   ]
  },
  {
   "cell_type": "markdown",
   "id": "8d39c026",
   "metadata": {},
   "source": [
    "## 데이터 Load"
   ]
  },
  {
   "cell_type": "code",
   "execution_count": 2,
   "id": "5a34e6be",
   "metadata": {},
   "outputs": [],
   "source": [
    "data = list()\n",
    "\n",
    "# 파일 읽기\n",
    "with open(os.getenv('HOME')+'/aiffel/weat/synopsis.txt', 'r') as file:\n",
    "    while True:\n",
    "        line = file.readline()\n",
    "        if not line: \n",
    "            break\n",
    "        data.append(line)"
   ]
  },
  {
   "cell_type": "code",
   "execution_count": 3,
   "id": "11855cf1",
   "metadata": {},
   "outputs": [
    {
     "name": "stdout",
     "output_type": "stream",
     "text": [
      "71156\n"
     ]
    }
   ],
   "source": [
    "print(len(data))"
   ]
  },
  {
   "cell_type": "markdown",
   "id": "514882d2",
   "metadata": {},
   "source": [
    "# STEP 1. 형태소 분석기를 이용하여 품사가 명사인 경우 해당 단어를 추출하기"
   ]
  },
  {
   "cell_type": "markdown",
   "id": "4f23297a",
   "metadata": {},
   "source": [
    "### 시간이 오래 걸려서 Mecab 위주로 실행."
   ]
  },
  {
   "cell_type": "code",
   "execution_count": 4,
   "id": "6de05dec",
   "metadata": {},
   "outputs": [],
   "source": [
    "mecab = Mecab()\n",
    "\n",
    "nouns = {\n",
    "    'mecabs' : [],\n",
    "}"
   ]
  },
  {
   "cell_type": "code",
   "execution_count": 5,
   "id": "947ce067",
   "metadata": {},
   "outputs": [
    {
     "name": "stdout",
     "output_type": "stream",
     "text": [
      "전체 : 71156\n",
      "mecabs\n",
      "0\n",
      "3000\n",
      "6000\n",
      "9000\n",
      "12000\n",
      "15000\n",
      "18000\n",
      "21000\n",
      "24000\n",
      "27000\n",
      "30000\n",
      "33000\n",
      "36000\n",
      "39000\n",
      "42000\n",
      "45000\n",
      "48000\n",
      "51000\n",
      "54000\n",
      "57000\n",
      "60000\n",
      "63000\n",
      "66000\n",
      "69000\n"
     ]
    }
   ],
   "source": [
    "print(f'전체 : {71156}')\n",
    "print('mecabs')\n",
    "for idx, line in enumerate(data):\n",
    "    if idx % 3000 == 0  :\n",
    "        print(idx)\n",
    "    mecabs = [word for word in mecab.nouns(line) ]\n",
    "    nouns['mecabs'].append(mecabs)\n",
    "# JSON 파일로 저장\n",
    "with open('nouns_mecabs.json', 'w', encoding='utf-8') as json_file:\n",
    "    json.dump(nouns, json_file, ensure_ascii=False, indent=4)"
   ]
  },
  {
   "cell_type": "code",
   "execution_count": null,
   "id": "c9668f58",
   "metadata": {},
   "outputs": [],
   "source": []
  },
  {
   "cell_type": "code",
   "execution_count": null,
   "id": "a69cc50d",
   "metadata": {},
   "outputs": [],
   "source": []
  },
  {
   "cell_type": "markdown",
   "id": "24e1fe82",
   "metadata": {},
   "source": [
    "# STEP 2. 추출된 결과로 embedding model 만들기"
   ]
  },
  {
   "cell_type": "markdown",
   "id": "761d26a8",
   "metadata": {},
   "source": [
    "## json 불러오기"
   ]
  },
  {
   "cell_type": "code",
   "execution_count": 8,
   "id": "b1a37cfb",
   "metadata": {},
   "outputs": [
    {
     "name": "stdout",
     "output_type": "stream",
     "text": [
      "JSON 파일을 불러오는데 성공했습니다.\n"
     ]
    }
   ],
   "source": [
    "# JSON 파일을 읽어서 데이터를 저장할 변수\n",
    "loaded_data = None\n",
    "\n",
    "# JSON 파일을 불러오는 부분\n",
    "with open('nouns_mecabs.json', 'r', encoding='utf-8') as json_file:\n",
    "    loaded_data = json.load(json_file)\n",
    "\n",
    "# 불러온 데이터를 사용하는 예시\n",
    "if loaded_data is not None:\n",
    "    print('JSON 파일을 불러오는데 성공했습니다.')\n",
    "#     for item in loaded_data:\n",
    "#         print(item)\n",
    "else:\n",
    "    print(\"JSON 파일을 불러오는데 실패했습니다.\")\n"
   ]
  },
  {
   "cell_type": "code",
   "execution_count": 9,
   "id": "ac25ef52",
   "metadata": {},
   "outputs": [],
   "source": [
    "tokenized = loaded_data['mecabs']"
   ]
  },
  {
   "cell_type": "code",
   "execution_count": 10,
   "id": "0faaa75e",
   "metadata": {},
   "outputs": [
    {
     "data": {
      "text/plain": [
       "[('작품', 0.8795980215072632),\n",
       " ('다큐멘터리', 0.8578189015388489),\n",
       " ('드라마', 0.8486306667327881),\n",
       " ('코미디', 0.8230820894241333),\n",
       " ('옴니버스', 0.8206188678741455),\n",
       " ('소재', 0.8181180953979492),\n",
       " ('주제', 0.8104267716407776),\n",
       " ('형식', 0.8057054877281189),\n",
       " ('실제', 0.8035720586776733),\n",
       " ('편', 0.8022173643112183)]"
      ]
     },
     "execution_count": 10,
     "metadata": {},
     "output_type": "execute_result"
    }
   ],
   "source": [
    "from gensim.models import Word2Vec\n",
    "\n",
    "# tokenized에 담긴 데이터를 가지고 나만의 Word2Vec을 생성합니다. (Gensim 4.0 기준)\n",
    "model = Word2Vec(tokenized, vector_size=100, window=5, min_count=3, sg=0)  \n",
    "model.wv.most_similar(positive=['영화'])"
   ]
  },
  {
   "cell_type": "code",
   "execution_count": 61,
   "id": "5df04ad2",
   "metadata": {},
   "outputs": [
    {
     "data": {
      "text/plain": [
       "[('여자', 0.9523717761039734),\n",
       " ('아메', 0.7626373171806335),\n",
       " ('하룻밤', 0.7526801824569702),\n",
       " ('베나', 0.7317997813224792),\n",
       " ('종두', 0.7312301397323608),\n",
       " ('쥘', 0.7185044288635254),\n",
       " ('처제', 0.7172055244445801),\n",
       " ('여인', 0.7165116667747498),\n",
       " ('민우', 0.7115514874458313),\n",
       " ('형부', 0.7110059857368469)]"
      ]
     },
     "execution_count": 61,
     "metadata": {},
     "output_type": "execute_result"
    }
   ],
   "source": [
    "model.wv.most_similar(positive=['남자'])"
   ]
  },
  {
   "cell_type": "code",
   "execution_count": 60,
   "id": "b0614059",
   "metadata": {},
   "outputs": [
    {
     "data": {
      "text/plain": [
       "[('남자', 0.9523717164993286),\n",
       " ('유진', 0.7237977385520935),\n",
       " ('베나', 0.7230976223945618),\n",
       " ('종두', 0.7199608087539673),\n",
       " ('처제', 0.7177855968475342),\n",
       " ('민우', 0.7177147269248962),\n",
       " ('아메', 0.7172549962997437),\n",
       " ('하룻밤', 0.7133793830871582),\n",
       " ('쥘', 0.7133601903915405),\n",
       " ('중년', 0.7045881152153015)]"
      ]
     },
     "execution_count": 60,
     "metadata": {},
     "output_type": "execute_result"
    }
   ],
   "source": [
    "model.wv.most_similar(positive=['여자'])"
   ]
  },
  {
   "cell_type": "markdown",
   "id": "33862b2f",
   "metadata": {},
   "source": [
    "### `most_similar` 결과\n",
    "\n",
    "- 남자, 여자를 입력하면 상당히 비슷한 결과가 나온다. 아무래도 학습한 데이터 안에 있는 내용이 남자와 여자에 대한 차별성(?)이 없기에 비슷한 결과가 나온 것으로 추정된다.\n"
   ]
  },
  {
   "cell_type": "markdown",
   "id": "fb805091",
   "metadata": {},
   "source": [
    "# STEP 3. target, attribute 단어 셋 만들기\n",
    "이전 스텝에서는 TF-IDF를 사용해서 단어 셋을 만들었습니다. 이 방법으로도 어느 정도는 대표 단어를 잘 선정할 수 있습니다. 그러나 TF-IDF가 높은 단어를 골랐음에도 불구하고 중복되는 단어가 발생하는 문제가 있었습니다. 개념축을 표현하는 단어가 제대로 선정되지 않은 것은 WEAT 계산 결과에 악영향을 미칩니다.\n",
    "\n",
    "TF-IDF를 적용했을 때의 `문제점`이 무엇인지 지적 가능하다면 그 문제점을 지적하고 스스로 방법을 `개선`하여 대표 단어 셋을 구축해 보기 바랍니다. TF-IDF 방식을 쓰더라도 중복된 단어를 잘 제거하면 여전히 유용한 방식이 될 수 있습니다."
   ]
  },
  {
   "cell_type": "markdown",
   "id": "86f8c174",
   "metadata": {},
   "source": [
    "## 문제점 \n",
    "\n",
    "- 타겟 단어셋을 대표하는 단어셋이 중복이 있을 경우, 타겟 단어가 갖고 있는 경계가 애매해지며 타겟 단어의 설명이 두루뭉술해지는 문제가 있다\n",
    "- 예시 :\n",
    "    - 타겟 단어 : 사랑 , 우정\n",
    "    - 사랑과 우정이란 타겟 단어가 있을 경우, 사랑은 ['연인', '가족', '헌신', '관계'] 등이 대표 단어가 될 수 있다. 우정은 ['친구', '평생', '헌신', '관계'] 등이 대표 단어가 될 수 있다. 현재 제시한 대표 단어 중에 `헌신과 관계는 중복`이 되어 있다. 만약, 다른 사람에게 사랑과 우정을 설명할 때, 헌신과 관계 위주로 설명을 하게 되면 듣는 사람은 사랑과 우정의 `개념이 혼동`이 올 것이다. 반대로 설명할 때, 사랑은 연인, 가족 등으로 설명하고, 우정은 친구, 평생 등으로 설명하게 되면 중복된 단어로 설명하는 것보다 혼동이 줄어들 것이다. "
   ]
  },
  {
   "cell_type": "markdown",
   "id": "6a6f081a",
   "metadata": {},
   "source": [
    "## 개선 방법\n",
    "\n",
    "- 장르는 총 21개, 각 장르에 맞는 대표 단어 10개를 출력한다는 가정\n",
    "\n",
    "1. 첫번째 장르(SF)의 대표 단어를 출력한다는 가정\n",
    "2. SF 장르에 맞는 대표 단어를 TF-IDF로 높은순으로 정렬한다 (기존과 동일)\n",
    "3. SF 장르 외 20개의 대표 단어(TF-IDF 높은순) 각각 10개를 모두 수집한다\n",
    "    - `각 10개 대표 단어를 수집(총 200개)하는 이유` : \n",
    "        - 대표 단어들 간에 중복을 피하기 위함이다. 만약, 각 장르별 대표 단어를 20개로 출력하면 다른 장르에서 20개씩 수집한다\n",
    "        - 문제점 : 대표 단어 개수가 급하게 늘어날 경우, SF 장르의 대표 단어가 급하게 줄어듬.\n",
    "4. SF 장르의 대표 단어가 다른 장르의 대표 단어와 중복이 되지 않도록 출력한다\n",
    "\n",
    "### 예시\n",
    "\n",
    "\n",
    "SF : [ `a` `b` c d e f ]  \n",
    "show : [ `a` z y x h ]  \n",
    "crime : [ `b` y q l o ]  \n",
    "  \n",
    "SF의 대표 단어 : [ c d e f ]  \n"
   ]
  },
  {
   "cell_type": "markdown",
   "id": "d5944ee7",
   "metadata": {},
   "source": [
    "## 3.1) 영화 구분\n",
    "\n",
    "- synopsis_art.txt : 예술영화\n",
    "- synopsis_gen.txt : 일반영화(상업영화)\n",
    "\n",
    "그 외는 독립영화 등으로 분류됩니다."
   ]
  },
  {
   "cell_type": "code",
   "execution_count": 11,
   "id": "74f1f53e",
   "metadata": {},
   "outputs": [
    {
     "name": "stdout",
     "output_type": "stream",
     "text": [
      "synopsis_art.txt 파일을 읽고 있습니다.\n",
      "synopsis_gen.txt 파일을 읽고 있습니다.\n"
     ]
    }
   ],
   "source": [
    "art_txt = 'synopsis_art.txt'\n",
    "gen_txt = 'synopsis_gen.txt'\n",
    "\n",
    "def read_token_target(file_name):\n",
    "    mecab = Mecab()\n",
    "    result = []\n",
    "    with open(os.getenv('HOME')+'/aiffel/weat/'+file_name, 'r') as fread: \n",
    "        print(file_name, '파일을 읽고 있습니다.')\n",
    "        while True:\n",
    "            line = fread.readline() \n",
    "            if not line: \n",
    "                break \n",
    "            mecabs = [word for word in mecab.nouns(line) ]\n",
    "            result.append(' '.join(mecabs))\n",
    "            \n",
    "    return ' '.join(result)\n",
    "\n",
    "art = read_token_target(art_txt)\n",
    "gen = read_token_target(gen_txt)"
   ]
  },
  {
   "cell_type": "code",
   "execution_count": 12,
   "id": "48033c3c",
   "metadata": {},
   "outputs": [
    {
     "name": "stdout",
     "output_type": "stream",
     "text": [
      "(2, 43612)\n"
     ]
    }
   ],
   "source": [
    "vectorizer_target = TfidfVectorizer()\n",
    "X_target = vectorizer_target.fit_transform([art, gen])\n",
    "\n",
    "print(X_target.shape)"
   ]
  },
  {
   "cell_type": "code",
   "execution_count": 14,
   "id": "bf3aa376",
   "metadata": {},
   "outputs": [
    {
     "name": "stdout",
     "output_type": "stream",
     "text": [
      "예술영화 :\n",
      "\t 그녀, 자신, 시작, 사랑, 사람, "
     ]
    },
    {
     "name": "stderr",
     "output_type": "stream",
     "text": [
      "/opt/conda/lib/python3.9/site-packages/sklearn/utils/deprecation.py:87: FutureWarning: Function get_feature_names is deprecated; get_feature_names is deprecated in 1.0 and will be removed in 1.2. Please use get_feature_names_out instead.\n",
      "  warnings.warn(msg, category=FutureWarning)\n"
     ]
    },
    {
     "name": "stdout",
     "output_type": "stream",
     "text": [
      "친구, 영화, 남자, 여자, 가족, \n",
      "\n",
      "일반영화 :\n",
      "\t 자신, 영화제, 그녀, 사람, 시작, 영화, 친구, 국제, 남자, 사랑, "
     ]
    }
   ],
   "source": [
    "m1 = X_target[0].tocoo()   # art를 TF-IDF로 표현한 sparse matrix를 가져옵니다. \n",
    "m2 = X_target[1].tocoo()   # gen을 TF-IDF로 표현한 sparse matrix를 가져옵니다. \n",
    "\n",
    "w1 = [[i, j] for i, j in zip(m1.col, m1.data)]\n",
    "w2 = [[i, j] for i, j in zip(m2.col, m2.data)]\n",
    "\n",
    "w1.sort(key=lambda x: x[1], reverse=True)   #art를 구성하는 단어들을 TF-IDF가 높은 순으로 정렬합니다. \n",
    "w2.sort(key=lambda x: x[1], reverse=True)   #gen을 구성하는 단어들을 TF-IDF가 높은 순으로 정렬합니다. \n",
    "\n",
    "print('예술영화 :')\n",
    "print('\\t',end=' ')\n",
    "for i in range(10):\n",
    "    print(vectorizer_target.get_feature_names()[w1[i][0]], end=', ')\n",
    "\n",
    "print('\\n')\n",
    "    \n",
    "print('일반영화 :')\n",
    "print('\\t',end=' ')\n",
    "for i in range(10):\n",
    "    print(vectorizer_target.get_feature_names()[w2[i][0]], end=', ')"
   ]
  },
  {
   "cell_type": "code",
   "execution_count": 16,
   "id": "b49e0095",
   "metadata": {},
   "outputs": [],
   "source": [
    "n = 15\n",
    "w1_, w2_ = [], []\n",
    "for i in range(100):\n",
    "    w1_.append(vectorizer_target.get_feature_names()[w1[i][0]])\n",
    "    w2_.append(vectorizer_target.get_feature_names()[w2[i][0]])\n",
    "\n",
    "# w1에만 있고 w2에는 없는, 예술영화를 잘 대표하는 단어를 15개 추출한다.\n",
    "target = {\n",
    "    'art':[],\n",
    "    'gen':[],\n",
    "}\n",
    "for i in range(100):\n",
    "    if (w1_[i] not in w2_) and (w1_[i] in model.wv): target['art'].append(w1_[i])\n",
    "    if len(target['art']) == n: break \n",
    "\n",
    "# w2에만 있고 w1에는 없는, 일반영화를 잘 대표하는 단어를 15개 추출한다.\n",
    "for i in range(100):\n",
    "    if (w2_[i] not in w1_) and (w2_[i] in model.wv): target['gen'].append(w2_[i])\n",
    "    if len(target['gen']) == n: break"
   ]
  },
  {
   "cell_type": "code",
   "execution_count": 17,
   "id": "d87818a6",
   "metadata": {},
   "outputs": [
    {
     "name": "stdout",
     "output_type": "stream",
     "text": [
      "['결심', '여인', '이름', '준비', '감정', '충격', '누구', '연인', '희망', '특별', '청년', '작가', '상처', '모두', '목숨']\n"
     ]
    }
   ],
   "source": [
    "print(target['art'])"
   ]
  },
  {
   "cell_type": "code",
   "execution_count": 18,
   "id": "10a14144",
   "metadata": {},
   "outputs": [
    {
     "name": "stdout",
     "output_type": "stream",
     "text": [
      "['서울', '애니메이션', '주인공', '연출', '섹스', '다큐멘터리', '부문', '의도', '조직', '부부', '회사', '계획', '일본', '문제', '부산']\n"
     ]
    }
   ],
   "source": [
    "print(target['gen'])"
   ]
  },
  {
   "cell_type": "markdown",
   "id": "061d1fcf",
   "metadata": {},
   "source": [
    "## 3.2) 장르 구분"
   ]
  },
  {
   "cell_type": "code",
   "execution_count": 19,
   "id": "9864f929",
   "metadata": {},
   "outputs": [],
   "source": [
    "genre_txt = ['synopsis_SF.txt', 'synopsis_family.txt', 'synopsis_show.txt', 'synopsis_horror.txt', 'synopsis_etc.txt', \n",
    "             'synopsis_documentary.txt', 'synopsis_drama.txt', 'synopsis_romance.txt', 'synopsis_musical.txt', \n",
    "             'synopsis_mystery.txt', 'synopsis_crime.txt', 'synopsis_historical.txt', 'synopsis_western.txt', \n",
    "             'synopsis_adult.txt', 'synopsis_thriller.txt', 'synopsis_animation.txt', 'synopsis_action.txt', \n",
    "             'synopsis_adventure.txt', 'synopsis_war.txt', 'synopsis_comedy.txt', 'synopsis_fantasy.txt']\n",
    "genre_name = ['SF', '가족', '공연', '공포(호러)', '기타', '다큐멘터리', '드라마', '멜로로맨스', '뮤지컬', '미스터리', '범죄', '사극', '서부극(웨스턴)',\n",
    "         '성인물(에로)', '스릴러', '애니메이션', '액션', '어드벤처', '전쟁', '코미디', '판타지']"
   ]
  },
  {
   "cell_type": "code",
   "execution_count": 20,
   "id": "3a759fab",
   "metadata": {},
   "outputs": [],
   "source": [
    "genre_token_dict = defaultdict(str)"
   ]
  },
  {
   "cell_type": "code",
   "execution_count": 21,
   "id": "0f5953c4",
   "metadata": {},
   "outputs": [
    {
     "name": "stdout",
     "output_type": "stream",
     "text": [
      "synopsis_SF.txt 파일을 읽고 있습니다.\n",
      "synopsis_family.txt 파일을 읽고 있습니다.\n",
      "synopsis_show.txt 파일을 읽고 있습니다.\n",
      "synopsis_horror.txt 파일을 읽고 있습니다.\n",
      "synopsis_etc.txt 파일을 읽고 있습니다.\n",
      "synopsis_documentary.txt 파일을 읽고 있습니다.\n",
      "synopsis_drama.txt 파일을 읽고 있습니다.\n",
      "synopsis_romance.txt 파일을 읽고 있습니다.\n",
      "synopsis_musical.txt 파일을 읽고 있습니다.\n",
      "synopsis_mystery.txt 파일을 읽고 있습니다.\n",
      "synopsis_crime.txt 파일을 읽고 있습니다.\n",
      "synopsis_historical.txt 파일을 읽고 있습니다.\n",
      "synopsis_western.txt 파일을 읽고 있습니다.\n",
      "synopsis_adult.txt 파일을 읽고 있습니다.\n",
      "synopsis_thriller.txt 파일을 읽고 있습니다.\n",
      "synopsis_animation.txt 파일을 읽고 있습니다.\n",
      "synopsis_action.txt 파일을 읽고 있습니다.\n",
      "synopsis_adventure.txt 파일을 읽고 있습니다.\n",
      "synopsis_war.txt 파일을 읽고 있습니다.\n",
      "synopsis_comedy.txt 파일을 읽고 있습니다.\n",
      "synopsis_fantasy.txt 파일을 읽고 있습니다.\n"
     ]
    }
   ],
   "source": [
    "def read_token(file_name):\n",
    "    mecab = Mecab()\n",
    "    result = []\n",
    "    with open(os.getenv('HOME')+'/aiffel/weat/'+file_name, 'r') as fread: \n",
    "        print(file_name, '파일을 읽고 있습니다.')\n",
    "        while True:\n",
    "            line = fread.readline() \n",
    "            if not line: \n",
    "                break \n",
    "            mecabs = [word for word in mecab.nouns(line) ]\n",
    "            result.append(' '.join(mecabs))\n",
    "            \n",
    "    return ' '.join(result)\n",
    "\n",
    "for txt , name in zip(genre_txt, genre_name):\n",
    "    genre_token_dict[name] = (read_token(txt))"
   ]
  },
  {
   "cell_type": "code",
   "execution_count": 22,
   "id": "316b0edb",
   "metadata": {},
   "outputs": [
    {
     "name": "stdout",
     "output_type": "stream",
     "text": [
      "(21, 44898)\n"
     ]
    }
   ],
   "source": [
    "vectorizer = TfidfVectorizer()\n",
    "X = vectorizer.fit_transform([value for value in genre_token_dict.values()])\n",
    "\n",
    "print(X.shape)"
   ]
  },
  {
   "cell_type": "code",
   "execution_count": 23,
   "id": "06d2f7e6",
   "metadata": {},
   "outputs": [
    {
     "name": "stdout",
     "output_type": "stream",
     "text": [
      "26280\n",
      "안주인\n"
     ]
    }
   ],
   "source": [
    "print(vectorizer.vocabulary_['영화']) # text to index\n",
    "print(vectorizer.get_feature_names()[23976]) # index to text "
   ]
  },
  {
   "cell_type": "code",
   "execution_count": 24,
   "id": "d1c73010",
   "metadata": {},
   "outputs": [],
   "source": [
    "m = list() # sparse matrix\n",
    "w = list() # TF-IDF "
   ]
  },
  {
   "cell_type": "code",
   "execution_count": 25,
   "id": "ad8a2c16",
   "metadata": {},
   "outputs": [],
   "source": [
    "for i in range(X.shape[0]):\n",
    "    m.append(X[i].tocoo())   # F-IDF로 표현한 sparse matrix를 가져옵니다.\n",
    "    w.append([[i, j] for i, j in zip(m[i].col, m[i].data)])\n",
    "    w[i].sort(key=lambda x: x[1], reverse=True) # 단어들을 TF-IDF가 높은 순으로 정렬"
   ]
  },
  {
   "cell_type": "code",
   "execution_count": 26,
   "id": "ec422f3f",
   "metadata": {},
   "outputs": [
    {
     "name": "stdout",
     "output_type": "stream",
     "text": [
      "SF영화:\n",
      "\t 기본 : 자신, 지구, 시작, 사람, 인류, 인간, 세계, 우주, 미래, 로봇, \n",
      "\t 개선 : 지구, 인류, 우주, 미래, 로봇, 박사, 거대, 외계, 우주선, 시간, 생명체, \n",
      "\t 제거 : {'인류', '세계', '미래', '자신', '인간', '우주', '지구', '사람', '시작', '로봇'}\n",
      "\n",
      "가족영화:\n",
      "\t 기본 : 엄마, 아빠, 영화제, 가족, 자신, 친구, 아버지, 시작, 그녀, 아들, \n",
      "\t 개선 : 엄마, 아빠, 아들, 낙타, 할머니, 씨제이, 학교, 동구, 행복, 소누, 소년, \n",
      "\t 제거 : {'자신', '친구', '가족', '아빠', '아들', '그녀', '엄마', '아버지', '시작', '영화제'}\n",
      "\n",
      "공연영화:\n",
      "\t 기본 : 사랑, 오페라, 비올레타, 실황, 스카르피, 토스카, 백작, 자신, 카바, 레오노라, \n",
      "\t 개선 : 오페라, 비올레타, 실황, 토스카, 백작, 카바, 레오노라, 공연, 알프레도, 오텔로, 리골레토, \n",
      "\t 제거 : {'토스카', '백작', '자신', '카바', '스카르피', '사랑', '비올레타', '실황', '오페라', '레오노라'}\n",
      "\n",
      "공포(호러)영화:\n",
      "\t 기본 : 친구, 시작, 사람, 자신, 그녀, 공포, 사건, 발견, 죽음, 남자, \n",
      "\t 개선 : 공포, 이상, 악령, 소녀, 하나, 사실, 비밀, 병원, 저주, 시간, 의문, \n",
      "\t 제거 : {'사건', '자신', '친구', '남자', '그녀', '사람', '발견', '시작', '죽음', '공포'}\n",
      "\n",
      "기타영화:\n",
      "\t 기본 : 영화제, 국제, 서울, 단편, 영화, 자신, 사람, 이야기, 남자, 그녀, \n",
      "\t 개선 : 단편, 미디어, 작품, 독립, 연출, 시간, 아시아, 소녀, 모습, 이미지, 소년, \n",
      "\t 제거 : {'자신', '남자', '그녀', '서울', '사람', '단편', '국제', '이야기', '영화', '영화제'}\n",
      "\n",
      "다큐멘터리영화:\n",
      "\t 기본 : 영화제, 영화, 다큐, 다큐멘터리, 국제, 사람, 이야기, 감독, 자신, 서울, \n",
      "\t 개선 : 다큐, 다큐멘터리, 감독, 우리, 여성, 한국, 환경, 작품, 사회, 모습, 시간, \n",
      "\t 제거 : {'자신', '감독', '다큐멘터리', '사람', '서울', '이야기', '국제', '영화', '다큐', '영화제'}\n",
      "\n",
      "드라마영화:\n",
      "\t 기본 : 자신, 영화제, 그녀, 사랑, 영화, 사람, 시작, 남자, 친구, 국제, \n",
      "\t 개선 : 시간, 소녀, 사이, 소년, 생각, 모습, 학교, 때문, 작품, 부문, 여성, \n",
      "\t 제거 : {'자신', '친구', '남자', '그녀', '사람', '사랑', '시작', '국제', '영화', '영화제'}\n",
      "\n",
      "멜로로맨스영화:\n",
      "\t 기본 : 그녀, 사랑, 남자, 자신, 친구, 여자, 시작, 남편, 사람, 섹스, \n",
      "\t 개선 : 마음, 결혼, 부부, 서로, 시간, 사이, 생활, 회사, 유혹, 연애, 애인, \n",
      "\t 제거 : {'자신', '친구', '남자', '그녀', '사람', '사랑', '시작', '섹스', '남편', '여자'}\n",
      "\n",
      "뮤지컬영화:\n",
      "\t 기본 : 뮤지컬, 사랑, 지모도, 에스메랄다, 영화, 프롤, 그녀, 스카르피, 음악, 충무로, \n",
      "\t 개선 : 뮤지컬, 지모도, 에스메랄다, 프롤, 음악, 충무로, 모차르트, 시앙치, 데이비, 팬텀, 최고, \n",
      "\t 제거 : {'프롤', '에스메랄다', '지모도', '스카르피', '음악', '그녀', '충무로', '사랑', '뮤지컬', '영화'}\n",
      "\n",
      "미스터리영화:\n",
      "\t 기본 : 사건, 그녀, 시작, 자신, 사람, 친구, 사고, 발견, 진실, 죽음, \n",
      "\t 개선 : 사고, 진실, 기억, 민혁, 비밀, 사실, 의문, 미스터리, 현우, 발생, 방독면, \n",
      "\t 제거 : {'사건', '자신', '친구', '진실', '그녀', '사람', '발견', '시작', '사고', '죽음'}\n",
      "\n",
      "범죄영화:\n",
      "\t 기본 : 사건, 자신, 경찰, 시작, 그녀, 범죄, 조직, 살인, 사람, 마약, \n",
      "\t 개선 : 범죄, 마약, 형사, 수사, 범인, 은행, 계획, 살해, 동료, 사실, 시간, \n",
      "\t 제거 : {'사건', '자신', '범죄', '그녀', '사람', '조직', '시작', '마약', '경찰', '살인'}\n",
      "\n",
      "사극영화:\n",
      "\t 기본 : 조선, 시작, 사랑, 신기전, 자신, 춘향, 아가멤논, 그녀, 채선, 루안, \n",
      "\t 개선 : 조선, 신기전, 춘향, 아가멤논, 채선, 루안, 황제, 최고, 운명, 하선, 트로이, \n",
      "\t 제거 : {'자신', '그녀', '루안', '사랑', '시작', '신기전', '채선', '아가멤논', '춘향', '조선'}\n",
      "\n",
      "서부극(웨스턴)영화:\n",
      "\t 기본 : 아이삭, 보안관, 챔벌린, 서부, 카우보이, 헨리, 마을, 자신, 개릿, 아르만도, \n",
      "\t 개선 : 아이삭, 보안관, 챔벌린, 서부, 카우보이, 헨리, 개릿, 아르만도, 사냥, 레이프, 바인, \n",
      "\t 제거 : {'자신', '헨리', '서부', '카우보이', '개릿', '챔벌린', '아르만도', '보안관', '마을', '아이삭'}\n",
      "\n",
      "성인물(에로)영화:\n",
      "\t 기본 : 그녀, 남편, 성애, 자신, 관계, 남자, 섹스, 정사, 마사지, 영화, \n",
      "\t 개선 : 성애, 관계, 정사, 마사지, 유부녀, 에피소드, 자위, 회사, 지사, 결혼, 욕구, \n",
      "\t 제거 : {'자신', '성애', '남자', '그녀', '관계', '섹스', '정사', '영화', '마사지', '남편'}\n",
      "\n",
      "스릴러영화:\n",
      "\t 기본 : 자신, 그녀, 사건, 시작, 사람, 살인, 남자, 친구, 발견, 아내, \n",
      "\t 개선 : 아내, 비밀, 사실, 시간, 범인, 수사, 하나, 살해, 충격, 게임, 상황, \n",
      "\t 제거 : {'사건', '자신', '친구', '아내', '남자', '그녀', '사람', '발견', '시작', '살인'}\n",
      "\n",
      "애니메이션영화:\n",
      "\t 기본 : 애니메이션, 국제, 영화제, 친구, 애니, 깨미, 자신, 사람, 시작, 인디, \n",
      "\t 개선 : 애니메이션, 애니, 깨미, 인디, 페스티벌, 페스트, 소녀, 소년, 코요, 부문, 만화, \n",
      "\t 제거 : {'자신', '친구', '애니메이션', '사람', '인디', '시작', '깨미', '애니', '국제', '영화제'}\n",
      "\n",
      "액션영화:\n",
      "\t 기본 : 자신, 시작, 조직, 사건, 사람, 그녀, 경찰, 친구, 세계, 요원, \n",
      "\t 개선 : 요원, 목숨, 거대, 임무, 비밀, 사실, 위험, 복수, 한편, 테러, 납치, \n",
      "\t 제거 : {'요원', '세계', '사건', '자신', '친구', '그녀', '사람', '조직', '시작', '경찰'}\n",
      "\n",
      "어드벤처영화:\n",
      "\t 기본 : 자신, 시작, 친구, 영화, 마을, 아이, 아버지, 세계, 사람, 여행, \n",
      "\t 개선 : 아이, 여행, 세상, 윈치, 모험, 비밀, 앤트, 위험, 소년, 여정, 보물, \n",
      "\t 제거 : {'세계', '자신', '친구', '여행', '아이', '사람', '아버지', '시작', '마을', '영화'}\n",
      "\n",
      "전쟁영화:\n",
      "\t 기본 : 독일군, 전쟁, 전투, 작전, 시작, 부대, 윈터스, 독일, 연합군, 대전, \n",
      "\t 개선 : 독일군, 전쟁, 전투, 작전, 부대, 윈터스, 독일, 연합군, 대전, 영국, 미군, \n",
      "\t 제거 : {'윈터스', '연합군', '전투', '독일군', '전쟁', '부대', '시작', '작전', '독일', '대전'}\n",
      "\n",
      "코미디영화:\n",
      "\t 기본 : 자신, 그녀, 친구, 시작, 사랑, 영화, 남자, 사람, 여자, 영화제, \n",
      "\t 개선 : 인생, 결혼, 생각, 생활, 시간, 코미디, 학교, 때문, 성공, 하나, 사이, \n",
      "\t 제거 : {'자신', '친구', '영화제', '남자', '그녀', '사람', '사랑', '시작', '영화', '여자'}\n",
      "\n",
      "판타지영화:\n",
      "\t 기본 : 자신, 그녀, 시작, 사랑, 사람, 요괴, 영화, 영화제, 이야기, 남자, \n",
      "\t 개선 : 요괴, 소녀, 알렉스, 존재, 마법, 공주, 시간, 순영, 가영, 판타스틱, 현실, \n",
      "\t 제거 : {'자신', '요괴', '남자', '그녀', '사람', '사랑', '시작', '이야기', '영화', '영화제'}\n",
      "\n"
     ]
    }
   ],
   "source": [
    "num = 10 # 몇개의 대표 단어(attribute)를 출력할 것인가?\n",
    "attribute = defaultdict(list)\n",
    "for i, name in enumerate(genre_token_dict.keys()):\n",
    "    print(f'{name}영화:')\n",
    "    target_w = list()\n",
    "    remove_w = list()\n",
    "    for r in range(len(genre_token_dict.keys())):\n",
    "        if r != i :\n",
    "            for idx, (text, tfidf) in enumerate(w[r]):\n",
    "                if idx > num:\n",
    "                    break\n",
    "                remove_w.append( [text,tfidf] )\n",
    "        else:\n",
    "            for text, tfidf in w[r]:\n",
    "                target_w.append(text)\n",
    "    \n",
    "    remove_w = [ x[0] for x in remove_w]\n",
    "    \n",
    "    a = set()\n",
    "    print('\\t 기본 :', end= ' ')\n",
    "    for j in range(num):\n",
    "        a.add(vectorizer.get_feature_names()[w[i][j][0]])\n",
    "        print(vectorizer.get_feature_names()[w[i][j][0]], end=', ')\n",
    "    print()\n",
    "    print('\\t 개선 :', end= ' ')\n",
    "    b = set()\n",
    "    cnt = 0\n",
    "    for x in target_w:\n",
    "        if cnt > num:\n",
    "            break\n",
    "        if x not in remove_w:\n",
    "            attribute[name].append(vectorizer.get_feature_names()[x])\n",
    "            print(vectorizer.get_feature_names()[x], end=', ')\n",
    "            cnt += 1\n",
    "    print()\n",
    "    \n",
    "    print('\\t 제거 :', a-b)\n",
    "    print()\n",
    "    \n",
    "    "
   ]
  },
  {
   "cell_type": "code",
   "execution_count": 103,
   "id": "779cd1a2",
   "metadata": {},
   "outputs": [
    {
     "data": {
      "text/plain": [
       "<matplotlib.collections.PathCollection at 0x7ff75ce89eb0>"
      ]
     },
     "execution_count": 103,
     "metadata": {},
     "output_type": "execute_result"
    },
    {
     "data": {
      "image/png": "[encoded data removed]",
      "text/plain": [
       "<Figure size 432x288 with 1 Axes>"
      ]
     },
     "metadata": {},
     "output_type": "display_data"
    }
   ],
   "source": [
    "from sklearn.decomposition import PCA\n",
    "pca = PCA(n_components=2)\n",
    "pc_A = pca.fit_transform(A)\n",
    "pc_B = pca.fit_transform(B)\n",
    "pc_X = pca.fit_transform(X)\n",
    "pc_Y = pca.fit_transform(Y)\n",
    "\n",
    "import matplotlib.pyplot as plt\n",
    "fig, ax = plt.subplots()\n",
    "ax.scatter(pc_A[:,0],pc_A[:,1], c='blue', label='A',marker='o')\n",
    "ax.scatter(pc_B[:,0],pc_B[:,1], c='red', label='B', marker='^')\n",
    "ax.scatter(pc_X[:,0],pc_X[:,1], c='blue', label='X', marker='x')\n",
    "ax.scatter(pc_Y[:,0],pc_Y[:,1], c='red', label='Y', marker='s')"
   ]
  },
  {
   "cell_type": "code",
   "execution_count": null,
   "id": "709a7b4a",
   "metadata": {},
   "outputs": [],
   "source": []
  },
  {
   "cell_type": "markdown",
   "id": "7e736cd2",
   "metadata": {},
   "source": [
    "# STEP 4. WEAT score 계산과 시각화\n",
    "\n",
    "영화 구분, 영화 장르에 따른 편향성을 측정하여 WEAT score로 계산해 보고 이를 Heatmap 형태로 시각화해 봅시다. 편향성이 두드러지는 영화장르 attribute 구성에는 어떤 케이스가 있는지 시각적으로 두드러지게 구성되면 좋습니다."
   ]
  },
  {
   "cell_type": "code",
   "execution_count": 28,
   "id": "27764a85",
   "metadata": {},
   "outputs": [],
   "source": [
    "def cos_sim(i, j):\n",
    "    return dot(i, j.T)/(norm(i)*norm(j))\n",
    "\n",
    "def s(w, A, B):\n",
    "    c_a = cos_sim(w, A)\n",
    "    c_b = cos_sim(w, B)\n",
    "    mean_A = np.mean(c_a, axis=-1)\n",
    "    mean_B = np.mean(c_b, axis=-1)\n",
    "    return mean_A - mean_B #, c_a, c_b\n",
    "\n",
    "def weat_score(X, Y, A, B):\n",
    "    # X : art\n",
    "    # Y : gen\n",
    "    \n",
    "    # X(art)에 대해 A 와 B 중에 누가 더 가깝냐 \n",
    "    s_X = s(X, A, B) # 양수면 A 단어들이 art에 가깝다. 음수면 B 단어들이 art에 가깝다\n",
    "    # Y(gen)에 대해 A 와 B 중에 누가 더 가깝냐 \n",
    "    s_Y = s(Y, A, B)\n",
    "\n",
    "    mean_X = np.mean(s_X) # A, B 가 art와의 거리\n",
    "    mean_Y = np.mean(s_Y)\n",
    "    \n",
    "    std_dev = np.std(np.concatenate([s_X, s_Y], axis=0))\n",
    "    \n",
    "    return  (mean_X-mean_Y)/std_dev \n",
    "# 양수 : Y보다 X에 더 가깝다\n",
    "# 음수 : X보다 Y에 더"
   ]
  },
  {
   "cell_type": "code",
   "execution_count": 53,
   "id": "23edf0a7",
   "metadata": {},
   "outputs": [],
   "source": [
    "matrix = [[0 for _ in range(len(genre_name))] for _ in range(len(genre_name))]\n",
    "\n",
    "X = np.array([model.wv[word] for word in target['art']])\n",
    "Y = np.array([model.wv[word] for word in target['gen']])\n",
    "\n",
    "for i in range(len(genre_name)-1):\n",
    "    for j in range(i+1, len(genre_name)):\n",
    "        A = np.array([model.wv[word] for word in attribute[list(attribute.keys())[i]]])\n",
    "        B = np.array([model.wv[word] for word in attribute[list(attribute.keys())[j]]])\n",
    "        matrix[i][j] = weat_score(X, Y, A, B)\n"
   ]
  },
  {
   "cell_type": "code",
   "execution_count": 64,
   "id": "5eeac9b2",
   "metadata": {},
   "outputs": [],
   "source": [
    "results_list = list()\n",
    "for i in range(len(genre_name)-1):\n",
    "    for j in range(i+1, len(genre_name)):\n",
    "        if abs(matrix[i][j]) >= 0.8:\n",
    "            results_list.append([genre_name[i], genre_name[j],matrix[i][j]])"
   ]
  },
  {
   "cell_type": "code",
   "execution_count": 101,
   "id": "ad4996c7",
   "metadata": {},
   "outputs": [
    {
     "name": "stdout",
     "output_type": "stream",
     "text": [
      "어드벤처 vs 전쟁,1.0231881141662598\n",
      "\t▶결론 : 어드벤처 -> 예술(art), 전쟁 -> 일반(gen)]\n",
      "가족 vs 애니메이션,0.927099883556366\n",
      "\t▶결론 : 가족 -> 예술(art), 애니메이션 -> 일반(gen)]\n",
      "서부극(웨스턴) vs 전쟁,0.9250533580780029\n",
      "\t▶결론 : 서부극(웨스턴) -> 예술(art), 전쟁 -> 일반(gen)]\n",
      "멜로로맨스 vs 성인물(에로),0.9149858355522156\n",
      "\t▶결론 : 멜로로맨스 -> 예술(art), 성인물(에로) -> 일반(gen)]\n",
      "공포(호러) vs 애니메이션,0.9084294438362122\n",
      "\t▶결론 : 공포(호러) -> 예술(art), 애니메이션 -> 일반(gen)]\n",
      "공포(호러) vs 전쟁,0.8957229852676392\n",
      "\t▶결론 : 공포(호러) -> 예술(art), 전쟁 -> 일반(gen)]\n",
      "미스터리 vs 전쟁,0.8748757839202881\n",
      "\t▶결론 : 미스터리 -> 예술(art), 전쟁 -> 일반(gen)]\n",
      "공포(호러) vs 다큐멘터리,0.865187406539917\n",
      "\t▶결론 : 공포(호러) -> 예술(art), 다큐멘터리 -> 일반(gen)]\n",
      "가족 vs 뮤지컬,0.8550657629966736\n",
      "\t▶결론 : 가족 -> 예술(art), 뮤지컬 -> 일반(gen)]\n",
      "미스터리 vs 애니메이션,0.8498052954673767\n",
      "\t▶결론 : 미스터리 -> 예술(art), 애니메이션 -> 일반(gen)]\n",
      "드라마 vs 애니메이션,0.8452818989753723\n",
      "\t▶결론 : 드라마 -> 예술(art), 애니메이션 -> 일반(gen)]\n",
      "공포(호러) vs 뮤지컬,0.8397587537765503\n",
      "\t▶결론 : 공포(호러) -> 예술(art), 뮤지컬 -> 일반(gen)]\n",
      "가족 vs 다큐멘터리,0.8251227736473083\n",
      "\t▶결론 : 가족 -> 예술(art), 다큐멘터리 -> 일반(gen)]\n",
      "공포(호러) vs 드라마,0.8213078379631042\n",
      "\t▶결론 : 공포(호러) -> 예술(art), 드라마 -> 일반(gen)]\n",
      "가족 vs 공연,0.8210223913192749\n",
      "\t▶결론 : 가족 -> 예술(art), 공연 -> 일반(gen)]\n",
      "사극 vs 전쟁,0.8170462250709534\n",
      "\t▶결론 : 사극 -> 예술(art), 전쟁 -> 일반(gen)]\n",
      "가족 vs 전쟁,0.8079248070716858\n",
      "\t▶결론 : 가족 -> 예술(art), 전쟁 -> 일반(gen)]\n",
      "가족 vs 드라마,0.8077255487442017\n",
      "\t▶결론 : 가족 -> 예술(art), 드라마 -> 일반(gen)]\n",
      "액션 vs 전쟁,0.804638147354126\n",
      "\t▶결론 : 액션 -> 예술(art), 전쟁 -> 일반(gen)]\n",
      "공연 vs 판타지,-0.8057540059089661\n",
      "\t▶결론 : 판타지 -> 예술(art), 공연 -> 일반(gen)]\n",
      "공연 vs 공포(호러),-0.8155325055122375\n",
      "\t▶결론 : 공포(호러) -> 예술(art), 공연 -> 일반(gen)]\n",
      "SF vs 공포(호러),-0.8556051254272461\n",
      "\t▶결론 : 공포(호러) -> 예술(art), SF -> 일반(gen)]\n",
      "기타 vs 판타지,-0.8645377159118652\n",
      "\t▶결론 : 판타지 -> 예술(art), 기타 -> 일반(gen)]\n",
      "기타 vs 어드벤처,-0.8962428569793701\n",
      "\t▶결론 : 어드벤처 -> 예술(art), 기타 -> 일반(gen)]\n",
      "뮤지컬 vs 판타지,-0.9009944796562195\n",
      "\t▶결론 : 판타지 -> 예술(art), 뮤지컬 -> 일반(gen)]\n",
      "드라마 vs 어드벤처,-0.9109865427017212\n",
      "\t▶결론 : 어드벤처 -> 예술(art), 드라마 -> 일반(gen)]\n",
      "드라마 vs 판타지,-0.9144963026046753\n",
      "\t▶결론 : 판타지 -> 예술(art), 드라마 -> 일반(gen)]\n",
      "공연 vs 어드벤처,-0.9191019535064697\n",
      "\t▶결론 : 어드벤처 -> 예술(art), 공연 -> 일반(gen)]\n",
      "다큐멘터리 vs 판타지,-0.9286054968833923\n",
      "\t▶결론 : 판타지 -> 예술(art), 다큐멘터리 -> 일반(gen)]\n",
      "다큐멘터리 vs 어드벤처,-0.9688451290130615\n",
      "\t▶결론 : 어드벤처 -> 예술(art), 다큐멘터리 -> 일반(gen)]\n",
      "뮤지컬 vs 어드벤처,-0.995575487613678\n",
      "\t▶결론 : 어드벤처 -> 예술(art), 뮤지컬 -> 일반(gen)]\n",
      "사극 vs 어드벤처,-1.001146674156189\n",
      "\t▶결론 : 어드벤처 -> 예술(art), 사극 -> 일반(gen)]\n",
      "애니메이션 vs 판타지,-1.0335758924484253\n",
      "\t▶결론 : 판타지 -> 예술(art), 애니메이션 -> 일반(gen)]\n",
      "SF vs 어드벤처,-1.0616244077682495\n",
      "\t▶결론 : 어드벤처 -> 예술(art), SF -> 일반(gen)]\n",
      "애니메이션 vs 어드벤처,-1.0680087804794312\n",
      "\t▶결론 : 어드벤처 -> 예술(art), 애니메이션 -> 일반(gen)]\n"
     ]
    }
   ],
   "source": [
    "results_list = sorted(results_list, key= lambda x : x[2], reverse=True )\n",
    "for a, b, score in results_list:\n",
    "    print(f'{a} vs {b},{score}')\n",
    "    print('\\t',end='')\n",
    "    if score > 0 :\n",
    "        print(f'▶결론 : {a} -> 예술(art), {b} -> 일반(gen)]')\n",
    "    else:\n",
    "        print(f'▶결론 : {b} -> 예술(art), {a} -> 일반(gen)]')"
   ]
  },
  {
   "cell_type": "code",
   "execution_count": 36,
   "id": "d527e38b",
   "metadata": {},
   "outputs": [
    {
     "data": {
      "image/png": "[encoded data removed]",
      "text/plain": [
       "<Figure size 1152x864 with 2 Axes>"
      ]
     },
     "metadata": {},
     "output_type": "display_data"
    }
   ],
   "source": [
    "np.random.seed(0)\n",
    "\n",
    "# 한글 지원 폰트\n",
    "sns.set(font='NanumGothic')\n",
    "\n",
    "# 마이너스 부호\n",
    "plt.rcParams['axes.unicode_minus'] = False\n",
    "\n",
    "\n",
    "# 새로운 그림 생성 및 크기 설정\n",
    "plt.figure(figsize=(16, 12))\n",
    "\n",
    "# 히트맵 그리기\n",
    "ax = sns.heatmap(matrix, xticklabels=genre_name, yticklabels=genre_name, annot=True,  cmap='RdYlGn_r')\n",
    "\n",
    "# 그림 보여주기\n",
    "plt.show()\n"
   ]
  },
  {
   "cell_type": "markdown",
   "id": "7c715af4",
   "metadata": {},
   "source": [
    "# 평가항목\n",
    "\n",
    "|Num| 평가문항|\t상세기준|\n",
    "|:---:|:---|:---|\n",
    "|1|주어진 영화 코퍼스를 바탕으로 `워드임베딩 모델을 정상적`으로 만들었다.\t|워드임베딩의 `most_similar()` 메소드 결과가 의미상 바르게 나왔다.|\n",
    "|2|영화 구분, 장르별로 `target, attribute에 대한 대표성있는 단어 셋을 생성`하였다.|\t타당한 방법론을 통해 중복이 잘 제거되고 개념축을 의미적으로 잘 대표하는 단어 셋이 만들어졌다.|\n",
    "|3| `WEAT score 계산 및 시각화`를 정상적으로 진행하였다.\t|전체 영화 장르별로 예술/일반 영화에 대한 편향성 WEAT score가 상식에 부합하는 수치로 얻어졌으며 이를 잘 시각화하였다.|"
   ]
  },
  {
   "cell_type": "code",
   "execution_count": null,
   "id": "1da60104",
   "metadata": {},
   "outputs": [],
   "source": []
  },
  {
   "cell_type": "code",
   "execution_count": null,
   "id": "91d7fde7",
   "metadata": {},
   "outputs": [],
   "source": []
  }
 ],
 "metadata": {
  "kernelspec": {
   "display_name": "Python 3 (ipykernel)",
   "language": "python",
   "name": "python3"
  },
  "language_info": {
   "codemirror_mode": {
    "name": "ipython",
    "version": 3
   },
   "file_extension": ".py",
   "mimetype": "text/x-python",
   "name": "python",
   "nbconvert_exporter": "python",
   "pygments_lexer": "ipython3",
   "version": "3.9.7"
  }
 },
 "nbformat": 4,
 "nbformat_minor": 5
}
