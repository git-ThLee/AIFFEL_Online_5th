{
 "cells": [
  {
   "cell_type": "markdown",
   "id": "289f39af",
   "metadata": {},
   "source": [
    "# Boston 주택 가격 예측 모델"
   ]
  },
  {
   "cell_type": "markdown",
   "id": "2248049a",
   "metadata": {},
   "source": [
    "|feature\t|설명|\n",
    "|:---:|:---|\n",
    "|CRIM|\t자치시별 1인당 범죄율|\n",
    "|ZN|\t25,000 평방피트를 초과하는 거주지역의 비율|\n",
    "|INDUS|\t비소매상업지역이 점유하고 있는 토지의 비율|\n",
    "|CHAS|\t찰스강에 대한 더미변수(강의 경계에 위치한 경우는 1, 아니면 0)|\n",
    "|NOX|\t10ppm 당 농축 일산화질소|\n",
    "|RM\t주택| 1 가구당 평균 방의 개수|\n",
    "|AGE|\t1940년 이전에 건축된 소유주택의 비율|\n",
    "|DIS|\t5개의 보스턴 직업센터까지의 접근성 지수|\n",
    "|RAD|\t방사형 도로까지의 접근성 지수|\n",
    "|TAX|\t10,000 달러당 재산세율|\n",
    "|PTRATIO|\t자치시(town)별 학생/교사 비율|\n",
    "|B|\t자치시별 흑인의 비율을 말함|\n",
    "|LSTAT|\t모집단의 하위계층의 비율(%)|\n",
    "|MEDV|\t본인 소유의 주택가격(중앙값)(단위: $1,000)|"
   ]
  },
  {
   "cell_type": "markdown",
   "id": "b7b18ec8",
   "metadata": {},
   "source": [
    "## 데이터 로드 및 전처리"
   ]
  },
  {
   "cell_type": "code",
   "execution_count": 1,
   "id": "3c04f5e8",
   "metadata": {},
   "outputs": [],
   "source": [
    "from tensorflow.keras import models, layers\n",
    "import matplotlib.pyplot as plt\n",
    "import numpy as np"
   ]
  },
  {
   "cell_type": "code",
   "execution_count": 2,
   "id": "f3b1a3ef",
   "metadata": {},
   "outputs": [
    {
     "name": "stdout",
     "output_type": "stream",
     "text": [
      "404\n",
      "102\n"
     ]
    }
   ],
   "source": [
    "# keras.datasets 안에 boston_housing 데이터셋을 로드합니다.\n",
    "from keras.datasets import boston_housing\n",
    "\n",
    "(train_data, train_labels), (test_data, test_labels) = boston_housing.load_data()\n",
    "\n",
    "# 데이터셋의 크기를 확인합니다.\n",
    "print(len(train_data))\n",
    "print(len(test_data))"
   ]
  },
  {
   "cell_type": "code",
   "execution_count": 3,
   "id": "4f155b45",
   "metadata": {},
   "outputs": [],
   "source": [
    "# 문제 1-1: 데이터셋의 전처리를 위해 표준화 작업을 수행합니다.\n",
    "# 먼저 입력 데이터의 각 특성의 평균을 뺍니다.\n",
    "feature_means = np.mean(train_data, axis=0)\n",
    "train_data = train_data - feature_means\n",
    "\n",
    "# 평균을 뺀 입력 데이터에서 표준편차를 나눕니다.\n",
    "# 데이터 특성의 중앙이 0에 가깝게 만들고, 표준편차가 1이 되게 만듭니다.\n",
    "feature_stdev = np.std(train_data, axis=0)\n",
    "train_data = train_data / feature_stdev\n",
    "\n",
    "# 테스트 데이터셋도 마찬가지로 평균을 빼고, 표준편차로 나눕니다.\n",
    "feature_means_test = np.mean(train_data, axis=0)\n",
    "test_data = test_data - feature_means_test\n",
    "\n",
    "# 평균을 뺀 입력 데이터에서 표준편차를 나눕니다.\n",
    "# 데이터 특성의 중앙이 0에 가깝게 만들고, 표준편차가 1이 되게 만듭니다.\n",
    "feature_stdev_test = np.std(train_data, axis=0)\n",
    "test_data = test_data / feature_stdev_test"
   ]
  },
  {
   "cell_type": "markdown",
   "id": "5bf6764c",
   "metadata": {},
   "source": [
    "## 모델 구성 및 컴파일\n",
    "\n",
    "Sequential() 함수를 이용한 `Sequential API 방법`으로 딥러닝 모델을 구성해 보세요."
   ]
  },
  {
   "cell_type": "code",
   "execution_count": 4,
   "id": "4f877df3",
   "metadata": {},
   "outputs": [],
   "source": [
    "# 문제 1-2: 주택 가격 예측을 위한 딥러닝 모델 구성 및 컴파일합니다.\n",
    "# input_shape은 (train_data.shape[1], )으로 구성합니다.\n",
    "# 회귀(예측)을 위한 모델이므로 loss를 mse, metrics를 mae로 사용합니다.\n",
    "from tensorflow.keras.models import Sequential\n",
    "from tensorflow.keras.layers import Dense\n",
    "\n",
    "# 입력 데이터의 shape 설정\n",
    "input_shape = (train_data.shape[1], )\n",
    "\n",
    "# 딥러닝 모델 구성\n",
    "model = Sequential()\n",
    "model.add(Dense(64, activation='relu', input_shape=input_shape))\n",
    "model.add(Dense(64, activation='relu'))\n",
    "model.add(Dense(1))\n",
    "\n",
    "#model.add(layers.BatchNormalization())\n",
    "# model.add(layers.Dropout(0.2))\n",
    "\n",
    "# 모델 컴파일\n",
    "model.compile(loss='mse',  # 회귀 문제이므로 평균 제곱 오차(MSE)를 사용\n",
    "              optimizer='rmsprop',\n",
    "              metrics=['mae']\n",
    "             )  # 평가 지표로 평균 절대 오차(MAE)를 사용\n"
   ]
  },
  {
   "cell_type": "markdown",
   "id": "a9d0e416",
   "metadata": {},
   "source": [
    "## 모델 학습\n",
    "\n",
    "epochs와 batch size는 자유롭게 설정해 보세요."
   ]
  },
  {
   "cell_type": "code",
   "execution_count": 5,
   "id": "e08c9715",
   "metadata": {},
   "outputs": [
    {
     "name": "stdout",
     "output_type": "stream",
     "text": [
      "Epoch 1/100\n",
      "21/21 [==============================] - 1s 11ms/step - loss: 508.1431 - mae: 20.6228 - val_loss: 494.8457 - val_mae: 20.3873\n",
      "Epoch 2/100\n",
      "21/21 [==============================] - 0s 4ms/step - loss: 361.2597 - mae: 16.9605 - val_loss: 325.3681 - val_mae: 16.0547\n",
      "Epoch 3/100\n",
      "21/21 [==============================] - 0s 4ms/step - loss: 205.0747 - mae: 12.0970 - val_loss: 172.4594 - val_mae: 10.7445\n",
      "Epoch 4/100\n",
      "21/21 [==============================] - 0s 4ms/step - loss: 103.0439 - mae: 7.7463 - val_loss: 87.1061 - val_mae: 6.9843\n",
      "Epoch 5/100\n",
      "21/21 [==============================] - 0s 4ms/step - loss: 56.1031 - mae: 5.5166 - val_loss: 51.6241 - val_mae: 5.2432\n",
      "Epoch 6/100\n",
      "21/21 [==============================] - 0s 4ms/step - loss: 39.3268 - mae: 4.5676 - val_loss: 35.6329 - val_mae: 4.4109\n",
      "Epoch 7/100\n",
      "21/21 [==============================] - 0s 4ms/step - loss: 30.2470 - mae: 3.9277 - val_loss: 28.6527 - val_mae: 3.9765\n",
      "Epoch 8/100\n",
      "21/21 [==============================] - 0s 4ms/step - loss: 25.2187 - mae: 3.5845 - val_loss: 25.2764 - val_mae: 3.8406\n",
      "Epoch 9/100\n",
      "21/21 [==============================] - 0s 4ms/step - loss: 22.3177 - mae: 3.3199 - val_loss: 22.6555 - val_mae: 3.6913\n",
      "Epoch 10/100\n",
      "21/21 [==============================] - 0s 3ms/step - loss: 19.7979 - mae: 3.1662 - val_loss: 20.2157 - val_mae: 3.3552\n",
      "Epoch 11/100\n",
      "21/21 [==============================] - 0s 4ms/step - loss: 18.2734 - mae: 2.9963 - val_loss: 18.5881 - val_mae: 3.2323\n",
      "Epoch 12/100\n",
      "21/21 [==============================] - 0s 3ms/step - loss: 16.4708 - mae: 2.8430 - val_loss: 17.8020 - val_mae: 3.1291\n",
      "Epoch 13/100\n",
      "21/21 [==============================] - 0s 4ms/step - loss: 14.9660 - mae: 2.6751 - val_loss: 16.9546 - val_mae: 3.0114\n",
      "Epoch 14/100\n",
      "21/21 [==============================] - 0s 4ms/step - loss: 14.2205 - mae: 2.5651 - val_loss: 16.6649 - val_mae: 3.0452\n",
      "Epoch 15/100\n",
      "21/21 [==============================] - 0s 3ms/step - loss: 13.7191 - mae: 2.5825 - val_loss: 16.2331 - val_mae: 2.9196\n",
      "Epoch 16/100\n",
      "21/21 [==============================] - 0s 3ms/step - loss: 12.8041 - mae: 2.5055 - val_loss: 15.7984 - val_mae: 2.8765\n",
      "Epoch 17/100\n",
      "21/21 [==============================] - 0s 3ms/step - loss: 12.0471 - mae: 2.4001 - val_loss: 15.0317 - val_mae: 2.9128\n",
      "Epoch 18/100\n",
      "21/21 [==============================] - 0s 3ms/step - loss: 11.7717 - mae: 2.4017 - val_loss: 15.9298 - val_mae: 2.8639\n",
      "Epoch 19/100\n",
      "21/21 [==============================] - 0s 3ms/step - loss: 11.3333 - mae: 2.3566 - val_loss: 16.1809 - val_mae: 2.9319\n",
      "Epoch 20/100\n",
      "21/21 [==============================] - 0s 3ms/step - loss: 11.0232 - mae: 2.3381 - val_loss: 14.4477 - val_mae: 2.8503\n",
      "Epoch 21/100\n",
      "21/21 [==============================] - 0s 4ms/step - loss: 10.3910 - mae: 2.2848 - val_loss: 14.6988 - val_mae: 2.8256\n",
      "Epoch 22/100\n",
      "21/21 [==============================] - 0s 3ms/step - loss: 10.4751 - mae: 2.2761 - val_loss: 14.0161 - val_mae: 2.8019\n",
      "Epoch 23/100\n",
      "21/21 [==============================] - 0s 3ms/step - loss: 9.9827 - mae: 2.1669 - val_loss: 14.3224 - val_mae: 2.7230\n",
      "Epoch 24/100\n",
      "21/21 [==============================] - 0s 4ms/step - loss: 9.7815 - mae: 2.2082 - val_loss: 14.0125 - val_mae: 2.7633\n",
      "Epoch 25/100\n",
      "21/21 [==============================] - 0s 4ms/step - loss: 9.6861 - mae: 2.1997 - val_loss: 14.1341 - val_mae: 2.7640\n",
      "Epoch 26/100\n",
      "21/21 [==============================] - 0s 3ms/step - loss: 9.7258 - mae: 2.1644 - val_loss: 14.8956 - val_mae: 2.6964\n",
      "Epoch 27/100\n",
      "21/21 [==============================] - 0s 4ms/step - loss: 9.2577 - mae: 2.1506 - val_loss: 14.1783 - val_mae: 2.7643\n",
      "Epoch 28/100\n",
      "21/21 [==============================] - 0s 3ms/step - loss: 9.3017 - mae: 2.1547 - val_loss: 14.4191 - val_mae: 2.7406\n",
      "Epoch 29/100\n",
      "21/21 [==============================] - 0s 3ms/step - loss: 8.9609 - mae: 2.1156 - val_loss: 15.5571 - val_mae: 2.9923\n",
      "Epoch 30/100\n",
      "21/21 [==============================] - 0s 3ms/step - loss: 8.9152 - mae: 2.0831 - val_loss: 15.2037 - val_mae: 2.8477\n",
      "Epoch 31/100\n",
      "21/21 [==============================] - 0s 4ms/step - loss: 8.9410 - mae: 2.0813 - val_loss: 14.5872 - val_mae: 2.7889\n",
      "Epoch 32/100\n",
      "21/21 [==============================] - 0s 4ms/step - loss: 8.7145 - mae: 2.0643 - val_loss: 14.2798 - val_mae: 2.7804\n",
      "Epoch 33/100\n",
      "21/21 [==============================] - 0s 4ms/step - loss: 8.6607 - mae: 2.0486 - val_loss: 13.9546 - val_mae: 2.7345\n",
      "Epoch 34/100\n",
      "21/21 [==============================] - 0s 4ms/step - loss: 8.3743 - mae: 2.0537 - val_loss: 13.9028 - val_mae: 2.7561\n",
      "Epoch 35/100\n",
      "21/21 [==============================] - 0s 3ms/step - loss: 8.7529 - mae: 2.0262 - val_loss: 14.5858 - val_mae: 2.6976\n",
      "Epoch 36/100\n",
      "21/21 [==============================] - 0s 3ms/step - loss: 8.1617 - mae: 2.0088 - val_loss: 14.1034 - val_mae: 2.6435\n",
      "Epoch 37/100\n",
      "21/21 [==============================] - 0s 4ms/step - loss: 8.2163 - mae: 2.0017 - val_loss: 15.3165 - val_mae: 2.6884\n",
      "Epoch 38/100\n",
      "21/21 [==============================] - 0s 3ms/step - loss: 8.2306 - mae: 2.0422 - val_loss: 13.8169 - val_mae: 2.7769\n",
      "Epoch 39/100\n",
      "21/21 [==============================] - 0s 3ms/step - loss: 8.1750 - mae: 1.9619 - val_loss: 13.8999 - val_mae: 2.6048\n",
      "Epoch 40/100\n",
      "21/21 [==============================] - 0s 3ms/step - loss: 7.9937 - mae: 1.9863 - val_loss: 14.5945 - val_mae: 2.7770\n",
      "Epoch 41/100\n",
      "21/21 [==============================] - 0s 3ms/step - loss: 7.9209 - mae: 1.9637 - val_loss: 13.9854 - val_mae: 2.5961\n",
      "Epoch 42/100\n",
      "21/21 [==============================] - 0s 4ms/step - loss: 7.9259 - mae: 1.9679 - val_loss: 14.1987 - val_mae: 2.7016\n",
      "Epoch 43/100\n",
      "21/21 [==============================] - 0s 3ms/step - loss: 7.9126 - mae: 1.9232 - val_loss: 15.6420 - val_mae: 2.7384\n",
      "Epoch 44/100\n",
      "21/21 [==============================] - 0s 4ms/step - loss: 8.0289 - mae: 2.0113 - val_loss: 15.1987 - val_mae: 2.7146\n",
      "Epoch 45/100\n",
      "21/21 [==============================] - 0s 3ms/step - loss: 7.6374 - mae: 1.9292 - val_loss: 14.3180 - val_mae: 2.6492\n",
      "Epoch 46/100\n",
      "21/21 [==============================] - 0s 3ms/step - loss: 7.5515 - mae: 1.9512 - val_loss: 14.2318 - val_mae: 2.6173\n",
      "Epoch 47/100\n",
      "21/21 [==============================] - 0s 4ms/step - loss: 7.6151 - mae: 1.9268 - val_loss: 13.8165 - val_mae: 2.6583\n",
      "Epoch 48/100\n",
      "21/21 [==============================] - 0s 4ms/step - loss: 7.4543 - mae: 1.8879 - val_loss: 13.9914 - val_mae: 2.6532\n",
      "Epoch 49/100\n",
      "21/21 [==============================] - 0s 3ms/step - loss: 7.3123 - mae: 1.9003 - val_loss: 16.8829 - val_mae: 2.7434\n",
      "Epoch 50/100\n",
      "21/21 [==============================] - 0s 4ms/step - loss: 7.5650 - mae: 1.9819 - val_loss: 13.8474 - val_mae: 2.6621\n",
      "Epoch 51/100\n",
      "21/21 [==============================] - 0s 4ms/step - loss: 7.2320 - mae: 1.8870 - val_loss: 15.2824 - val_mae: 2.6593\n",
      "Epoch 52/100\n",
      "21/21 [==============================] - 0s 3ms/step - loss: 7.2674 - mae: 1.8878 - val_loss: 13.9778 - val_mae: 2.6582\n",
      "Epoch 53/100\n",
      "21/21 [==============================] - 0s 3ms/step - loss: 7.3344 - mae: 1.9236 - val_loss: 14.4155 - val_mae: 2.6509\n",
      "Epoch 54/100\n",
      "21/21 [==============================] - 0s 4ms/step - loss: 6.9388 - mae: 1.8531 - val_loss: 14.4290 - val_mae: 2.6816\n",
      "Epoch 55/100\n",
      "21/21 [==============================] - 0s 4ms/step - loss: 6.9125 - mae: 1.8230 - val_loss: 14.2278 - val_mae: 2.6828\n",
      "Epoch 56/100\n",
      "21/21 [==============================] - 0s 3ms/step - loss: 7.2130 - mae: 1.8937 - val_loss: 14.5703 - val_mae: 2.6498\n",
      "Epoch 57/100\n",
      "21/21 [==============================] - 0s 3ms/step - loss: 6.9170 - mae: 1.8161 - val_loss: 14.8165 - val_mae: 2.6295\n"
     ]
    }
   ],
   "source": [
    "# 문제 1-3: 예측을 위한 딥러닝 모델을 학습합니다.\n",
    "from tensorflow.keras import callbacks\n",
    "\n",
    "early_stopping_cb = callbacks.EarlyStopping(\n",
    "    patience=10, \n",
    "    monitor='val_loss',\n",
    "    restore_best_weights=True\n",
    ")\n",
    "\n",
    "history = model.fit(train_data, train_labels,\n",
    "                    epochs=100,  # 학습 에포크 수 설정\n",
    "                    batch_size=16,  # 미니배치 크기 설정\n",
    "                    validation_split=0.2,\n",
    "                    callbacks=[early_stopping_cb])  # 검증 데이터 비율 설정\n"
   ]
  },
  {
   "cell_type": "code",
   "execution_count": 6,
   "id": "c33f7809",
   "metadata": {},
   "outputs": [
    {
     "data": {
      "image/png": "[encoded data removed]",
      "text/plain": [
       "<Figure size 864x360 with 2 Axes>"
      ]
     },
     "metadata": {},
     "output_type": "display_data"
    }
   ],
   "source": [
    "# 모델 학습 히스토리에서 loss, val_loss, mae, val_mae를 차트로 보여줍니다.\n",
    "plt.style.use('seaborn-white')\n",
    "\n",
    "history_dict = history.history\n",
    "\n",
    "loss = history_dict['loss']\n",
    "val_loss = history_dict['val_loss']\n",
    "\n",
    "epochs = range(1, len(loss) + 1)\n",
    "fig = plt.figure(figsize=(12, 5))\n",
    "\n",
    "ax1 = fig.add_subplot(1, 2, 1)\n",
    "ax1.plot(epochs, loss, 'b-', label='train_loss')\n",
    "ax1.plot(epochs, val_loss, 'r-', label='val_loss')\n",
    "ax1.set_title('Train and Validation Loss')\n",
    "ax1.set_xlabel('Epochs')\n",
    "ax1.set_ylabel('Loss')\n",
    "ax1.grid()\n",
    "ax1.legend()\n",
    "\n",
    "mae = history_dict['mae']\n",
    "val_mae = history_dict['val_mae']\n",
    "\n",
    "ax2 = fig.add_subplot(1, 2, 2)\n",
    "ax2.plot(epochs, mae, 'b-', label='train_mae')\n",
    "ax2.plot(epochs, val_mae, 'r-', label='val_mae')\n",
    "ax2.set_title('Train and Validation MAE')\n",
    "ax2.set_xlabel('Epochs')\n",
    "ax2.set_ylabel('Accuracy')\n",
    "ax2.grid()\n",
    "ax2.legend()\n",
    "\n",
    "plt.show()"
   ]
  },
  {
   "cell_type": "markdown",
   "id": "9a3fb707",
   "metadata": {},
   "source": [
    "## 모델 평가 및 예측\n",
    "\n",
    "테스트 데이터를 가져와 모델 성능을 평가해 보겠습니다."
   ]
  },
  {
   "cell_type": "code",
   "execution_count": 7,
   "id": "7ad61381",
   "metadata": {},
   "outputs": [
    {
     "name": "stdout",
     "output_type": "stream",
     "text": [
      "4/4 [==============================] - 0s 2ms/step - loss: 6438619.0000 - mae: 2474.7410\n",
      "평균 제곱 오차 (loss): 6438619.0\n",
      "평균 절대 오차 (MAE): 2474.740966796875\n"
     ]
    }
   ],
   "source": [
    "# 문제 1-4: 테스트 데이터셋을 이용해 모델을 평가합니다.\n",
    "loss, mae = model.evaluate(test_data, test_labels)\n",
    "\n",
    "print(f\"평균 제곱 오차 (loss): {loss}\")\n",
    "print(f\"평균 절대 오차 (MAE): {mae}\")\n"
   ]
  },
  {
   "cell_type": "code",
   "execution_count": null,
   "id": "de096a3b",
   "metadata": {},
   "outputs": [],
   "source": []
  },
  {
   "cell_type": "code",
   "execution_count": null,
   "id": "48d3a2d0",
   "metadata": {},
   "outputs": [],
   "source": []
  }
 ],
 "metadata": {
  "kernelspec": {
   "display_name": "Python 3 (ipykernel)",
   "language": "python",
   "name": "python3"
  },
  "language_info": {
   "codemirror_mode": {
    "name": "ipython",
    "version": 3
   },
   "file_extension": ".py",
   "mimetype": "text/x-python",
   "name": "python",
   "nbconvert_exporter": "python",
   "pygments_lexer": "ipython3",
   "version": "3.9.7"
  }
 },
 "nbformat": 4,
 "nbformat_minor": 5
}
